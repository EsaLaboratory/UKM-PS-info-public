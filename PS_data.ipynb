{
 "cells": [
  {
   "cell_type": "code",
   "execution_count": 1,
   "id": "6e78be9a",
   "metadata": {
    "pycharm": {
     "name": "#%%\n"
    },
    "ExecuteTime": {
     "end_time": "2024-03-24T14:01:59.317222Z",
     "start_time": "2024-03-24T14:01:58.514225500Z"
    }
   },
   "outputs": [],
   "source": [
    "import numpy as np\n",
    "import pandas as pd\n",
    "import matplotlib.pyplot as plt\n",
    "import os\n",
    "import copy\n",
    "from copy import deepcopy\n",
    "import geopandas as gpd\n",
    "import geopy"
   ]
  },
  {
   "cell_type": "markdown",
   "source": [
    "## Step 0 set up the data root path and load network data"
   ],
   "metadata": {
    "collapsed": false
   },
   "id": "b92247b8e456badf"
  },
  {
   "cell_type": "code",
   "execution_count": 2,
   "id": "dd6da874",
   "metadata": {
    "pycharm": {
     "name": "#%%\n"
    },
    "ExecuteTime": {
     "end_time": "2024-03-24T14:02:02.387222200Z",
     "start_time": "2024-03-24T14:01:59.324225300Z"
    }
   },
   "outputs": [],
   "source": [
    "network_root_path = os.path.join(os.getcwd(), 'GB_PrimarySubstation_Data')\n",
    "\n",
    "SSEN = os.path.join(network_root_path, 'SSEN')\n",
    "UKPN = os.path.join(network_root_path, 'UK Power Networks')\n",
    "WPD = os.path.join(network_root_path, 'Western Power Distribution')\n",
    "ENW = os.path.join(network_root_path, 'Electricity Northwest')\n",
    "NPG = os.path.join(network_root_path, 'NorthernPowergrid')\n",
    "SPEN = os.path.join(network_root_path, 'SPEN')\n",
    "\n",
    "# ukpn is for primary substation only\n",
    "ukpn = pd.read_csv(os.path.join(UKPN, 'ukpn_primary_postcode_area.csv'))\n",
    "ukpn[\"PrimarySu\"] = ukpn[\"PrimarySu\"].str.split(\" \").str[:-1].str.join(\" \")\n",
    "\n",
    "# enw is for primary substation only\n",
    "enw = pd.read_excel(os.path.join(ENW, 'table-3---load-data.xlsx'), header=[3], sheet_name = \"Pry Load Table\")\n",
    "# drop those with nan ps name. those are not data entries but remarks\n",
    "enw = enw[~enw.iloc[:,1].isna()]\n",
    "# enw has duplicated PS names (col 1), so we need to drop them (only 2, and they are validated to be exactly the same PS)\n",
    "enw.drop_duplicates(subset=[\"Substation or Busbar Name\"], keep=\"first\", inplace=True, ignore_index=True)\n",
    "\n",
    "# npg data has Primary substation indicator, we select PS only\n",
    "npg_ne = pd.read_excel(os.path.join(NPG, 'network.xlsx'), sheet_name=\"Northeast Demand\", header=[0,1,2,3,4])\n",
    "npg_ne = npg_ne[npg_ne.iloc[:,-1].str.contains(\"rimary\")]\n",
    "\n",
    "npg_york = pd.read_excel(os.path.join(NPG, 'network.xlsx'), sheet_name=\"Yorkshire Demand\", header=[0,1,2,3,4])\n",
    "npg_york = npg_york[npg_york.iloc[:,-1].str.contains(\"rimary\")]\n",
    "\n",
    "# spen is for primary substation only\n",
    "spd = pd.read_excel(os.path.join(SPEN, 'SPD LTDS 2023 Appendix 3 System Loads (Table 3).xlsx'), header=[2,3])\n",
    "spm = pd.read_excel(os.path.join(SPEN, 'Appendix 3 System Loads (Table 3) SPM 2023.xlsx'), sheet_name=\"Table 3 - System Loads_HV\", header=[2,3,4])\n",
    "# for spm, enumerate the first column (PS group name) to fill NAs as the PS group name only appears for the first PS in a PS group.\n",
    "# this did not happen for spm datasheet in 2022...\n",
    "spm.iloc[:,0] = spm.iloc[:,0].fillna(method='ffill')\n",
    "\n",
    "# ssen is for primary substation only\n",
    "SEPD = pd.read_excel(os.path.join(SSEN, \"sepd-network-headroom-report.xlsx\"), sheet_name=\"Primary Headroom Dem\", header=[0,1])\n",
    "SEPD = SEPD[SEPD.iloc[:,4] == \"MINIMUM HEADROOM\"]\n",
    "SEPD = pd.concat([SEPD.iloc[:,3].str.lower(), SEPD[\"Demand Headroom Winter MVA\"][2023], SEPD[\"Demand Headroom Summer MVA\"][2023], SEPD[\"Demand Headroom Spring/Autumn MVA\"][2023]], axis=1)\n",
    "SEPD = pd.DataFrame(data = SEPD.values, columns=[\"PS Name\", \"Demand Headroom Winter (MVA)\", \"Demand Headroom Summer (MVA)\", \"Demand Headroom Spring/Autumn (MVA)\"])\n",
    "\n",
    "SHEPD = pd.read_excel(os.path.join(SSEN, \"shepd-network-headroom-report.xlsx\"), sheet_name=\"Primary Headroom Dem\", header=[0,1])\n",
    "SHEPD = SHEPD[SHEPD.iloc[:,3] == \"MINIMUM HEADROOM\"]\n",
    "SHEPD = pd.concat([SHEPD.iloc[:,2].str.lower(), SHEPD[\"Demand Headroom Winter MVA\"][2023], SHEPD[\"Demand Headroom Summer MVA\"][2023], SHEPD[\"Demand Headroom Spring/Autumn MVA\"][2023]], axis=1)\n",
    "SHEPD = pd.DataFrame(data = SHEPD.values, columns=[\"PS Name\", \"Demand Headroom Winter (MVA)\", \"Demand Headroom Summer (MVA)\", \"Demand Headroom Spring/Autumn (MVA)\"])\n",
    "\n",
    "ssen = pd.concat([SEPD, SHEPD], axis = 0)\n",
    "# set headroom to the minimum of the three seasons\n",
    "ssen[\"Demand Headroom (MVA)\"] = ssen.iloc[:,1:].min(axis=1)\n",
    "ssen.drop(columns = [\"Demand Headroom Winter (MVA)\", \"Demand Headroom Summer (MVA)\", \"Demand Headroom Spring/Autumn (MVA)\"], inplace=True)\n",
    "del SEPD\n",
    "del SHEPD\n",
    "\n",
    "# load WPD data\n",
    "wpd = pd.read_csv(os.path.join(WPD, \"WPD Geo and Network Capacity Map 28-02-2023.csv\"))\n",
    "# select PS\n",
    "wpd = wpd[wpd[\"Asset Type\"] == \"Primary\"]"
   ]
  },
  {
   "cell_type": "code",
   "execution_count": 3,
   "outputs": [
    {
     "data": {
      "text/plain": "PSname\nABERDYFI T1                                                                      1\nABERGELE T1 / PENSARN T1                                                         2\nABERSOCH T1                                                                      1\nABERYSTWYTH T1 / NORTH RD T1 / PARC-Y-LLYN T1 / PARC-Y-LLYN T2 / U C WALES T1    5\nACER AVE T1                                                                      1\n                                                                                ..\nWISTASTON HALL T1                                                                1\nWRENBURY FRITH T1                                                                1\nYOCKINGS GATE T1                                                                 1\nYORKSHIRE IMPERIAL METALS                                                        2\nYSBYTY GLAN CLWYD T1                                                             1\nLength: 372, dtype: int64"
     },
     "execution_count": 3,
     "metadata": {},
     "output_type": "execute_result"
    }
   ],
   "source": [
    "spm_copy = spm.copy()\n",
    "spm_copy['PSname'] = spm.iloc[:,0]\n",
    "# count the number of PSs for each PS group\n",
    "spm_copy.groupby('PSname').size()"
   ],
   "metadata": {
    "collapsed": false,
    "ExecuteTime": {
     "end_time": "2024-03-24T14:02:02.402225200Z",
     "start_time": "2024-03-24T14:02:02.388225500Z"
    }
   },
   "id": "a3c1c882d65776eb"
  },
  {
   "cell_type": "code",
   "execution_count": 4,
   "outputs": [
    {
     "data": {
      "text/plain": "372"
     },
     "execution_count": 4,
     "metadata": {},
     "output_type": "execute_result"
    }
   ],
   "source": [
    "# SPM (a part of SPEN) data needs to be processed. The firm capacity in SPM is for the whole PS groups instead of a single PS\n",
    "# therefore, we need to sum the (net) demand and Q for each PS group\n",
    "# note that SPM source data provides two cols of demand, i.e., Maximum Load (MW) and Maximum Load (MVA(1)). The former is for individual PS and the latter is for the whole PS group. However, as stated in the note (1) of the data file, Maximum Load (MVA(1)) refers to the gross demand, which is the maximum demand increased by measured distribution generation. Therefore, we will use the Maximum Load (MW) as the net demand.\n",
    "spm_process = pd.DataFrame([])\n",
    "spm_process['PSname'] = spm.iloc[:,0]\n",
    "spm_process['Demand (MW)'] = pd.to_numeric(spm.iloc[:,3], errors='coerce')\n",
    "spm_process['Q (MVar)'] = pd.to_numeric(spm.iloc[:,4], errors='coerce')\n",
    "spm_process = spm_process.groupby(\"PSname\").sum(min_count=1)\n",
    "spm_process[\"PSname\"] = spm_process.index.tolist()\n",
    "# power factor (PF) is the ratio of real power to apparent power\n",
    "spm_process['PF'] = spm_process['Demand (MW)'].values / np.sqrt(spm_process['Demand (MW)'].values**2 + spm_process['Q (MVar)'].values**2)\n",
    "\n",
    "firm_cap_list = []\n",
    "for ps_name in spm_process[\"PSname\"].tolist():\n",
    "    firm_cap_list.append(pd.to_numeric(spm[spm.iloc[:,0] == ps_name].iloc[0,-3], errors='coerce'))\n",
    "\n",
    "spm_process[\"FirmCap (MVA)\"] = firm_cap_list\n",
    "len(spm_process)"
   ],
   "metadata": {
    "collapsed": false,
    "ExecuteTime": {
     "end_time": "2024-03-24T14:02:02.529222500Z",
     "start_time": "2024-03-24T14:02:02.409225500Z"
    }
   },
   "id": "d291fef621570d2e"
  },
  {
   "cell_type": "code",
   "execution_count": 5,
   "outputs": [
    {
     "name": "stdout",
     "output_type": "stream",
     "text": [
      "The total number of PSs in GB is 4339\n"
     ]
    }
   ],
   "source": [
    "GB_PS_no_tot = len(ssen) + len(spm_process) + len(spd) + len(ukpn) + len(wpd) + len(enw) + len(npg_ne) + len(npg_york)\n",
    "print(f'The total number of PSs in GB is {GB_PS_no_tot}')"
   ],
   "metadata": {
    "collapsed": false,
    "pycharm": {
     "name": "#%%\n"
    },
    "ExecuteTime": {
     "end_time": "2024-03-24T14:02:02.574222300Z",
     "start_time": "2024-03-24T14:02:02.531223100Z"
    }
   },
   "id": "6a0d3a0d57af0317"
  },
  {
   "cell_type": "markdown",
   "id": "86f77117",
   "metadata": {
    "pycharm": {
     "name": "#%% md\n"
    }
   },
   "source": [
    "## Step 1. process and combine information for each of the UK DNOs."
   ]
  },
  {
   "cell_type": "code",
   "execution_count": 6,
   "outputs": [],
   "source": [
    "# define function for coordinate transformation\n",
    "from pyproj import Transformer, CRS\n",
    "\n",
    "def UK_to_lonlat(east, north):\n",
    "    # 4326 is the long, lat system while 27700 is the coordinates specified in the .proj file or read from geodf.crs\n",
    "    # this convert the location under UK map coordinate to lat, lon format\n",
    "    des_crs = CRS('EPSG:4326')\n",
    "    src_crs = CRS('EPSG:27700')\n",
    "    transformer = Transformer.from_crs(src_crs, des_crs, always_xy=True)\n",
    "    # Convert the coordinate to the destination projection system\n",
    "    lon, lat = transformer.transform(east, north)\n",
    "    return lat, lon"
   ],
   "metadata": {
    "collapsed": false,
    "pycharm": {
     "name": "#%%\n"
    },
    "ExecuteTime": {
     "end_time": "2024-03-24T14:02:02.577223Z",
     "start_time": "2024-03-24T14:02:02.546225500Z"
    }
   },
   "id": "4115f17304fb62d0"
  },
  {
   "cell_type": "code",
   "execution_count": 7,
   "outputs": [],
   "source": [
    "# define function to process the PS name to facilicate the matching between different datasets\n",
    "def process_PS_name(df, col_name = \"PS Name\"):\n",
    "    # lower case\n",
    "    df[col_name] = df[col_name].str.lower()\n",
    "    # remove the last str \"xkV\"\n",
    "    df[col_name] = df[col_name].str.replace(r'$ \\d+kv', '', regex=True)\n",
    "    # remove space at the start and end\n",
    "    df[col_name] = df[col_name].str.strip()\n",
    "    return df"
   ],
   "metadata": {
    "collapsed": false,
    "ExecuteTime": {
     "end_time": "2024-03-24T14:02:02.578225200Z",
     "start_time": "2024-03-24T14:02:02.562223700Z"
    }
   },
   "id": "903e85945cf7076d"
  },
  {
   "cell_type": "code",
   "execution_count": 8,
   "outputs": [
    {
     "data": {
      "text/plain": "0.9889836133434563"
     },
     "execution_count": 8,
     "metadata": {},
     "output_type": "execute_result"
    }
   ],
   "source": [
    "# some DNOs do not have power factors, so we will assume a typical value\n",
    "# the typical value is the average of the power factor of the other DNOs (ENW and SPEN)\n",
    "Assumed_PF_list = np.abs(np.hstack([enw.iloc[:,4].copy().values, spd.iloc[:, 5].copy().values, spm_process[\"PF\"].copy().values]))\n",
    "Assumed_PF = np.nanmean(Assumed_PF_list)\n",
    "Assumed_PF"
   ],
   "metadata": {
    "collapsed": false,
    "ExecuteTime": {
     "end_time": "2024-03-24T14:02:02.592222600Z",
     "start_time": "2024-03-24T14:02:02.578225200Z"
    }
   },
   "id": "1406bb1de3c94e66"
  },
  {
   "cell_type": "code",
   "execution_count": 9,
   "outputs": [
    {
     "name": "stdout",
     "output_type": "stream",
     "text": [
      "1% percentile of all PFs: 0.8618901419797546\n",
      "5% percentile of all PFs: 0.9500008449295589\n",
      "standard deviation of all PFs: 0.04708170016352774\n"
     ]
    }
   ],
   "source": [
    "# print the 1% and 5% quant\n",
    "print(\"1% percentile of all PFs:\", np.nanpercentile(Assumed_PF_list, 1))\n",
    "print(\"5% percentile of all PFs:\", np.nanpercentile(Assumed_PF_list, 5))\n",
    "print('standard deviation of all PFs:', np.nanstd(Assumed_PF_list))"
   ],
   "metadata": {
    "collapsed": false,
    "ExecuteTime": {
     "end_time": "2024-03-24T14:02:02.638222300Z",
     "start_time": "2024-03-24T14:02:02.593224900Z"
    }
   },
   "id": "a72f3ad45fee6ca8"
  },
  {
   "cell_type": "markdown",
   "source": [
    "95% PFs are greater than 0.95. It therefore seems reasonable to assume an average PF at 0.989 due to the high concentration."
   ],
   "metadata": {
    "collapsed": false
   },
   "id": "94e8c09e72e503"
  },
  {
   "cell_type": "markdown",
   "source": [
    "### ENW"
   ],
   "metadata": {
    "collapsed": false
   },
   "id": "64609ca7143fd607"
  },
  {
   "cell_type": "code",
   "execution_count": 10,
   "outputs": [
    {
     "data": {
      "text/plain": "                     PS Name Firm Capacity (MVA) Demand (MVA)        PF\n0                  albion st              22.863    11.720532  0.998712\n1        alderley & chelford               28.31    17.003134    0.9756\n2                     alston                 1.7     1.531605  0.985752\n3                  ambleside                17.8     9.192532  0.993175\n4    ancoats north t11 & t12              22.863    17.347102  0.992857\n..                       ...                 ...          ...       ...\n363                 woolfold                23.0    10.612275  0.991375\n364            wordsworth st              22.863    12.945132  0.999165\n365           worsley mesnes              22.863     8.390747  0.995139\n366             wrightington              22.863    10.709691  0.984961\n367                  yealand                 4.0     2.929609  0.979987\n\n[368 rows x 4 columns]",
      "text/html": "<div>\n<style scoped>\n    .dataframe tbody tr th:only-of-type {\n        vertical-align: middle;\n    }\n\n    .dataframe tbody tr th {\n        vertical-align: top;\n    }\n\n    .dataframe thead th {\n        text-align: right;\n    }\n</style>\n<table border=\"1\" class=\"dataframe\">\n  <thead>\n    <tr style=\"text-align: right;\">\n      <th></th>\n      <th>PS Name</th>\n      <th>Firm Capacity (MVA)</th>\n      <th>Demand (MVA)</th>\n      <th>PF</th>\n    </tr>\n  </thead>\n  <tbody>\n    <tr>\n      <th>0</th>\n      <td>albion st</td>\n      <td>22.863</td>\n      <td>11.720532</td>\n      <td>0.998712</td>\n    </tr>\n    <tr>\n      <th>1</th>\n      <td>alderley &amp; chelford</td>\n      <td>28.31</td>\n      <td>17.003134</td>\n      <td>0.9756</td>\n    </tr>\n    <tr>\n      <th>2</th>\n      <td>alston</td>\n      <td>1.7</td>\n      <td>1.531605</td>\n      <td>0.985752</td>\n    </tr>\n    <tr>\n      <th>3</th>\n      <td>ambleside</td>\n      <td>17.8</td>\n      <td>9.192532</td>\n      <td>0.993175</td>\n    </tr>\n    <tr>\n      <th>4</th>\n      <td>ancoats north t11 &amp; t12</td>\n      <td>22.863</td>\n      <td>17.347102</td>\n      <td>0.992857</td>\n    </tr>\n    <tr>\n      <th>...</th>\n      <td>...</td>\n      <td>...</td>\n      <td>...</td>\n      <td>...</td>\n    </tr>\n    <tr>\n      <th>363</th>\n      <td>woolfold</td>\n      <td>23.0</td>\n      <td>10.612275</td>\n      <td>0.991375</td>\n    </tr>\n    <tr>\n      <th>364</th>\n      <td>wordsworth st</td>\n      <td>22.863</td>\n      <td>12.945132</td>\n      <td>0.999165</td>\n    </tr>\n    <tr>\n      <th>365</th>\n      <td>worsley mesnes</td>\n      <td>22.863</td>\n      <td>8.390747</td>\n      <td>0.995139</td>\n    </tr>\n    <tr>\n      <th>366</th>\n      <td>wrightington</td>\n      <td>22.863</td>\n      <td>10.709691</td>\n      <td>0.984961</td>\n    </tr>\n    <tr>\n      <th>367</th>\n      <td>yealand</td>\n      <td>4.0</td>\n      <td>2.929609</td>\n      <td>0.979987</td>\n    </tr>\n  </tbody>\n</table>\n<p>368 rows × 4 columns</p>\n</div>"
     },
     "execution_count": 10,
     "metadata": {},
     "output_type": "execute_result"
    }
   ],
   "source": [
    "# based on long-term-development-statement.pdf Section 4.2.3.1, the demand has been adjusted to take into account the generation contribution\n",
    "# the information collected is for year 2022/23\n",
    "ENW_df = pd.DataFrame(data = enw.iloc[:, [1, -3, 3, 4]].copy().values, columns=[\"PS Name\", \"Firm Capacity (MVA)\", \"Demand (MVA)\", \"PF\"])\n",
    "ENW_df = process_PS_name(ENW_df)\n",
    "ENW_df"
   ],
   "metadata": {
    "collapsed": false,
    "pycharm": {
     "name": "#%%\n"
    },
    "ExecuteTime": {
     "end_time": "2024-03-24T14:02:02.647222800Z",
     "start_time": "2024-03-24T14:02:02.612223200Z"
    }
   },
   "id": "4e33b736fc54bc27"
  },
  {
   "cell_type": "code",
   "execution_count": 11,
   "outputs": [
    {
     "data": {
      "text/plain": "                     PS Name               GSP  \\\n0                  albion st          ROCHDALE   \n1        alderley & chelford  SOUTH MANCHESTER   \n2                     alston            HUTTON   \n3                  ambleside            HUTTON   \n4    ancoats north t11 & t12         WHITEGATE   \n..                       ...               ...   \n360                 woolfold          KEARSLEY   \n361            wordsworth st          KEARSLEY   \n362           worsley mesnes            KIRKBY   \n363             wrightington       PENWORTHAM    \n364                  yealand            HUTTON   \n\n                              Geo(Long,Lat)  \n0     -2.4950937454916797,53.73015403195597  \n1      -2.225911796847622,53.30796142675533  \n2     -2.4352546655219385,54.81256830516162  \n3      -2.963194161426022,54.42314157846089  \n4    -2.2271891138444646,53.485968874301655  \n..                                      ...  \n360   -2.3207106475600914,53.60112917451506  \n361   -2.4440146735255985,53.59360718447577  \n362     -2.643610708764175,53.5307151030593  \n363    -2.7048739300119315,53.6140793967929  \n364    -2.743966811198755,54.17688943816301  \n\n[365 rows x 3 columns]",
      "text/html": "<div>\n<style scoped>\n    .dataframe tbody tr th:only-of-type {\n        vertical-align: middle;\n    }\n\n    .dataframe tbody tr th {\n        vertical-align: top;\n    }\n\n    .dataframe thead th {\n        text-align: right;\n    }\n</style>\n<table border=\"1\" class=\"dataframe\">\n  <thead>\n    <tr style=\"text-align: right;\">\n      <th></th>\n      <th>PS Name</th>\n      <th>GSP</th>\n      <th>Geo(Long,Lat)</th>\n    </tr>\n  </thead>\n  <tbody>\n    <tr>\n      <th>0</th>\n      <td>albion st</td>\n      <td>ROCHDALE</td>\n      <td>-2.4950937454916797,53.73015403195597</td>\n    </tr>\n    <tr>\n      <th>1</th>\n      <td>alderley &amp; chelford</td>\n      <td>SOUTH MANCHESTER</td>\n      <td>-2.225911796847622,53.30796142675533</td>\n    </tr>\n    <tr>\n      <th>2</th>\n      <td>alston</td>\n      <td>HUTTON</td>\n      <td>-2.4352546655219385,54.81256830516162</td>\n    </tr>\n    <tr>\n      <th>3</th>\n      <td>ambleside</td>\n      <td>HUTTON</td>\n      <td>-2.963194161426022,54.42314157846089</td>\n    </tr>\n    <tr>\n      <th>4</th>\n      <td>ancoats north t11 &amp; t12</td>\n      <td>WHITEGATE</td>\n      <td>-2.2271891138444646,53.485968874301655</td>\n    </tr>\n    <tr>\n      <th>...</th>\n      <td>...</td>\n      <td>...</td>\n      <td>...</td>\n    </tr>\n    <tr>\n      <th>360</th>\n      <td>woolfold</td>\n      <td>KEARSLEY</td>\n      <td>-2.3207106475600914,53.60112917451506</td>\n    </tr>\n    <tr>\n      <th>361</th>\n      <td>wordsworth st</td>\n      <td>KEARSLEY</td>\n      <td>-2.4440146735255985,53.59360718447577</td>\n    </tr>\n    <tr>\n      <th>362</th>\n      <td>worsley mesnes</td>\n      <td>KIRKBY</td>\n      <td>-2.643610708764175,53.5307151030593</td>\n    </tr>\n    <tr>\n      <th>363</th>\n      <td>wrightington</td>\n      <td>PENWORTHAM</td>\n      <td>-2.7048739300119315,53.6140793967929</td>\n    </tr>\n    <tr>\n      <th>364</th>\n      <td>yealand</td>\n      <td>HUTTON</td>\n      <td>-2.743966811198755,54.17688943816301</td>\n    </tr>\n  </tbody>\n</table>\n<p>365 rows × 3 columns</p>\n</div>"
     },
     "execution_count": 11,
     "metadata": {},
     "output_type": "execute_result"
    }
   ],
   "source": [
    "# the geo location and the upper-level GSP info is stored in a separate file\n",
    "ENW_geo_df = pd.DataFrame(data = pd.read_excel(os.path.join(ENW, \"PS-LA.xlsx\"), sheet_name=\"Primary Headroom\", header=[6,7]).iloc[:,[1, -4,-3, -1]].values, columns=[\"PS Name\", \"Easting\", \"Northing\", \"GSP\"])\n",
    "\n",
    "# process the PS name\n",
    "ENW_geo_df = process_PS_name(ENW_geo_df)\n",
    "\n",
    "ENW_geo_df.dropna(inplace=True)\n",
    "# project the easting and northing to long, lat\n",
    "geo_list = []\n",
    "for i, subdf in ENW_geo_df.iterrows():\n",
    "    lat, lon = UK_to_lonlat(east = subdf[\"Easting\"], north = subdf[\"Northing\"])\n",
    "    geo_list.append(f\"{lon},{lat}\")\n",
    "ENW_geo_df[\"Geo(Long,Lat)\"] = geo_list\n",
    "\n",
    "ENW_geo_df.reset_index(inplace=True, drop = True)\n",
    "\n",
    "ENW_geo_df.drop(columns=[\"Easting\", \"Northing\"], inplace=True)\n",
    "ENW_geo_df"
   ],
   "metadata": {
    "collapsed": false,
    "pycharm": {
     "name": "#%%\n"
    },
    "ExecuteTime": {
     "end_time": "2024-03-24T14:02:11.668224500Z",
     "start_time": "2024-03-24T14:02:02.626222Z"
    }
   },
   "id": "2204400061ead18e"
  },
  {
   "cell_type": "markdown",
   "source": [
    "#### now try to merge them together"
   ],
   "metadata": {
    "collapsed": false
   },
   "id": "d5fe392e01bb5ba8"
  },
  {
   "cell_type": "code",
   "execution_count": 12,
   "outputs": [
    {
     "name": "stdout",
     "output_type": "stream",
     "text": [
      "PS circle square, reduced PS name is circle sq, the matched ps name is 82    circle sq\n",
      "Name: PS Name, dtype: object\n",
      "PS match fails, we try to match manchester university\n",
      "PS match fails, we try to match samlesbury enterprise zone\n",
      "PS match fails, we try to match st johns\n",
      "PS match fails, we try to match thorley lane\n"
     ]
    },
    {
     "data": {
      "text/plain": "                     PS Name Firm Capacity (MVA) Demand (MVA)        PF  \\\n0                  albion st              22.863    11.720532  0.998712   \n1        alderley & chelford               28.31    17.003134    0.9756   \n2                     alston                 1.7     1.531605  0.985752   \n3                  ambleside                17.8     9.192532  0.993175   \n4    ancoats north t11 & t12              22.863    17.347102  0.992857   \n..                       ...                 ...          ...       ...   \n363                 woolfold                23.0    10.612275  0.991375   \n364            wordsworth st              22.863    12.945132  0.999165   \n365           worsley mesnes              22.863     8.390747  0.995139   \n366             wrightington              22.863    10.709691  0.984961   \n367                  yealand                 4.0     2.929609  0.979987   \n\n                              Geo(Long,Lat)               GSP  \n0     -2.4950937454916797,53.73015403195597          ROCHDALE  \n1      -2.225911796847622,53.30796142675533  SOUTH MANCHESTER  \n2     -2.4352546655219385,54.81256830516162            HUTTON  \n3      -2.963194161426022,54.42314157846089            HUTTON  \n4    -2.2271891138444646,53.485968874301655         WHITEGATE  \n..                                      ...               ...  \n363   -2.3207106475600914,53.60112917451506          KEARSLEY  \n364   -2.4440146735255985,53.59360718447577          KEARSLEY  \n365     -2.643610708764175,53.5307151030593            KIRKBY  \n366    -2.7048739300119315,53.6140793967929       PENWORTHAM   \n367    -2.743966811198755,54.17688943816301            HUTTON  \n\n[364 rows x 6 columns]",
      "text/html": "<div>\n<style scoped>\n    .dataframe tbody tr th:only-of-type {\n        vertical-align: middle;\n    }\n\n    .dataframe tbody tr th {\n        vertical-align: top;\n    }\n\n    .dataframe thead th {\n        text-align: right;\n    }\n</style>\n<table border=\"1\" class=\"dataframe\">\n  <thead>\n    <tr style=\"text-align: right;\">\n      <th></th>\n      <th>PS Name</th>\n      <th>Firm Capacity (MVA)</th>\n      <th>Demand (MVA)</th>\n      <th>PF</th>\n      <th>Geo(Long,Lat)</th>\n      <th>GSP</th>\n    </tr>\n  </thead>\n  <tbody>\n    <tr>\n      <th>0</th>\n      <td>albion st</td>\n      <td>22.863</td>\n      <td>11.720532</td>\n      <td>0.998712</td>\n      <td>-2.4950937454916797,53.73015403195597</td>\n      <td>ROCHDALE</td>\n    </tr>\n    <tr>\n      <th>1</th>\n      <td>alderley &amp; chelford</td>\n      <td>28.31</td>\n      <td>17.003134</td>\n      <td>0.9756</td>\n      <td>-2.225911796847622,53.30796142675533</td>\n      <td>SOUTH MANCHESTER</td>\n    </tr>\n    <tr>\n      <th>2</th>\n      <td>alston</td>\n      <td>1.7</td>\n      <td>1.531605</td>\n      <td>0.985752</td>\n      <td>-2.4352546655219385,54.81256830516162</td>\n      <td>HUTTON</td>\n    </tr>\n    <tr>\n      <th>3</th>\n      <td>ambleside</td>\n      <td>17.8</td>\n      <td>9.192532</td>\n      <td>0.993175</td>\n      <td>-2.963194161426022,54.42314157846089</td>\n      <td>HUTTON</td>\n    </tr>\n    <tr>\n      <th>4</th>\n      <td>ancoats north t11 &amp; t12</td>\n      <td>22.863</td>\n      <td>17.347102</td>\n      <td>0.992857</td>\n      <td>-2.2271891138444646,53.485968874301655</td>\n      <td>WHITEGATE</td>\n    </tr>\n    <tr>\n      <th>...</th>\n      <td>...</td>\n      <td>...</td>\n      <td>...</td>\n      <td>...</td>\n      <td>...</td>\n      <td>...</td>\n    </tr>\n    <tr>\n      <th>363</th>\n      <td>woolfold</td>\n      <td>23.0</td>\n      <td>10.612275</td>\n      <td>0.991375</td>\n      <td>-2.3207106475600914,53.60112917451506</td>\n      <td>KEARSLEY</td>\n    </tr>\n    <tr>\n      <th>364</th>\n      <td>wordsworth st</td>\n      <td>22.863</td>\n      <td>12.945132</td>\n      <td>0.999165</td>\n      <td>-2.4440146735255985,53.59360718447577</td>\n      <td>KEARSLEY</td>\n    </tr>\n    <tr>\n      <th>365</th>\n      <td>worsley mesnes</td>\n      <td>22.863</td>\n      <td>8.390747</td>\n      <td>0.995139</td>\n      <td>-2.643610708764175,53.5307151030593</td>\n      <td>KIRKBY</td>\n    </tr>\n    <tr>\n      <th>366</th>\n      <td>wrightington</td>\n      <td>22.863</td>\n      <td>10.709691</td>\n      <td>0.984961</td>\n      <td>-2.7048739300119315,53.6140793967929</td>\n      <td>PENWORTHAM</td>\n    </tr>\n    <tr>\n      <th>367</th>\n      <td>yealand</td>\n      <td>4.0</td>\n      <td>2.929609</td>\n      <td>0.979987</td>\n      <td>-2.743966811198755,54.17688943816301</td>\n      <td>HUTTON</td>\n    </tr>\n  </tbody>\n</table>\n<p>364 rows × 6 columns</p>\n</div>"
     },
     "execution_count": 12,
     "metadata": {},
     "output_type": "execute_result"
    }
   ],
   "source": [
    "geo_list = []\n",
    "gsp_list = []\n",
    "\n",
    "for idx, row in ENW_df.iterrows():\n",
    "    # enumerate the PS name\n",
    "    ps_name = row[\"PS Name\"]\n",
    "    # find the region information\n",
    "    for j in range(len(ps_name)):\n",
    "        # drop the last char\n",
    "        ps_name_l = ps_name[:len(ps_name)-j]\n",
    "        # find match\n",
    "        matched_df = ENW_geo_df[ENW_geo_df[\"PS Name\"] == ps_name_l]\n",
    "\n",
    "        if (len(matched_df) > 0):\n",
    "            if j >= 1:\n",
    "                # if the search is successful only after chracter reduction, print the information so we can manually check if the match makes sense\n",
    "                print(f\"PS {ps_name}, reduced PS name is {ps_name_l}, the matched ps name is {matched_df['PS Name']}\")\n",
    "            # match found, break the loop\n",
    "            break\n",
    "    if j == (len(ps_name)-1):\n",
    "        # no match is found successfully,\n",
    "        # print the following information so we may manually check again if this PS is indeed not found\n",
    "        print(f\"PS match fails, we try to match {ps_name}\")\n",
    "        geo_list.append(float('nan'))\n",
    "        gsp_list.append(float('nan'))\n",
    "    else:\n",
    "        geo_list.append(matched_df.iloc[0][\"Geo(Long,Lat)\"])\n",
    "        gsp_list.append(matched_df.iloc[0][\"GSP\"])\n",
    "\n",
    "\n",
    "ENW_df['Geo(Long,Lat)'] = geo_list\n",
    "ENW_df['GSP'] = gsp_list\n",
    "\n",
    "'''\n",
    "among the 368 PSs, only 4 entries are not found, so I think it's safe to drop na (except RegCode)\n",
    "'''\n",
    "\n",
    "ENW_df.dropna(subset = [\"PS Name\", \"Firm Capacity (MVA)\", \"Demand (MVA)\", \"PF\", \"GSP\"], inplace=True)\n",
    "\n",
    "# del ENW_geo_df\n",
    "ENW_df"
   ],
   "metadata": {
    "collapsed": false,
    "pycharm": {
     "name": "#%%\n"
    },
    "ExecuteTime": {
     "end_time": "2024-03-24T14:02:11.799223200Z",
     "start_time": "2024-03-24T14:02:11.672225300Z"
    }
   },
   "id": "745083569f527f4e"
  },
  {
   "cell_type": "markdown",
   "source": [
    "### NPG\n"
   ],
   "metadata": {
    "collapsed": false
   },
   "id": "88cfc21c71d3b255"
  },
  {
   "cell_type": "code",
   "execution_count": 13,
   "outputs": [
    {
     "data": {
      "text/plain": "              PS Name Firm Capacity (MVA) Demand (MVA)   PF\n0        foss islands                  36     27.62608  NaN\n1            oatlands                22.9     9.796203  NaN\n2            starbeck                22.9    20.159617  NaN\n3        barden friar                   5       0.9375  NaN\n4              bedale                  22    17.549979  NaN\n..                ...                 ...          ...  ...\n530     hessle road 2                23.0    10.678724  NaN\n531   elmhirst lane 2                24.0    11.560354  NaN\n532  allerton hill t2                23.0     7.211664  NaN\n533         newport 2                18.4     5.880708  NaN\n534         haworth 2                30.0      3.69421  NaN\n\n[535 rows x 4 columns]",
      "text/html": "<div>\n<style scoped>\n    .dataframe tbody tr th:only-of-type {\n        vertical-align: middle;\n    }\n\n    .dataframe tbody tr th {\n        vertical-align: top;\n    }\n\n    .dataframe thead th {\n        text-align: right;\n    }\n</style>\n<table border=\"1\" class=\"dataframe\">\n  <thead>\n    <tr style=\"text-align: right;\">\n      <th></th>\n      <th>PS Name</th>\n      <th>Firm Capacity (MVA)</th>\n      <th>Demand (MVA)</th>\n      <th>PF</th>\n    </tr>\n  </thead>\n  <tbody>\n    <tr>\n      <th>0</th>\n      <td>foss islands</td>\n      <td>36</td>\n      <td>27.62608</td>\n      <td>NaN</td>\n    </tr>\n    <tr>\n      <th>1</th>\n      <td>oatlands</td>\n      <td>22.9</td>\n      <td>9.796203</td>\n      <td>NaN</td>\n    </tr>\n    <tr>\n      <th>2</th>\n      <td>starbeck</td>\n      <td>22.9</td>\n      <td>20.159617</td>\n      <td>NaN</td>\n    </tr>\n    <tr>\n      <th>3</th>\n      <td>barden friar</td>\n      <td>5</td>\n      <td>0.9375</td>\n      <td>NaN</td>\n    </tr>\n    <tr>\n      <th>4</th>\n      <td>bedale</td>\n      <td>22</td>\n      <td>17.549979</td>\n      <td>NaN</td>\n    </tr>\n    <tr>\n      <th>...</th>\n      <td>...</td>\n      <td>...</td>\n      <td>...</td>\n      <td>...</td>\n    </tr>\n    <tr>\n      <th>530</th>\n      <td>hessle road 2</td>\n      <td>23.0</td>\n      <td>10.678724</td>\n      <td>NaN</td>\n    </tr>\n    <tr>\n      <th>531</th>\n      <td>elmhirst lane 2</td>\n      <td>24.0</td>\n      <td>11.560354</td>\n      <td>NaN</td>\n    </tr>\n    <tr>\n      <th>532</th>\n      <td>allerton hill t2</td>\n      <td>23.0</td>\n      <td>7.211664</td>\n      <td>NaN</td>\n    </tr>\n    <tr>\n      <th>533</th>\n      <td>newport 2</td>\n      <td>18.4</td>\n      <td>5.880708</td>\n      <td>NaN</td>\n    </tr>\n    <tr>\n      <th>534</th>\n      <td>haworth 2</td>\n      <td>30.0</td>\n      <td>3.69421</td>\n      <td>NaN</td>\n    </tr>\n  </tbody>\n</table>\n<p>535 rows × 4 columns</p>\n</div>"
     },
     "execution_count": 13,
     "metadata": {},
     "output_type": "execute_result"
    }
   ],
   "source": [
    "# as can be observed in the \"Glossary\" sheet, the demand is the net demand (after offsetting the local generation)\n",
    "NPG_df = pd.DataFrame(data = np.hstack([np.vstack([npg_ne.iloc[:,[1, 5, 6]].values, npg_york.iloc[:,[1, 5, 6]].values]), float('nan')*np.ones([len(npg_ne)+len(npg_york), 1])]), columns = [\"PS Name\", \"Firm Capacity (MVA)\", \"Demand (MVA)\", \"PF\"])\n",
    "# process the PS name\n",
    "NPG_df = process_PS_name(NPG_df)\n",
    "NPG_df"
   ],
   "metadata": {
    "collapsed": false,
    "pycharm": {
     "name": "#%%\n"
    },
    "ExecuteTime": {
     "end_time": "2024-03-24T14:02:11.855224Z",
     "start_time": "2024-03-24T14:02:11.797223700Z"
    }
   },
   "id": "d4e6d057e283341a"
  },
  {
   "cell_type": "code",
   "execution_count": 14,
   "outputs": [
    {
     "name": "stderr",
     "output_type": "stream",
     "text": [
      "C:\\Users\\Zhou_Ming\\AppData\\Local\\Temp\\ipykernel_42204\\3563885823.py:11: FutureWarning: The frame.append method is deprecated and will be removed from pandas in a future version. Use pandas.concat instead.\n",
      "  NPG_geo_df = NPG_geo_df.append(inter,ignore_index=True)\n",
      "C:\\Users\\Zhou_Ming\\AppData\\Local\\Temp\\ipykernel_42204\\3563885823.py:16: FutureWarning: The frame.append method is deprecated and will be removed from pandas in a future version. Use pandas.concat instead.\n",
      "  NPG_geo_df = NPG_geo_df.append(inter,ignore_index=True)\n",
      "C:\\Users\\Zhou_Ming\\AppData\\Local\\Temp\\ipykernel_42204\\3563885823.py:21: FutureWarning: The frame.append method is deprecated and will be removed from pandas in a future version. Use pandas.concat instead.\n",
      "  NPG_geo_df = NPG_geo_df.append(inter,ignore_index=True)\n"
     ]
    },
    {
     "data": {
      "text/plain": "                  PS Name                                  LatLong  \\\n0        allerton hill t1   53.83067136628643, -1.5391248216660285   \n1         armouries drive   53.79066605340524, -1.5299547014623773   \n2                  askern   53.61891593835856, -1.1596496050358693   \n3          bailiff bridge  53.721283724071434, -1.7781209881237274   \n4            balme street   53.79740881482084, -1.7489355307965837   \n..                    ...                                      ...   \n543               usworth     54.91627262511623, -1.49690612038587   \n544        whitby west t1    54.4801062849319, -0.6352342462916933   \n545  roecliffe industrial   54.08706163572902, -1.4140068681468814   \n546               sowerby  54.174139097805714, -1.3193130759959464   \n547        seaton burn t1   55.06315247623135, -1.6324409078101703   \n\n                            GSP  \n0                SKELTON GRANGE  \n1                SKELTON GRANGE  \n2    WEST MELTON / THORPE MARSH  \n3                        ELLAND  \n4                 BRADFORD WEST  \n..                          ...  \n543                 WEST BOLDON  \n544                  OSBALDWICK  \n545               KNARESBOROUGH  \n546               KNARESBOROUGH  \n547                  BLYTH 66KV  \n\n[548 rows x 3 columns]",
      "text/html": "<div>\n<style scoped>\n    .dataframe tbody tr th:only-of-type {\n        vertical-align: middle;\n    }\n\n    .dataframe tbody tr th {\n        vertical-align: top;\n    }\n\n    .dataframe thead th {\n        text-align: right;\n    }\n</style>\n<table border=\"1\" class=\"dataframe\">\n  <thead>\n    <tr style=\"text-align: right;\">\n      <th></th>\n      <th>PS Name</th>\n      <th>LatLong</th>\n      <th>GSP</th>\n    </tr>\n  </thead>\n  <tbody>\n    <tr>\n      <th>0</th>\n      <td>allerton hill t1</td>\n      <td>53.83067136628643, -1.5391248216660285</td>\n      <td>SKELTON GRANGE</td>\n    </tr>\n    <tr>\n      <th>1</th>\n      <td>armouries drive</td>\n      <td>53.79066605340524, -1.5299547014623773</td>\n      <td>SKELTON GRANGE</td>\n    </tr>\n    <tr>\n      <th>2</th>\n      <td>askern</td>\n      <td>53.61891593835856, -1.1596496050358693</td>\n      <td>WEST MELTON / THORPE MARSH</td>\n    </tr>\n    <tr>\n      <th>3</th>\n      <td>bailiff bridge</td>\n      <td>53.721283724071434, -1.7781209881237274</td>\n      <td>ELLAND</td>\n    </tr>\n    <tr>\n      <th>4</th>\n      <td>balme street</td>\n      <td>53.79740881482084, -1.7489355307965837</td>\n      <td>BRADFORD WEST</td>\n    </tr>\n    <tr>\n      <th>...</th>\n      <td>...</td>\n      <td>...</td>\n      <td>...</td>\n    </tr>\n    <tr>\n      <th>543</th>\n      <td>usworth</td>\n      <td>54.91627262511623, -1.49690612038587</td>\n      <td>WEST BOLDON</td>\n    </tr>\n    <tr>\n      <th>544</th>\n      <td>whitby west t1</td>\n      <td>54.4801062849319, -0.6352342462916933</td>\n      <td>OSBALDWICK</td>\n    </tr>\n    <tr>\n      <th>545</th>\n      <td>roecliffe industrial</td>\n      <td>54.08706163572902, -1.4140068681468814</td>\n      <td>KNARESBOROUGH</td>\n    </tr>\n    <tr>\n      <th>546</th>\n      <td>sowerby</td>\n      <td>54.174139097805714, -1.3193130759959464</td>\n      <td>KNARESBOROUGH</td>\n    </tr>\n    <tr>\n      <th>547</th>\n      <td>seaton burn t1</td>\n      <td>55.06315247623135, -1.6324409078101703</td>\n      <td>BLYTH 66KV</td>\n    </tr>\n  </tbody>\n</table>\n<p>548 rows × 3 columns</p>\n</div>"
     },
     "execution_count": 14,
     "metadata": {},
     "output_type": "execute_result"
    }
   ],
   "source": [
    "# load longlat data\n",
    "NPG_geo_df = pd.read_csv(os.path.join(NPG, \"npg_ndp_demand_headroom.csv\"))\n",
    "NPG_geo_df = NPG_geo_df[NPG_geo_df['Bulk Supply Point or Primary'] == 'Primary'].drop_duplicates(subset=['Substation Name'])[['Substation Name', 'location', 'GSP']].reset_index(drop = True)\n",
    "NPG_geo_df = NPG_geo_df.rename(columns={'Substation Name':'PS Name', 'location':'LatLong'})\n",
    "# process the PS name\n",
    "NPG_geo_df = process_PS_name(NPG_geo_df)\n",
    "\n",
    "# manually match some PS names. Those have been listed and justified in our paper\n",
    "inter = NPG_geo_df.loc[NPG_geo_df[\"PS Name\"]==\"boroughbridge/roecliffe industrial\"].copy()\n",
    "NPG_geo_df.loc[NPG_geo_df[\"PS Name\"]==\"boroughbridge/roecliffe industrial\", \"PS Name\"] = \"boroughbridge\"\n",
    "NPG_geo_df = NPG_geo_df.append(inter,ignore_index=True)\n",
    "NPG_geo_df.loc[NPG_geo_df[\"PS Name\"]==\"boroughbridge/roecliffe industrial\", \"PS Name\"] = \"roecliffe industrial\"\n",
    "\n",
    "inter = NPG_geo_df.loc[NPG_geo_df[\"PS Name\"]==\"sessay bridge_sowerby\"].copy()\n",
    "NPG_geo_df.loc[NPG_geo_df[\"PS Name\"]==\"sessay bridge_sowerby\", \"PS Name\"] = \"sessay bridge\"\n",
    "NPG_geo_df = NPG_geo_df.append(inter,ignore_index=True)\n",
    "NPG_geo_df.loc[NPG_geo_df[\"PS Name\"]==\"sessay bridge_sowerby\", \"PS Name\"] = \"sowerby\"\n",
    "\n",
    "inter = NPG_geo_df.loc[NPG_geo_df[\"PS Name\"]==\"fawdon t1 & seaton burn t1\"].copy()\n",
    "NPG_geo_df.loc[NPG_geo_df[\"PS Name\"]==\"fawdon t1 & seaton burn t1\", \"PS Name\"] = \"fawdon t1\"\n",
    "NPG_geo_df = NPG_geo_df.append(inter,ignore_index=True)\n",
    "NPG_geo_df.loc[NPG_geo_df[\"PS Name\"]==\"fawdon t1 & seaton burn t1\", \"PS Name\"] = \"seaton burn t1\"\n",
    "\n",
    "NPG_geo_df.loc[NPG_geo_df[\"PS Name\"]==\"mansfield road 1\", \"PS Name\"] = \"mansfield road\"\n",
    "\n",
    "NPG_geo_df.reset_index(drop = True, inplace = True)\n",
    "NPG_geo_df"
   ],
   "metadata": {
    "collapsed": false,
    "pycharm": {
     "name": "#%%\n"
    },
    "ExecuteTime": {
     "end_time": "2024-03-24T14:02:12.693534Z",
     "start_time": "2024-03-24T14:02:11.818222700Z"
    }
   },
   "id": "736629cb8375fa8f"
  },
  {
   "cell_type": "code",
   "execution_count": 15,
   "outputs": [
    {
     "data": {
      "text/plain": "                  PS Name                         GSP  \\\n0        allerton hill t1              SKELTON GRANGE   \n1         armouries drive              SKELTON GRANGE   \n2                  askern  WEST MELTON / THORPE MARSH   \n3          bailiff bridge                      ELLAND   \n4            balme street               BRADFORD WEST   \n..                    ...                         ...   \n543               usworth                 WEST BOLDON   \n544        whitby west t1                  OSBALDWICK   \n545  roecliffe industrial               KNARESBOROUGH   \n546               sowerby               KNARESBOROUGH   \n547        seaton burn t1                  BLYTH 66KV   \n\n                              Geo(Long,Lat)  \n0     -1.5391248216660285,53.83067136628643  \n1     -1.5299547014623773,53.79066605340524  \n2     -1.1596496050358693,53.61891593835856  \n3    -1.7781209881237274,53.721283724071434  \n4     -1.7489355307965837,53.79740881482084  \n..                                      ...  \n543     -1.49690612038587,54.91627262511623  \n544    -0.6352342462916933,54.4801062849319  \n545   -1.4140068681468814,54.08706163572902  \n546  -1.3193130759959464,54.174139097805714  \n547   -1.6324409078101703,55.06315247623135  \n\n[548 rows x 3 columns]",
      "text/html": "<div>\n<style scoped>\n    .dataframe tbody tr th:only-of-type {\n        vertical-align: middle;\n    }\n\n    .dataframe tbody tr th {\n        vertical-align: top;\n    }\n\n    .dataframe thead th {\n        text-align: right;\n    }\n</style>\n<table border=\"1\" class=\"dataframe\">\n  <thead>\n    <tr style=\"text-align: right;\">\n      <th></th>\n      <th>PS Name</th>\n      <th>GSP</th>\n      <th>Geo(Long,Lat)</th>\n    </tr>\n  </thead>\n  <tbody>\n    <tr>\n      <th>0</th>\n      <td>allerton hill t1</td>\n      <td>SKELTON GRANGE</td>\n      <td>-1.5391248216660285,53.83067136628643</td>\n    </tr>\n    <tr>\n      <th>1</th>\n      <td>armouries drive</td>\n      <td>SKELTON GRANGE</td>\n      <td>-1.5299547014623773,53.79066605340524</td>\n    </tr>\n    <tr>\n      <th>2</th>\n      <td>askern</td>\n      <td>WEST MELTON / THORPE MARSH</td>\n      <td>-1.1596496050358693,53.61891593835856</td>\n    </tr>\n    <tr>\n      <th>3</th>\n      <td>bailiff bridge</td>\n      <td>ELLAND</td>\n      <td>-1.7781209881237274,53.721283724071434</td>\n    </tr>\n    <tr>\n      <th>4</th>\n      <td>balme street</td>\n      <td>BRADFORD WEST</td>\n      <td>-1.7489355307965837,53.79740881482084</td>\n    </tr>\n    <tr>\n      <th>...</th>\n      <td>...</td>\n      <td>...</td>\n      <td>...</td>\n    </tr>\n    <tr>\n      <th>543</th>\n      <td>usworth</td>\n      <td>WEST BOLDON</td>\n      <td>-1.49690612038587,54.91627262511623</td>\n    </tr>\n    <tr>\n      <th>544</th>\n      <td>whitby west t1</td>\n      <td>OSBALDWICK</td>\n      <td>-0.6352342462916933,54.4801062849319</td>\n    </tr>\n    <tr>\n      <th>545</th>\n      <td>roecliffe industrial</td>\n      <td>KNARESBOROUGH</td>\n      <td>-1.4140068681468814,54.08706163572902</td>\n    </tr>\n    <tr>\n      <th>546</th>\n      <td>sowerby</td>\n      <td>KNARESBOROUGH</td>\n      <td>-1.3193130759959464,54.174139097805714</td>\n    </tr>\n    <tr>\n      <th>547</th>\n      <td>seaton burn t1</td>\n      <td>BLYTH 66KV</td>\n      <td>-1.6324409078101703,55.06315247623135</td>\n    </tr>\n  </tbody>\n</table>\n<p>548 rows × 3 columns</p>\n</div>"
     },
     "execution_count": 15,
     "metadata": {},
     "output_type": "execute_result"
    }
   ],
   "source": [
    "# convert the geo information to our standard format\n",
    "geo_list = []\n",
    "\n",
    "for item in NPG_geo_df[\"LatLong\"]:\n",
    "    if item != item:\n",
    "        geo_list.append(float('nan'))\n",
    "        continue\n",
    "\n",
    "    lat, lon = item.replace(' ', '').split(',')\n",
    "\n",
    "    geo_list.append(','.join([lon, lat]))\n",
    "\n",
    "NPG_geo_df[\"Geo(Long,Lat)\"] = geo_list\n",
    "\n",
    "NPG_geo_df.dropna(inplace=True)\n",
    "\n",
    "NPG_geo_df.reset_index(inplace=True, drop = True)\n",
    "NPG_geo_df.drop(columns=[\"LatLong\"], inplace = True)\n",
    "NPG_geo_df"
   ],
   "metadata": {
    "collapsed": false,
    "pycharm": {
     "name": "#%%\n"
    },
    "ExecuteTime": {
     "end_time": "2024-03-24T14:02:12.694534700Z",
     "start_time": "2024-03-24T14:02:11.859223400Z"
    }
   },
   "id": "3a0433b7bc9a9f6d"
  },
  {
   "cell_type": "markdown",
   "source": [
    "#### Now we merge all these to create the final NPG df"
   ],
   "metadata": {
    "collapsed": false
   },
   "id": "fc940354e93eb50f"
  },
  {
   "cell_type": "code",
   "execution_count": 16,
   "outputs": [
    {
     "name": "stdout",
     "output_type": "stream",
     "text": [
      "PS match fails, we try to match ottringham road\n",
      "PS match fails, we try to match grimsby docks\n",
      "PS match fails, we try to match yorkshire water hull road\n"
     ]
    },
    {
     "data": {
      "text/plain": "              PS Name Firm Capacity (MVA) Demand (MVA)   PF  \\\n0        foss islands                  36     27.62608  NaN   \n1            oatlands                22.9     9.796203  NaN   \n2            starbeck                22.9    20.159617  NaN   \n3        barden friar                   5       0.9375  NaN   \n4              bedale                  22    17.549979  NaN   \n..                ...                 ...          ...  ...   \n530     hessle road 2                23.0    10.678724  NaN   \n531   elmhirst lane 2                24.0    11.560354  NaN   \n532  allerton hill t2                23.0     7.211664  NaN   \n533         newport 2                18.4     5.880708  NaN   \n534         haworth 2                30.0      3.69421  NaN   \n\n                       GSP                           Geo(Long,Lat)  \n0               OSBALDWICK    -1.072350544977576,53.96130167104259  \n1            KNARESBOROUGH   -1.5312933789448784,53.97683801648599  \n2            KNARESBOROUGH   -1.4986354355284524,53.99709055320108  \n3                   NORTON    -1.7945973888652424,54.3377382553703  \n4                   NORTON   -1.5905305713519269,54.29018855270453  \n..                     ...                                     ...  \n530            CREYKE BECK  -0.39596539123283914,53.72899355952191  \n531  WEST MELTON SECTION 3   -1.5384212769097723,53.54709973549783  \n532         SKELTON GRANGE   -1.5391248216660285,53.83067136628643  \n533                   DRAX   -0.6970210255821523,53.76591223391769  \n534          BRADFORD WEST   -1.9388434077517027,53.83834393335058  \n\n[532 rows x 6 columns]",
      "text/html": "<div>\n<style scoped>\n    .dataframe tbody tr th:only-of-type {\n        vertical-align: middle;\n    }\n\n    .dataframe tbody tr th {\n        vertical-align: top;\n    }\n\n    .dataframe thead th {\n        text-align: right;\n    }\n</style>\n<table border=\"1\" class=\"dataframe\">\n  <thead>\n    <tr style=\"text-align: right;\">\n      <th></th>\n      <th>PS Name</th>\n      <th>Firm Capacity (MVA)</th>\n      <th>Demand (MVA)</th>\n      <th>PF</th>\n      <th>GSP</th>\n      <th>Geo(Long,Lat)</th>\n    </tr>\n  </thead>\n  <tbody>\n    <tr>\n      <th>0</th>\n      <td>foss islands</td>\n      <td>36</td>\n      <td>27.62608</td>\n      <td>NaN</td>\n      <td>OSBALDWICK</td>\n      <td>-1.072350544977576,53.96130167104259</td>\n    </tr>\n    <tr>\n      <th>1</th>\n      <td>oatlands</td>\n      <td>22.9</td>\n      <td>9.796203</td>\n      <td>NaN</td>\n      <td>KNARESBOROUGH</td>\n      <td>-1.5312933789448784,53.97683801648599</td>\n    </tr>\n    <tr>\n      <th>2</th>\n      <td>starbeck</td>\n      <td>22.9</td>\n      <td>20.159617</td>\n      <td>NaN</td>\n      <td>KNARESBOROUGH</td>\n      <td>-1.4986354355284524,53.99709055320108</td>\n    </tr>\n    <tr>\n      <th>3</th>\n      <td>barden friar</td>\n      <td>5</td>\n      <td>0.9375</td>\n      <td>NaN</td>\n      <td>NORTON</td>\n      <td>-1.7945973888652424,54.3377382553703</td>\n    </tr>\n    <tr>\n      <th>4</th>\n      <td>bedale</td>\n      <td>22</td>\n      <td>17.549979</td>\n      <td>NaN</td>\n      <td>NORTON</td>\n      <td>-1.5905305713519269,54.29018855270453</td>\n    </tr>\n    <tr>\n      <th>...</th>\n      <td>...</td>\n      <td>...</td>\n      <td>...</td>\n      <td>...</td>\n      <td>...</td>\n      <td>...</td>\n    </tr>\n    <tr>\n      <th>530</th>\n      <td>hessle road 2</td>\n      <td>23.0</td>\n      <td>10.678724</td>\n      <td>NaN</td>\n      <td>CREYKE BECK</td>\n      <td>-0.39596539123283914,53.72899355952191</td>\n    </tr>\n    <tr>\n      <th>531</th>\n      <td>elmhirst lane 2</td>\n      <td>24.0</td>\n      <td>11.560354</td>\n      <td>NaN</td>\n      <td>WEST MELTON SECTION 3</td>\n      <td>-1.5384212769097723,53.54709973549783</td>\n    </tr>\n    <tr>\n      <th>532</th>\n      <td>allerton hill t2</td>\n      <td>23.0</td>\n      <td>7.211664</td>\n      <td>NaN</td>\n      <td>SKELTON GRANGE</td>\n      <td>-1.5391248216660285,53.83067136628643</td>\n    </tr>\n    <tr>\n      <th>533</th>\n      <td>newport 2</td>\n      <td>18.4</td>\n      <td>5.880708</td>\n      <td>NaN</td>\n      <td>DRAX</td>\n      <td>-0.6970210255821523,53.76591223391769</td>\n    </tr>\n    <tr>\n      <th>534</th>\n      <td>haworth 2</td>\n      <td>30.0</td>\n      <td>3.69421</td>\n      <td>NaN</td>\n      <td>BRADFORD WEST</td>\n      <td>-1.9388434077517027,53.83834393335058</td>\n    </tr>\n  </tbody>\n</table>\n<p>532 rows × 6 columns</p>\n</div>"
     },
     "execution_count": 16,
     "metadata": {},
     "output_type": "execute_result"
    }
   ],
   "source": [
    "gsp_list = []\n",
    "geo_list = []\n",
    "\n",
    "# the process is exactly the same as ENW, see the comments there\n",
    "for idx, row in NPG_df.iterrows():\n",
    "    ps_name = row[\"PS Name\"]\n",
    "    for j in range(len(ps_name)):\n",
    "        ps_name_l = ps_name[:len(ps_name)-j]\n",
    "        matched_df = NPG_geo_df[NPG_geo_df[\"PS Name\"] == ps_name_l]\n",
    "\n",
    "        if (len(matched_df) > 0):\n",
    "            if j >= 1:\n",
    "                print(f\"PS {ps_name}, reduced PS name is {ps_name_l}, the matched ps name is {matched_df['PS Name']}\")\n",
    "            break\n",
    "    if j == (len(ps_name)-1):\n",
    "        print(f\"PS match fails, we try to match {ps_name}\")\n",
    "        gsp_list.append(float(\"nan\"))\n",
    "        geo_list.append(float('nan'))\n",
    "    else:\n",
    "        gsp_list.append(matched_df.iloc[0][\"GSP\"])\n",
    "        geo_list.append(matched_df.iloc[0][\"Geo(Long,Lat)\"])\n",
    "\n",
    "\n",
    "NPG_df[\"GSP\"] = gsp_list\n",
    "NPG_df['Geo(Long,Lat)'] = geo_list\n",
    "\n",
    "NPG_df.reset_index(inplace=True, drop=True)\n",
    "NPG_geo_df.reset_index(inplace=True, drop=True)\n",
    "\n",
    "'''\n",
    "among the 535 PSs in NPG_df, only 3 entries are not found, so I think it's safe to drop na (except RegName)\n",
    "'''\n",
    "\n",
    "NPG_df.dropna(subset = [\"PS Name\", \"Firm Capacity (MVA)\", \"Demand (MVA)\", 'Geo(Long,Lat)', 'GSP'], inplace=True)\n",
    "\n",
    "del NPG_geo_df\n",
    "NPG_df"
   ],
   "metadata": {
    "collapsed": false,
    "pycharm": {
     "name": "#%%\n"
    },
    "ExecuteTime": {
     "end_time": "2024-03-24T14:02:12.756535200Z",
     "start_time": "2024-03-24T14:02:11.878222400Z"
    }
   },
   "id": "a4bea84ca954cbc2"
  },
  {
   "cell_type": "markdown",
   "source": [
    "### Now we move to SPEN "
   ],
   "metadata": {
    "collapsed": false
   },
   "id": "1611aaa6f8fe41ce"
  },
  {
   "cell_type": "code",
   "execution_count": 17,
   "outputs": [
    {
     "data": {
      "text/plain": "     Grid Supply Point         Substation       Voltage (kV)  \\\n    Unnamed: 0_level_1 Unnamed: 1_level_1 Unnamed: 2_level_1   \n0                  AYR           GLENGALL               11.0   \n1                  AYR         HEATHFIELD               11.0   \n2                  AYR        MILL STREET               11.0   \n3                  AYR         OLD BRIDGE               11.0   \n4            BAINSFORD          CALLENDAR               11.0   \n..                 ...                ...                ...   \n385             WISHAW       LEVEN STREET               11.0   \n386             WISHAW          MUIRHOUSE               11.0   \n387             WISHAW           OVERTOWN               11.0   \n388             WISHAW         STONEHOUSE               11.0   \n389             WISHAW     WATLING STREET               11.0   \n\n    Maximum Load of Previous Year                         \\\n                               MW  Q (Mvar) Power Factor   \n0                       12.191656  1.302535     0.994341   \n1                        9.427961 -0.867302     0.995795   \n2                       15.824987  1.732000     0.994064   \n3                        9.652512  0.000000     1.000000   \n4                       11.965362  0.411996     0.999408   \n..                            ...       ...          ...   \n385                      9.217825  0.017493     0.999998   \n386                      5.098800  0.147574     0.999581   \n387                      7.346304  0.350750     0.998862   \n388                      5.428110  0.769450     0.990102   \n389                     10.310759 -0.040996     0.999992   \n\n    Forecast Load Information (MVA)                                   \\\n                            2023/24    2024/25    2025/26    2026/27   \n0                         12.000210  12.052899  12.800282  13.490447   \n1                          9.325323   9.410957   9.846953  10.190422   \n2                         15.674361  15.701066  16.513116  17.048405   \n3                          9.391134   9.479083   9.931869  10.324751   \n4                         11.753468  11.844259  12.338067  12.700424   \n..                              ...        ...        ...        ...   \n385                        9.041944   9.080807   9.523303   9.767001   \n386                        4.934172   4.997660   5.276328   5.508289   \n387                        7.262960   7.367421   7.835139   8.362594   \n388                        5.330274   5.233150   5.445247   5.627228   \n389                       10.115727  10.338196  11.315123  12.195502   \n\n               Firm Capacity (MVA)  \n       2027/28 Unnamed: 11_level_1  \n0    14.385008                21.0  \n1    10.703395                21.0  \n2    17.841333                21.0  \n3    10.902222                24.0  \n4    13.243821                21.0  \n..         ...                 ...  \n385  10.160648                24.0  \n386   5.867737                10.0  \n387   9.001920                21.0  \n388   5.925825                 8.0  \n389  13.416620                21.0  \n\n[390 rows x 12 columns]",
      "text/html": "<div>\n<style scoped>\n    .dataframe tbody tr th:only-of-type {\n        vertical-align: middle;\n    }\n\n    .dataframe tbody tr th {\n        vertical-align: top;\n    }\n\n    .dataframe thead tr th {\n        text-align: left;\n    }\n</style>\n<table border=\"1\" class=\"dataframe\">\n  <thead>\n    <tr>\n      <th></th>\n      <th>Grid Supply Point</th>\n      <th>Substation</th>\n      <th>Voltage (kV)</th>\n      <th colspan=\"3\" halign=\"left\">Maximum Load of Previous Year</th>\n      <th colspan=\"5\" halign=\"left\">Forecast Load Information (MVA)</th>\n      <th>Firm Capacity (MVA)</th>\n    </tr>\n    <tr>\n      <th></th>\n      <th>Unnamed: 0_level_1</th>\n      <th>Unnamed: 1_level_1</th>\n      <th>Unnamed: 2_level_1</th>\n      <th>MW</th>\n      <th>Q (Mvar)</th>\n      <th>Power Factor</th>\n      <th>2023/24</th>\n      <th>2024/25</th>\n      <th>2025/26</th>\n      <th>2026/27</th>\n      <th>2027/28</th>\n      <th>Unnamed: 11_level_1</th>\n    </tr>\n  </thead>\n  <tbody>\n    <tr>\n      <th>0</th>\n      <td>AYR</td>\n      <td>GLENGALL</td>\n      <td>11.0</td>\n      <td>12.191656</td>\n      <td>1.302535</td>\n      <td>0.994341</td>\n      <td>12.000210</td>\n      <td>12.052899</td>\n      <td>12.800282</td>\n      <td>13.490447</td>\n      <td>14.385008</td>\n      <td>21.0</td>\n    </tr>\n    <tr>\n      <th>1</th>\n      <td>AYR</td>\n      <td>HEATHFIELD</td>\n      <td>11.0</td>\n      <td>9.427961</td>\n      <td>-0.867302</td>\n      <td>0.995795</td>\n      <td>9.325323</td>\n      <td>9.410957</td>\n      <td>9.846953</td>\n      <td>10.190422</td>\n      <td>10.703395</td>\n      <td>21.0</td>\n    </tr>\n    <tr>\n      <th>2</th>\n      <td>AYR</td>\n      <td>MILL STREET</td>\n      <td>11.0</td>\n      <td>15.824987</td>\n      <td>1.732000</td>\n      <td>0.994064</td>\n      <td>15.674361</td>\n      <td>15.701066</td>\n      <td>16.513116</td>\n      <td>17.048405</td>\n      <td>17.841333</td>\n      <td>21.0</td>\n    </tr>\n    <tr>\n      <th>3</th>\n      <td>AYR</td>\n      <td>OLD BRIDGE</td>\n      <td>11.0</td>\n      <td>9.652512</td>\n      <td>0.000000</td>\n      <td>1.000000</td>\n      <td>9.391134</td>\n      <td>9.479083</td>\n      <td>9.931869</td>\n      <td>10.324751</td>\n      <td>10.902222</td>\n      <td>24.0</td>\n    </tr>\n    <tr>\n      <th>4</th>\n      <td>BAINSFORD</td>\n      <td>CALLENDAR</td>\n      <td>11.0</td>\n      <td>11.965362</td>\n      <td>0.411996</td>\n      <td>0.999408</td>\n      <td>11.753468</td>\n      <td>11.844259</td>\n      <td>12.338067</td>\n      <td>12.700424</td>\n      <td>13.243821</td>\n      <td>21.0</td>\n    </tr>\n    <tr>\n      <th>...</th>\n      <td>...</td>\n      <td>...</td>\n      <td>...</td>\n      <td>...</td>\n      <td>...</td>\n      <td>...</td>\n      <td>...</td>\n      <td>...</td>\n      <td>...</td>\n      <td>...</td>\n      <td>...</td>\n      <td>...</td>\n    </tr>\n    <tr>\n      <th>385</th>\n      <td>WISHAW</td>\n      <td>LEVEN STREET</td>\n      <td>11.0</td>\n      <td>9.217825</td>\n      <td>0.017493</td>\n      <td>0.999998</td>\n      <td>9.041944</td>\n      <td>9.080807</td>\n      <td>9.523303</td>\n      <td>9.767001</td>\n      <td>10.160648</td>\n      <td>24.0</td>\n    </tr>\n    <tr>\n      <th>386</th>\n      <td>WISHAW</td>\n      <td>MUIRHOUSE</td>\n      <td>11.0</td>\n      <td>5.098800</td>\n      <td>0.147574</td>\n      <td>0.999581</td>\n      <td>4.934172</td>\n      <td>4.997660</td>\n      <td>5.276328</td>\n      <td>5.508289</td>\n      <td>5.867737</td>\n      <td>10.0</td>\n    </tr>\n    <tr>\n      <th>387</th>\n      <td>WISHAW</td>\n      <td>OVERTOWN</td>\n      <td>11.0</td>\n      <td>7.346304</td>\n      <td>0.350750</td>\n      <td>0.998862</td>\n      <td>7.262960</td>\n      <td>7.367421</td>\n      <td>7.835139</td>\n      <td>8.362594</td>\n      <td>9.001920</td>\n      <td>21.0</td>\n    </tr>\n    <tr>\n      <th>388</th>\n      <td>WISHAW</td>\n      <td>STONEHOUSE</td>\n      <td>11.0</td>\n      <td>5.428110</td>\n      <td>0.769450</td>\n      <td>0.990102</td>\n      <td>5.330274</td>\n      <td>5.233150</td>\n      <td>5.445247</td>\n      <td>5.627228</td>\n      <td>5.925825</td>\n      <td>8.0</td>\n    </tr>\n    <tr>\n      <th>389</th>\n      <td>WISHAW</td>\n      <td>WATLING STREET</td>\n      <td>11.0</td>\n      <td>10.310759</td>\n      <td>-0.040996</td>\n      <td>0.999992</td>\n      <td>10.115727</td>\n      <td>10.338196</td>\n      <td>11.315123</td>\n      <td>12.195502</td>\n      <td>13.416620</td>\n      <td>21.0</td>\n    </tr>\n  </tbody>\n</table>\n<p>390 rows × 12 columns</p>\n</div>"
     },
     "execution_count": 17,
     "metadata": {},
     "output_type": "execute_result"
    }
   ],
   "source": [
    "# spd contains the GSP info. However, because of the excel format, the GSP info only apprears for the first PS in a GSP group, so we need to manually fill the GSP info for the rest of the PSs in the same GSP group\n",
    "for i in range(1, len(spd)):\n",
    "    if spd.iloc[i, 0] != spd.iloc[i, 0]:\n",
    "        spd.iloc[i, 0] = spd.iloc[i-1, 0]\n",
    "\n",
    "# for spm, it does not provide the GSP info and is set to nan\n",
    "spm_process[\"GSP\"] = np.nan\n",
    "spd"
   ],
   "metadata": {
    "collapsed": false,
    "ExecuteTime": {
     "end_time": "2024-03-24T14:02:12.756535200Z",
     "start_time": "2024-03-24T14:02:12.045223600Z"
    }
   },
   "id": "a8b62970c125e5e7"
  },
  {
   "cell_type": "code",
   "execution_count": 18,
   "outputs": [
    {
     "data": {
      "text/plain": "           GSP               PS Name Firm Capacity (MVA)  Demand (MVA)  \\\n0          AYR              glengall                21.0     12.261039   \n1          AYR            heathfield                21.0      9.467769   \n2          AYR           mill street                21.0     15.919486   \n3          AYR            old bridge                24.0      9.652512   \n4    BAINSFORD             callendar                21.0     11.972453   \n..         ...                   ...                 ...           ...   \n723        NaN            wincham t1                 7.5      2.322499   \n724        NaN     wistaston hall t1                 7.5      4.384217   \n725        NaN     wrenbury frith t1                 4.0      3.221136   \n726        NaN      yockings gate t1                10.0      3.419305   \n727        NaN  ysbyty glan clwyd t1                 7.5      3.824776   \n\n           PF  \n0    0.994341  \n1    0.995795  \n2    0.994064  \n3    1.000000  \n4    0.999408  \n..        ...  \n723  0.996208  \n724  0.998150  \n725  0.992794  \n726  0.999792  \n727  0.985023  \n\n[728 rows x 5 columns]",
      "text/html": "<div>\n<style scoped>\n    .dataframe tbody tr th:only-of-type {\n        vertical-align: middle;\n    }\n\n    .dataframe tbody tr th {\n        vertical-align: top;\n    }\n\n    .dataframe thead th {\n        text-align: right;\n    }\n</style>\n<table border=\"1\" class=\"dataframe\">\n  <thead>\n    <tr style=\"text-align: right;\">\n      <th></th>\n      <th>GSP</th>\n      <th>PS Name</th>\n      <th>Firm Capacity (MVA)</th>\n      <th>Demand (MVA)</th>\n      <th>PF</th>\n    </tr>\n  </thead>\n  <tbody>\n    <tr>\n      <th>0</th>\n      <td>AYR</td>\n      <td>glengall</td>\n      <td>21.0</td>\n      <td>12.261039</td>\n      <td>0.994341</td>\n    </tr>\n    <tr>\n      <th>1</th>\n      <td>AYR</td>\n      <td>heathfield</td>\n      <td>21.0</td>\n      <td>9.467769</td>\n      <td>0.995795</td>\n    </tr>\n    <tr>\n      <th>2</th>\n      <td>AYR</td>\n      <td>mill street</td>\n      <td>21.0</td>\n      <td>15.919486</td>\n      <td>0.994064</td>\n    </tr>\n    <tr>\n      <th>3</th>\n      <td>AYR</td>\n      <td>old bridge</td>\n      <td>24.0</td>\n      <td>9.652512</td>\n      <td>1.000000</td>\n    </tr>\n    <tr>\n      <th>4</th>\n      <td>BAINSFORD</td>\n      <td>callendar</td>\n      <td>21.0</td>\n      <td>11.972453</td>\n      <td>0.999408</td>\n    </tr>\n    <tr>\n      <th>...</th>\n      <td>...</td>\n      <td>...</td>\n      <td>...</td>\n      <td>...</td>\n      <td>...</td>\n    </tr>\n    <tr>\n      <th>723</th>\n      <td>NaN</td>\n      <td>wincham t1</td>\n      <td>7.5</td>\n      <td>2.322499</td>\n      <td>0.996208</td>\n    </tr>\n    <tr>\n      <th>724</th>\n      <td>NaN</td>\n      <td>wistaston hall t1</td>\n      <td>7.5</td>\n      <td>4.384217</td>\n      <td>0.998150</td>\n    </tr>\n    <tr>\n      <th>725</th>\n      <td>NaN</td>\n      <td>wrenbury frith t1</td>\n      <td>4.0</td>\n      <td>3.221136</td>\n      <td>0.992794</td>\n    </tr>\n    <tr>\n      <th>726</th>\n      <td>NaN</td>\n      <td>yockings gate t1</td>\n      <td>10.0</td>\n      <td>3.419305</td>\n      <td>0.999792</td>\n    </tr>\n    <tr>\n      <th>727</th>\n      <td>NaN</td>\n      <td>ysbyty glan clwyd t1</td>\n      <td>7.5</td>\n      <td>3.824776</td>\n      <td>0.985023</td>\n    </tr>\n  </tbody>\n</table>\n<p>728 rows × 5 columns</p>\n</div>"
     },
     "execution_count": 18,
     "metadata": {},
     "output_type": "execute_result"
    }
   ],
   "source": [
    "# concat spm and spd data containing the demand, firm capacity, and PF\n",
    "SPEN_df = pd.DataFrame(data = np.vstack([spd.iloc[:,[0, 1,-1,3,5]], spm_process.iloc[:,[-1, 2,-2,0,3]]]), columns = [\"GSP\", \"PS Name\", \"Firm Capacity (MVA)\", \"Demand (MVA)\", \"PF\"])\n",
    "# drop those with nan demand and firm capacity\n",
    "SPEN_df.dropna(subset=[\"Firm Capacity (MVA)\", \"Demand (MVA)\"], inplace=True)\n",
    "# fill nan PF with the assumed PF\n",
    "SPEN_df[\"PF\"] = SPEN_df[\"PF\"].fillna(Assumed_PF)\n",
    "# the original data uses active power for demand, we convert it to apparent power based on the PF\n",
    "SPEN_df[\"Demand (MVA)\"] = SPEN_df[\"Demand (MVA)\"].astype(\"float\").values / SPEN_df[\"PF\"].astype(\"float\").values\n",
    "\n",
    "# process the PS name\n",
    "SPEN_df = process_PS_name(SPEN_df)\n",
    "SPEN_df.reset_index(inplace=True, drop = True)\n",
    "\n",
    "SPEN_df"
   ],
   "metadata": {
    "collapsed": false,
    "ExecuteTime": {
     "end_time": "2024-03-24T14:02:12.756535200Z",
     "start_time": "2024-03-24T14:02:12.107237900Z"
    }
   },
   "id": "89b0ddbc926ca5e5"
  },
  {
   "cell_type": "code",
   "execution_count": 19,
   "outputs": [
    {
     "data": {
      "text/plain": "                                               PS Name    Geo(Long,Lat)\n0                                          aberdyfi t1     -4.06,52.545\n1                             abergele t1 / pensarn t1    -3.561,53.275\n2                                          abersoch t1    -4.524,52.822\n3    aberystwyth t1 / north rd t1 / parc-y-llyn t1 ...  -4.0464,52.4118\n4                                          acer ave t1  -2.4338,53.1106\n..                                                 ...              ...\n387                                       leven street  -3.9912,55.7805\n388                                          muirhouse  -3.9696,55.7761\n389                                           overtown  -3.9104,55.7575\n390                                         stonehouse  -3.9811,55.6958\n391                                     watling street  -4.0123,55.8015\n\n[747 rows x 2 columns]",
      "text/html": "<div>\n<style scoped>\n    .dataframe tbody tr th:only-of-type {\n        vertical-align: middle;\n    }\n\n    .dataframe tbody tr th {\n        vertical-align: top;\n    }\n\n    .dataframe thead th {\n        text-align: right;\n    }\n</style>\n<table border=\"1\" class=\"dataframe\">\n  <thead>\n    <tr style=\"text-align: right;\">\n      <th></th>\n      <th>PS Name</th>\n      <th>Geo(Long,Lat)</th>\n    </tr>\n  </thead>\n  <tbody>\n    <tr>\n      <th>0</th>\n      <td>aberdyfi t1</td>\n      <td>-4.06,52.545</td>\n    </tr>\n    <tr>\n      <th>1</th>\n      <td>abergele t1 / pensarn t1</td>\n      <td>-3.561,53.275</td>\n    </tr>\n    <tr>\n      <th>2</th>\n      <td>abersoch t1</td>\n      <td>-4.524,52.822</td>\n    </tr>\n    <tr>\n      <th>3</th>\n      <td>aberystwyth t1 / north rd t1 / parc-y-llyn t1 ...</td>\n      <td>-4.0464,52.4118</td>\n    </tr>\n    <tr>\n      <th>4</th>\n      <td>acer ave t1</td>\n      <td>-2.4338,53.1106</td>\n    </tr>\n    <tr>\n      <th>...</th>\n      <td>...</td>\n      <td>...</td>\n    </tr>\n    <tr>\n      <th>387</th>\n      <td>leven street</td>\n      <td>-3.9912,55.7805</td>\n    </tr>\n    <tr>\n      <th>388</th>\n      <td>muirhouse</td>\n      <td>-3.9696,55.7761</td>\n    </tr>\n    <tr>\n      <th>389</th>\n      <td>overtown</td>\n      <td>-3.9104,55.7575</td>\n    </tr>\n    <tr>\n      <th>390</th>\n      <td>stonehouse</td>\n      <td>-3.9811,55.6958</td>\n    </tr>\n    <tr>\n      <th>391</th>\n      <td>watling street</td>\n      <td>-4.0123,55.8015</td>\n    </tr>\n  </tbody>\n</table>\n<p>747 rows × 2 columns</p>\n</div>"
     },
     "execution_count": 19,
     "metadata": {},
     "output_type": "execute_result"
    }
   ],
   "source": [
    "# load the datasets containing the information of the PS location\n",
    "SPM_geo_df = pd.read_excel(os.path.join(SPEN, \"SPM.xlsx\"))[[\"PSname\", \"Geo(Long,Lat)\"]]\n",
    "SPD_geo_df = pd.read_excel(os.path.join(SPEN, \"SPD.xlsx\"))[[\"Substation\", \"Geo(Long,Lat)\"]]\n",
    "SPM_geo_df = SPM_geo_df.rename(columns = {\"PSname\":\"PS Name\"})\n",
    "SPD_geo_df = SPD_geo_df.rename(columns = {\"Substation\":\"PS Name\"})\n",
    "\n",
    "SPEN_geo_df = pd.concat([SPM_geo_df, SPD_geo_df], axis = 0)\n",
    "# we need tro extract the geo info to a standard format long, lat\n",
    "SPEN_geo_df[\"Geo(Long,Lat)\"] = SPEN_geo_df[\"Geo(Long,Lat)\"].str.split(\"[\").str[-1].str.replace(' ', '')\n",
    "SPEN_geo_df.dropna(inplace=True)\n",
    "# process the PS name\n",
    "SPEN_geo_df = process_PS_name(SPEN_geo_df)\n",
    "SPEN_geo_df"
   ],
   "metadata": {
    "collapsed": false,
    "ExecuteTime": {
     "end_time": "2024-03-24T14:02:12.757534700Z",
     "start_time": "2024-03-24T14:02:12.125237900Z"
    }
   },
   "id": "a0342ec6081181ac"
  },
  {
   "cell_type": "code",
   "execution_count": 20,
   "outputs": [
    {
     "name": "stdout",
     "output_type": "stream",
     "text": [
      "PS match fails, we try to match kingsland\n",
      "PS match fails, we try to match brd t1\n",
      "PS match fails, we try to match lostock t1\n"
     ]
    },
    {
     "data": {
      "text/plain": "           GSP               PS Name Firm Capacity (MVA)  Demand (MVA)  \\\n0          AYR              glengall                21.0     12.261039   \n1          AYR            heathfield                21.0      9.467769   \n2          AYR           mill street                21.0     15.919486   \n3          AYR            old bridge                24.0      9.652512   \n4    BAINSFORD             callendar                21.0     11.972453   \n..         ...                   ...                 ...           ...   \n723        NaN            wincham t1                 7.5      2.322499   \n724        NaN     wistaston hall t1                 7.5      4.384217   \n725        NaN     wrenbury frith t1                 4.0      3.221136   \n726        NaN      yockings gate t1                10.0      3.419305   \n727        NaN  ysbyty glan clwyd t1                 7.5      3.824776   \n\n           PF    Geo(Long,Lat)  \n0    0.994341    -4.612,55.433  \n1    0.995795    -4.605,55.480  \n2    0.994064  -4.6251,55.4609  \n3    1.000000  -4.5927,55.4765  \n4    0.999408  -3.7806,56.0022  \n..        ...              ...  \n723  0.996208  -2.4855,53.2747  \n724  0.998150  -2.4715,53.0842  \n725  0.992794  -2.6361,53.0334  \n726  0.999792  -2.6756,52.9733  \n727  0.985023  -3.4984,53.2712  \n\n[725 rows x 6 columns]",
      "text/html": "<div>\n<style scoped>\n    .dataframe tbody tr th:only-of-type {\n        vertical-align: middle;\n    }\n\n    .dataframe tbody tr th {\n        vertical-align: top;\n    }\n\n    .dataframe thead th {\n        text-align: right;\n    }\n</style>\n<table border=\"1\" class=\"dataframe\">\n  <thead>\n    <tr style=\"text-align: right;\">\n      <th></th>\n      <th>GSP</th>\n      <th>PS Name</th>\n      <th>Firm Capacity (MVA)</th>\n      <th>Demand (MVA)</th>\n      <th>PF</th>\n      <th>Geo(Long,Lat)</th>\n    </tr>\n  </thead>\n  <tbody>\n    <tr>\n      <th>0</th>\n      <td>AYR</td>\n      <td>glengall</td>\n      <td>21.0</td>\n      <td>12.261039</td>\n      <td>0.994341</td>\n      <td>-4.612,55.433</td>\n    </tr>\n    <tr>\n      <th>1</th>\n      <td>AYR</td>\n      <td>heathfield</td>\n      <td>21.0</td>\n      <td>9.467769</td>\n      <td>0.995795</td>\n      <td>-4.605,55.480</td>\n    </tr>\n    <tr>\n      <th>2</th>\n      <td>AYR</td>\n      <td>mill street</td>\n      <td>21.0</td>\n      <td>15.919486</td>\n      <td>0.994064</td>\n      <td>-4.6251,55.4609</td>\n    </tr>\n    <tr>\n      <th>3</th>\n      <td>AYR</td>\n      <td>old bridge</td>\n      <td>24.0</td>\n      <td>9.652512</td>\n      <td>1.000000</td>\n      <td>-4.5927,55.4765</td>\n    </tr>\n    <tr>\n      <th>4</th>\n      <td>BAINSFORD</td>\n      <td>callendar</td>\n      <td>21.0</td>\n      <td>11.972453</td>\n      <td>0.999408</td>\n      <td>-3.7806,56.0022</td>\n    </tr>\n    <tr>\n      <th>...</th>\n      <td>...</td>\n      <td>...</td>\n      <td>...</td>\n      <td>...</td>\n      <td>...</td>\n      <td>...</td>\n    </tr>\n    <tr>\n      <th>723</th>\n      <td>NaN</td>\n      <td>wincham t1</td>\n      <td>7.5</td>\n      <td>2.322499</td>\n      <td>0.996208</td>\n      <td>-2.4855,53.2747</td>\n    </tr>\n    <tr>\n      <th>724</th>\n      <td>NaN</td>\n      <td>wistaston hall t1</td>\n      <td>7.5</td>\n      <td>4.384217</td>\n      <td>0.998150</td>\n      <td>-2.4715,53.0842</td>\n    </tr>\n    <tr>\n      <th>725</th>\n      <td>NaN</td>\n      <td>wrenbury frith t1</td>\n      <td>4.0</td>\n      <td>3.221136</td>\n      <td>0.992794</td>\n      <td>-2.6361,53.0334</td>\n    </tr>\n    <tr>\n      <th>726</th>\n      <td>NaN</td>\n      <td>yockings gate t1</td>\n      <td>10.0</td>\n      <td>3.419305</td>\n      <td>0.999792</td>\n      <td>-2.6756,52.9733</td>\n    </tr>\n    <tr>\n      <th>727</th>\n      <td>NaN</td>\n      <td>ysbyty glan clwyd t1</td>\n      <td>7.5</td>\n      <td>3.824776</td>\n      <td>0.985023</td>\n      <td>-3.4984,53.2712</td>\n    </tr>\n  </tbody>\n</table>\n<p>725 rows × 6 columns</p>\n</div>"
     },
     "execution_count": 20,
     "metadata": {},
     "output_type": "execute_result"
    }
   ],
   "source": [
    "# merge the SPEN datasets\n",
    "geo_list = []\n",
    "\n",
    "# the process is exactly the same as ENW, see the comments there\n",
    "for idx, row in SPEN_df.iterrows():\n",
    "    ps_name = row[\"PS Name\"]\n",
    "    for j in range(len(ps_name)):\n",
    "        ps_name_l = ps_name[:len(ps_name)-j]\n",
    "        matched_df = SPEN_geo_df[SPEN_geo_df[\"PS Name\"] == ps_name_l]\n",
    "\n",
    "        if (len(matched_df) > 0):\n",
    "            if j >= 1:\n",
    "                print(f\"PS {ps_name}, reduced PS name is {ps_name_l}, the matched ps name is {matched_df['PS Name']}\")\n",
    "            break\n",
    "    if j == (len(ps_name)-1):\n",
    "        print(f\"PS match fails, we try to match {ps_name}\")\n",
    "        geo_list.append(float('nan'))\n",
    "    else:\n",
    "        geo_list.append(matched_df.iloc[0][\"Geo(Long,Lat)\"])\n",
    "\n",
    "\n",
    "SPEN_df['Geo(Long,Lat)'] = geo_list\n",
    "\n",
    "'''\n",
    "among the 728 PSs, to 725\n",
    "'''\n",
    "SPEN_df.dropna(subset = [\"PS Name\", \"Firm Capacity (MVA)\", \"Demand (MVA)\", \"PF\", \"Geo(Long,Lat)\"], inplace=True)\n",
    "\n",
    "del SPEN_geo_df\n",
    "\n",
    "SPEN_df"
   ],
   "metadata": {
    "collapsed": false,
    "ExecuteTime": {
     "end_time": "2024-03-24T14:02:12.935535Z",
     "start_time": "2024-03-24T14:02:12.220004Z"
    }
   },
   "id": "46c437406e77f0be"
  },
  {
   "cell_type": "markdown",
   "source": [
    "### Now we move to SSEN "
   ],
   "metadata": {
    "collapsed": false,
    "pycharm": {
     "name": "#%% md\n"
    }
   },
   "id": "3463027f657d7256"
  },
  {
   "cell_type": "code",
   "execution_count": 21,
   "outputs": [
    {
     "data": {
      "text/plain": "          PS Name  Demand Headroom (MVA)\n0        alderney               8.220754\n1       aldershot               5.828561\n2        alderton              -0.290842\n3       alresford              -1.102272\n4     alton local              19.265346\n..            ...                    ...\n364    whitehouse               2.973702\n365  whitestripes               7.397510\n366   whiting bay               6.712363\n367          wick              14.317315\n368      woodhill              10.769755\n\n[781 rows x 2 columns]",
      "text/html": "<div>\n<style scoped>\n    .dataframe tbody tr th:only-of-type {\n        vertical-align: middle;\n    }\n\n    .dataframe tbody tr th {\n        vertical-align: top;\n    }\n\n    .dataframe thead th {\n        text-align: right;\n    }\n</style>\n<table border=\"1\" class=\"dataframe\">\n  <thead>\n    <tr style=\"text-align: right;\">\n      <th></th>\n      <th>PS Name</th>\n      <th>Demand Headroom (MVA)</th>\n    </tr>\n  </thead>\n  <tbody>\n    <tr>\n      <th>0</th>\n      <td>alderney</td>\n      <td>8.220754</td>\n    </tr>\n    <tr>\n      <th>1</th>\n      <td>aldershot</td>\n      <td>5.828561</td>\n    </tr>\n    <tr>\n      <th>2</th>\n      <td>alderton</td>\n      <td>-0.290842</td>\n    </tr>\n    <tr>\n      <th>3</th>\n      <td>alresford</td>\n      <td>-1.102272</td>\n    </tr>\n    <tr>\n      <th>4</th>\n      <td>alton local</td>\n      <td>19.265346</td>\n    </tr>\n    <tr>\n      <th>...</th>\n      <td>...</td>\n      <td>...</td>\n    </tr>\n    <tr>\n      <th>364</th>\n      <td>whitehouse</td>\n      <td>2.973702</td>\n    </tr>\n    <tr>\n      <th>365</th>\n      <td>whitestripes</td>\n      <td>7.397510</td>\n    </tr>\n    <tr>\n      <th>366</th>\n      <td>whiting bay</td>\n      <td>6.712363</td>\n    </tr>\n    <tr>\n      <th>367</th>\n      <td>wick</td>\n      <td>14.317315</td>\n    </tr>\n    <tr>\n      <th>368</th>\n      <td>woodhill</td>\n      <td>10.769755</td>\n    </tr>\n  </tbody>\n</table>\n<p>781 rows × 2 columns</p>\n</div>"
     },
     "execution_count": 21,
     "metadata": {},
     "output_type": "execute_result"
    }
   ],
   "source": [
    "SSEN_df = ssen.copy()\n",
    "# the following pairs are manually matched and validated, and are listed in our paper\n",
    "SSEN_df.loc[SSEN_df[\"PS Name\"]==\"westpark fergus\", \"PS Name\"] = \"west parkfergus\"\n",
    "SSEN_df.loc[SSEN_df[\"PS Name\"]==\"friockheim\", \"PS Name\"] = \"friokheim\"\n",
    "SSEN_df.loc[SSEN_df[\"PS Name\"]==\"airigh-na-brodaig\", \"PS Name\"] = \"arigh-na-brodaig\"\n",
    "SSEN_df.loc[SSEN_df[\"PS Name\"]==\"tarbert jura\", \"PS Name\"] = \"tarbert, jura\"\n",
    "SSEN_df.loc[SSEN_df[\"PS Name\"]==\"tarbert loch fyne\", \"PS Name\"] = \"tarbert, loch fyne\"\n",
    "SSEN_df.loc[SSEN_df[\"PS Name\"]==\"glenetive\", \"PS Name\"] = \"glen etive\"\n",
    "SSEN_df.loc[SSEN_df[\"PS Name\"]==\"dervaig\", \"PS Name\"] = \"dervaig (incl tiree)\"\n",
    "SSEN_df.loc[SSEN_df[\"PS Name\"]==\"m v e e\", \"PS Name\"] = \"mvee\"\n",
    "SSEN_df.loc[SSEN_df[\"PS Name\"]==\"winterbourne kingston\", \"PS Name\"] = \"winterborne kingston\"\n",
    "\n",
    "# process the PS name\n",
    "SSEN_df = process_PS_name(SSEN_df)\n",
    "\n",
    "SSEN_df.dropna(inplace=True)\n",
    "\n",
    "SSEN_df"
   ],
   "metadata": {
    "collapsed": false,
    "pycharm": {
     "name": "#%%\n"
    },
    "ExecuteTime": {
     "end_time": "2024-03-24T14:02:12.936534300Z",
     "start_time": "2024-03-24T14:02:12.411560100Z"
    }
   },
   "id": "f0313633ddc08c40"
  },
  {
   "cell_type": "code",
   "execution_count": 22,
   "outputs": [
    {
     "data": {
      "text/plain": "          PS Name             GSP Nameplate Rating (MVA)  Maximum Load (MW)  \\\n0            brae        Shetland                    5.0           3.154547   \n1           firth        Shetland                    5.0           1.537854   \n2        gremista        Shetland                   48.0          20.300000   \n3         gutcher        Shetland                    4.0           0.881557   \n4        mid yell        Shetland                    5.0           0.671049   \n..            ...             ...                    ...                ...   \n422        yeovil       AXMINSTER                     20          14.091268   \n423    yetminster       AXMINSTER                    7.5           8.019215   \n424      yiewsley       IVER 66KV                     60          39.486066   \n425  zetland road        LOVEDEAN                     26          17.331495   \n426        winton  MANNINGTON GSP                     26          23.077093   \n\n    Available Headroom Capacity (MVA)          Geo(Long,Lat)  \n0                                 6.0    -1.3477523,60.40164  \n1                            2.898355   -1.2027119,60.448888  \n2                               21.12   -1.1645091,60.166622  \n3                            1.541085    -1.0036359,60.67591  \n4                            5.112774     -1.1221279,60.6035  \n..                                ...                    ...  \n422                                 7   -2.6036695,50.949369  \n423                                 7   -2.5658791,50.889965  \n424                                68  -0.47885336,51.517702  \n425                                24    -1.141628,50.796791  \n426                                 0   -1.8688628,50.743931  \n\n[801 rows x 6 columns]",
      "text/html": "<div>\n<style scoped>\n    .dataframe tbody tr th:only-of-type {\n        vertical-align: middle;\n    }\n\n    .dataframe tbody tr th {\n        vertical-align: top;\n    }\n\n    .dataframe thead th {\n        text-align: right;\n    }\n</style>\n<table border=\"1\" class=\"dataframe\">\n  <thead>\n    <tr style=\"text-align: right;\">\n      <th></th>\n      <th>PS Name</th>\n      <th>GSP</th>\n      <th>Nameplate Rating (MVA)</th>\n      <th>Maximum Load (MW)</th>\n      <th>Available Headroom Capacity (MVA)</th>\n      <th>Geo(Long,Lat)</th>\n    </tr>\n  </thead>\n  <tbody>\n    <tr>\n      <th>0</th>\n      <td>brae</td>\n      <td>Shetland</td>\n      <td>5.0</td>\n      <td>3.154547</td>\n      <td>6.0</td>\n      <td>-1.3477523,60.40164</td>\n    </tr>\n    <tr>\n      <th>1</th>\n      <td>firth</td>\n      <td>Shetland</td>\n      <td>5.0</td>\n      <td>1.537854</td>\n      <td>2.898355</td>\n      <td>-1.2027119,60.448888</td>\n    </tr>\n    <tr>\n      <th>2</th>\n      <td>gremista</td>\n      <td>Shetland</td>\n      <td>48.0</td>\n      <td>20.300000</td>\n      <td>21.12</td>\n      <td>-1.1645091,60.166622</td>\n    </tr>\n    <tr>\n      <th>3</th>\n      <td>gutcher</td>\n      <td>Shetland</td>\n      <td>4.0</td>\n      <td>0.881557</td>\n      <td>1.541085</td>\n      <td>-1.0036359,60.67591</td>\n    </tr>\n    <tr>\n      <th>4</th>\n      <td>mid yell</td>\n      <td>Shetland</td>\n      <td>5.0</td>\n      <td>0.671049</td>\n      <td>5.112774</td>\n      <td>-1.1221279,60.6035</td>\n    </tr>\n    <tr>\n      <th>...</th>\n      <td>...</td>\n      <td>...</td>\n      <td>...</td>\n      <td>...</td>\n      <td>...</td>\n      <td>...</td>\n    </tr>\n    <tr>\n      <th>422</th>\n      <td>yeovil</td>\n      <td>AXMINSTER</td>\n      <td>20</td>\n      <td>14.091268</td>\n      <td>7</td>\n      <td>-2.6036695,50.949369</td>\n    </tr>\n    <tr>\n      <th>423</th>\n      <td>yetminster</td>\n      <td>AXMINSTER</td>\n      <td>7.5</td>\n      <td>8.019215</td>\n      <td>7</td>\n      <td>-2.5658791,50.889965</td>\n    </tr>\n    <tr>\n      <th>424</th>\n      <td>yiewsley</td>\n      <td>IVER 66KV</td>\n      <td>60</td>\n      <td>39.486066</td>\n      <td>68</td>\n      <td>-0.47885336,51.517702</td>\n    </tr>\n    <tr>\n      <th>425</th>\n      <td>zetland road</td>\n      <td>LOVEDEAN</td>\n      <td>26</td>\n      <td>17.331495</td>\n      <td>24</td>\n      <td>-1.141628,50.796791</td>\n    </tr>\n    <tr>\n      <th>426</th>\n      <td>winton</td>\n      <td>MANNINGTON GSP</td>\n      <td>26</td>\n      <td>23.077093</td>\n      <td>0</td>\n      <td>-1.8688628,50.743931</td>\n    </tr>\n  </tbody>\n</table>\n<p>801 rows × 6 columns</p>\n</div>"
     },
     "execution_count": 22,
     "metadata": {},
     "output_type": "execute_result"
    }
   ],
   "source": [
    "# load the geo df\n",
    "SSEN_Scot = pd.read_excel(os.path.join(SSEN, \"ScotlandMapLocation_January_2023.xlsx\"), sheet_name=\"PS\")[[\"Primary Substation Name\", \"GSP Parent\", \"Location Longitude\", \"Location Latitude\", \"Nameplate Rating (MVA)\", \"Maximum Load (MW)\", \"Available Headroom Capacity (MVA)\"]]\n",
    "SSEN_Eng = pd.read_excel(os.path.join(SSEN, \"EnglandMapLocation February 2023.xlsx\"), sheet_name=\"PS\")[[\"Primary Substation Name\", \"GSP Parent\", \"Location Longitude\", \"Location Latitude\", \"Nameplate Rating (MVA)\", \"Maximum Load (MW)\", \"Available Headroom Capacity (MVA)\"]]\n",
    "SSEN_Shet = pd.read_excel(os.path.join(SSEN, \"ShetlandMapLocation_January_2023.xlsx\"), sheet_name=\"PS\")[[\"Primary Substation Name\", \"GSP Parent\", \"Location Longitude\", \"Location Latitude\", \"Nameplate Rating (MVA)\", \"Maximum Load (MW)\", \"Available Headroom Capacity (MVA)\"]]\n",
    "# SSEN_Shet[\"Reg\"] = \"Shetland Islands\"\n",
    "\n",
    "## modify the geo location to Long, Lat format\n",
    "SSEN_Shet[\"Geo(Long,Lat)\"] = SSEN_Shet[[\"Location Longitude\", \"Location Latitude\"]].astype(\"str\").agg(','.join, axis=1)\n",
    "SSEN_Scot[\"Geo(Long,Lat)\"] = SSEN_Scot[[\"Location Longitude\", \"Location Latitude\"]].astype(\"str\").agg(','.join, axis=1)\n",
    "SSEN_Eng[\"Geo(Long,Lat)\"] = SSEN_Eng[[\"Location Longitude\", \"Location Latitude\"]].astype(\"str\").agg(','.join, axis=1)\n",
    "\n",
    "SSEN_geo_df = pd.concat([SSEN_Shet, SSEN_Scot, SSEN_Eng], axis = 0)\n",
    "SSEN_geo_df.drop(columns=[\"Location Longitude\", \"Location Latitude\"], inplace=True)\n",
    "SSEN_geo_df.rename(columns = {\"Primary Substation Name\":\"PS Name\", \"GSP Parent\":\"GSP\"}, inplace=True)\n",
    "SSEN_geo_df[\"PS Name\"] = SSEN_geo_df[\"PS Name\"].str.lower()\n",
    "SSEN_geo_df = SSEN_geo_df[~pd.to_numeric(SSEN_geo_df[\"Available Headroom Capacity (MVA)\"], errors='coerce').isna()]\n",
    "\n",
    "# process the PS name\n",
    "SSEN_geo_df = process_PS_name(SSEN_geo_df)\n",
    "# the maximum load recorded has deduced the generation contribution. This is stated at the \"Acronyms\" tag in the data source: https://network-maps.ssen.co.uk/opendataportal\n",
    "SSEN_geo_df"
   ],
   "metadata": {
    "collapsed": false,
    "pycharm": {
     "name": "#%%\n"
    },
    "ExecuteTime": {
     "end_time": "2024-03-24T14:02:23.182535200Z",
     "start_time": "2024-03-24T14:02:12.420535900Z"
    }
   },
   "id": "94c9c9774a74bb97"
  },
  {
   "cell_type": "code",
   "execution_count": 23,
   "outputs": [
    {
     "data": {
      "text/plain": "(6.861846117264931, 10.804164694695986)"
     },
     "execution_count": 23,
     "metadata": {},
     "output_type": "execute_result"
    }
   ],
   "source": [
    "SSEN_df[\"Demand Headroom (MVA)\"].mean(), SSEN_geo_df[\"Available Headroom Capacity (MVA)\"].mean()"
   ],
   "metadata": {
    "collapsed": false,
    "ExecuteTime": {
     "end_time": "2024-03-24T14:02:23.195534500Z",
     "start_time": "2024-03-24T14:02:23.180535200Z"
    }
   },
   "id": "af3fe3f502f79ea7"
  },
  {
   "cell_type": "code",
   "execution_count": 24,
   "outputs": [],
   "source": [
    "# below are the manually matched and validated PS names\n",
    "SSEN_geo_df.loc[SSEN_geo_df[\"PS Name\"]==\"loch lubnaig\", \"PS Name\"] = \"lubnaig\"\n",
    "SSEN_geo_df.loc[SSEN_geo_df[\"PS Name\"]==\"stoneywood mills t3\", \"PS Name\"] = \"stoneywood t3\"\n",
    "SSEN_geo_df.loc[SSEN_geo_df[\"PS Name\"]==\"laburnam road\", \"PS Name\"] = \"laburnum road\"\n",
    "SSEN_geo_df.loc[SSEN_geo_df[\"PS Name\"]==\"tarbert, harris\", \"PS Name\"] = \"tarbert\"\n",
    "SSEN_geo_df.loc[SSEN_geo_df[\"PS Name\"]==\"bledington\", \"PS Name\"] = \"bleddington\"\n",
    "SSEN_geo_df.loc[SSEN_geo_df[\"PS Name\"]==\"laburnum road\", \"PS Name\"] = \"laburnam road\"\n",
    "SSEN_geo_df.loc[SSEN_geo_df[\"PS Name\"]==\"beaconsfield (end b/b)\", \"PS Name\"] = \"beaconsfield (end bb)\"\n",
    "SSEN_geo_df.loc[SSEN_geo_df[\"PS Name\"]==\"beaconsfield (middle b/b)\", \"PS Name\"] = \"beaconsfield (middle bb)\"\n",
    "SSEN_geo_df.loc[SSEN_geo_df[\"PS Name\"]==\"chandlers ford\", \"PS Name\"] = \"chandlersford\"\n",
    "SSEN_geo_df.loc[SSEN_geo_df[\"PS Name\"]==\"chilton cantelo\", \"PS Name\"] = \"chilton cantello\"\n",
    "SSEN_geo_df.loc[SSEN_geo_df[\"PS Name\"]==\"hincheslea\", \"PS Name\"] = \"hinchelsea\"\n",
    "SSEN_geo_df.loc[SSEN_geo_df[\"PS Name\"]==\"crookham\", \"PS Name\"] = \"crookham (church)\"\n",
    "SSEN_geo_df.loc[SSEN_geo_df[\"PS Name\"]==\"mill lane\", \"PS Name\"] = \"mill lane, ringwood\"\n",
    "SSEN_geo_df.loc[SSEN_geo_df[\"PS Name\"]==\"south bersted\", \"PS Name\"] = \"south berstead\"\n",
    "SSEN_geo_df.loc[SSEN_geo_df[\"PS Name\"]==\"whiteley\", \"PS Name\"] = \"whiteley wood\"\n",
    "SSEN_geo_df.loc[SSEN_geo_df[\"PS Name\"]==\"yatton keynell\", \"PS Name\"] = \"yatton keynall\"\n",
    "SSEN_geo_df.loc[SSEN_geo_df[\"PS Name\"]==\"arderseir\", \"PS Name\"] = \"ardersier\"\n",
    "SSEN_geo_df.loc[SSEN_geo_df[\"PS Name\"]==\"burgar hill\", \"PS Name\"] = \"burgarhill\"\n",
    "SSEN_geo_df.loc[SSEN_geo_df[\"PS Name\"]==\"dunvegan\", \"PS Name\"] = \"dunvegan grid\"\n",
    "SSEN_geo_df.loc[SSEN_geo_df[\"PS Name\"]==\"ellon\", \"PS Name\"] = \"ellon 11 kv\"\n",
    "SSEN_geo_df.loc[SSEN_geo_df[\"PS Name\"]==\"glendoe\", \"PS Name\"] = \"glendoe primary\"\n",
    "SSEN_geo_df.loc[SSEN_geo_df[\"PS Name\"]==\"perth harbour\", \"PS Name\"] = \"harbour\"\n",
    "SSEN_geo_df.loc[SSEN_geo_df[\"PS Name\"]==\"inverness\", \"PS Name\"] = \"inverness 11 kv\"\n",
    "SSEN_geo_df.loc[SSEN_geo_df[\"PS Name\"]==\"kilmelford\", \"PS Name\"] = \"kilmelford ps\"\n",
    "SSEN_geo_df.loc[SSEN_geo_df[\"PS Name\"]==\"kishorn hill\", \"PS Name\"] = \"kishornhill\"\n",
    "SSEN_geo_df.loc[SSEN_geo_df[\"PS Name\"]==\"lairg\", \"PS Name\"] = \"lairg grid\"\n",
    "SSEN_geo_df.loc[SSEN_geo_df[\"PS Name\"]==\"quoich\", \"PS Name\"] = \"quoich primary\"\n",
    "SSEN_geo_df.loc[SSEN_geo_df[\"PS Name\"]==\"setter sandwick\", \"PS Name\"] = \"sandwick\"\n",
    "SSEN_geo_df.loc[SSEN_geo_df[\"PS Name\"]==\"st mary's\", \"PS Name\"] = \"st marys\"\n",
    "\n",
    "SSEN_geo_df.reset_index(drop=True, inplace=True)"
   ],
   "metadata": {
    "collapsed": false,
    "pycharm": {
     "name": "#%%\n"
    },
    "ExecuteTime": {
     "end_time": "2024-03-24T14:02:23.287534Z",
     "start_time": "2024-03-24T14:02:23.200534100Z"
    }
   },
   "id": "e88457f6054e0fdb"
  },
  {
   "cell_type": "markdown",
   "source": [
    "#### Now we combine them together"
   ],
   "metadata": {
    "collapsed": false,
    "pycharm": {
     "name": "#%% md\n"
    }
   },
   "id": "1ef5f04e9b434d70"
  },
  {
   "cell_type": "code",
   "execution_count": 25,
   "outputs": [
    {
     "name": "stdout",
     "output_type": "stream",
     "text": [
      "PS dorchester town, reduced PS name is dorchester, the matched ps name is 487    dorchester\n",
      "Name: PS Name, dtype: object\n",
      "PS match fails, we try to match plessey swindon\n",
      "PS match fails, we try to match plessy titchfield\n",
      "PS pressed steel swindon se, reduced PS name is pressed steel swindon, the matched ps name is 661    pressed steel swindon\n",
      "Name: PS Name, dtype: object\n",
      "PS match fails, we try to match warminster\n",
      "PS match fails, we try to match whiteley\n",
      "PS bilbohall, reduced PS name is bilbohal, the matched ps name is 143    bilbohal\n",
      "Name: PS Name, dtype: object\n",
      "PS boat of garten 11 kv, reduced PS name is boat of garten, the matched ps name is 51    boat of garten\n",
      "Name: PS Name, dtype: object\n",
      "PS bridge of dun 11kv, reduced PS name is bridge of dun, the matched ps name is 63    bridge of dun\n",
      "Name: PS Name, dtype: object\n",
      "PS match fails, we try to match chaorach\n",
      "PS match fails, we try to match craigton\n",
      "PS match fails, we try to match cromalt\n",
      "PS match fails, we try to match dounreay\n",
      "PS match fails, we try to match grudie bridge\n",
      "PS match fails, we try to match mill rd montrose\n",
      "PS peterhead grange 11kv, reduced PS name is peterhead grange, the matched ps name is 273    peterhead grange\n",
      "Name: PS Name, dtype: object\n",
      "PS match fails, we try to match phead north st\n",
      "PS match fails, we try to match salen\n",
      "PS match fails, we try to match salen 2\n",
      "PS match fails, we try to match st fergus gas term\n",
      "PS match fails, we try to match st fillans p s\n",
      "PS match fails, we try to match stoneyhill\n",
      "PS match fails, we try to match stoneywood t1&t2\n"
     ]
    },
    {
     "data": {
      "text/plain": "          PS Name             GSP                 Geo(Long,Lat)  Demand (MVA)  \\\n0        alderney  MANNINGTON GSP           -1.940832,50.755851     19.797766   \n1       aldershot   FLEET BRAMLEY         -0.76998103,51.232226     13.503644   \n2        alderton        MELKSHAM          -2.2233876,51.555203      3.345112   \n3       alresford   FLEET BRAMLEY          -1.1491999,51.088816     12.150349   \n4     alton local   FLEET BRAMLEY         -0.96575932,51.151139     29.795071   \n..            ...             ...                           ...           ...   \n776    whitehouse         Tarland  -2.63662419851,57.2246437988      5.303135   \n777  whitestripes         Persley  -2.11994395313,57.1902328438      7.415694   \n778   whiting bay       Carradale  -5.10133382714,55.4909442156      2.467887   \n779          wick         Mybster  -3.10513418207,58.4420540852      9.147671   \n780      woodhill        Woodhill  -2.14612304313,57.1542657948     15.409077   \n\n     Firm Capacity (MVA)  \n0              28.018521  \n1              19.332205  \n2               3.054270  \n3              11.048077  \n4              49.060417  \n..                   ...  \n776             8.276837  \n777            14.813204  \n778             9.180251  \n779            23.464987  \n780            26.178832  \n\n[764 rows x 5 columns]",
      "text/html": "<div>\n<style scoped>\n    .dataframe tbody tr th:only-of-type {\n        vertical-align: middle;\n    }\n\n    .dataframe tbody tr th {\n        vertical-align: top;\n    }\n\n    .dataframe thead th {\n        text-align: right;\n    }\n</style>\n<table border=\"1\" class=\"dataframe\">\n  <thead>\n    <tr style=\"text-align: right;\">\n      <th></th>\n      <th>PS Name</th>\n      <th>GSP</th>\n      <th>Geo(Long,Lat)</th>\n      <th>Demand (MVA)</th>\n      <th>Firm Capacity (MVA)</th>\n    </tr>\n  </thead>\n  <tbody>\n    <tr>\n      <th>0</th>\n      <td>alderney</td>\n      <td>MANNINGTON GSP</td>\n      <td>-1.940832,50.755851</td>\n      <td>19.797766</td>\n      <td>28.018521</td>\n    </tr>\n    <tr>\n      <th>1</th>\n      <td>aldershot</td>\n      <td>FLEET BRAMLEY</td>\n      <td>-0.76998103,51.232226</td>\n      <td>13.503644</td>\n      <td>19.332205</td>\n    </tr>\n    <tr>\n      <th>2</th>\n      <td>alderton</td>\n      <td>MELKSHAM</td>\n      <td>-2.2233876,51.555203</td>\n      <td>3.345112</td>\n      <td>3.054270</td>\n    </tr>\n    <tr>\n      <th>3</th>\n      <td>alresford</td>\n      <td>FLEET BRAMLEY</td>\n      <td>-1.1491999,51.088816</td>\n      <td>12.150349</td>\n      <td>11.048077</td>\n    </tr>\n    <tr>\n      <th>4</th>\n      <td>alton local</td>\n      <td>FLEET BRAMLEY</td>\n      <td>-0.96575932,51.151139</td>\n      <td>29.795071</td>\n      <td>49.060417</td>\n    </tr>\n    <tr>\n      <th>...</th>\n      <td>...</td>\n      <td>...</td>\n      <td>...</td>\n      <td>...</td>\n      <td>...</td>\n    </tr>\n    <tr>\n      <th>776</th>\n      <td>whitehouse</td>\n      <td>Tarland</td>\n      <td>-2.63662419851,57.2246437988</td>\n      <td>5.303135</td>\n      <td>8.276837</td>\n    </tr>\n    <tr>\n      <th>777</th>\n      <td>whitestripes</td>\n      <td>Persley</td>\n      <td>-2.11994395313,57.1902328438</td>\n      <td>7.415694</td>\n      <td>14.813204</td>\n    </tr>\n    <tr>\n      <th>778</th>\n      <td>whiting bay</td>\n      <td>Carradale</td>\n      <td>-5.10133382714,55.4909442156</td>\n      <td>2.467887</td>\n      <td>9.180251</td>\n    </tr>\n    <tr>\n      <th>779</th>\n      <td>wick</td>\n      <td>Mybster</td>\n      <td>-3.10513418207,58.4420540852</td>\n      <td>9.147671</td>\n      <td>23.464987</td>\n    </tr>\n    <tr>\n      <th>780</th>\n      <td>woodhill</td>\n      <td>Woodhill</td>\n      <td>-2.14612304313,57.1542657948</td>\n      <td>15.409077</td>\n      <td>26.178832</td>\n    </tr>\n  </tbody>\n</table>\n<p>764 rows × 5 columns</p>\n</div>"
     },
     "execution_count": 25,
     "metadata": {},
     "output_type": "execute_result"
    }
   ],
   "source": [
    "gsp_list = []\n",
    "demand_list = []\n",
    "geo_list = []\n",
    "\n",
    "# the process is exactly the same as ENW, see the comments there\n",
    "for idx, row in SSEN_df.iterrows():\n",
    "    ps_name = row[\"PS Name\"]\n",
    "    # M needs to be set slightly smaller, otherwise there will be a lot of wrong matches\n",
    "    M = len(ps_name) // 2 if len(ps_name) > 3 else len(ps_name)\n",
    "    for j in range(M):\n",
    "        ps_name_l = ps_name[:len(ps_name)-j]\n",
    "        matched_df = SSEN_geo_df[SSEN_geo_df[\"PS Name\"] == ps_name_l]\n",
    "\n",
    "        if (len(matched_df) > 0):\n",
    "            if j >= 1:\n",
    "                print(f\"PS {ps_name}, reduced PS name is {ps_name_l}, the matched ps name is {matched_df['PS Name']}\")\n",
    "            break\n",
    "    if j == (M-1):\n",
    "        print(f\"PS match fails, we try to match {ps_name}\")\n",
    "        gsp_list.append(float(\"nan\"))\n",
    "        geo_list.append(float('nan'))\n",
    "        demand_list.append(float('nan'))\n",
    "    else:\n",
    "        gsp_list.append(matched_df.iloc[0][\"GSP\"])\n",
    "        geo_list.append(matched_df.iloc[0][\"Geo(Long,Lat)\"])\n",
    "        demand_list.append(matched_df.iloc[0][\"Maximum Load (MW)\"] / Assumed_PF)\n",
    "\n",
    "\n",
    "SSEN_df[\"GSP\"] = gsp_list\n",
    "SSEN_df['Geo(Long,Lat)'] = geo_list\n",
    "SSEN_df[\"Demand (MVA)\"] = demand_list\n",
    "\n",
    "SSEN_df.reset_index(inplace=True, drop=True)\n",
    "\n",
    "'''\n",
    "from 781 to 764, lost 17, corresponding to a 2.2% loss, acceptable\n",
    "'''\n",
    "del SSEN_geo_df\n",
    "\n",
    "SSEN_df.dropna(subset = [\"PS Name\", \"Demand Headroom (MVA)\", \"Demand (MVA)\", \"Geo(Long,Lat)\", \"GSP\"], inplace=True)\n",
    "SSEN_df[\"Firm Capacity (MVA)\"] = SSEN_df[\"Demand (MVA)\"].astype(\"float\")+SSEN_df[\"Demand Headroom (MVA)\"].astype(\"float\")\n",
    "SSEN_df.drop(columns=[\"Demand Headroom (MVA)\"], inplace=True)\n",
    "\n",
    "SSEN_df\n"
   ],
   "metadata": {
    "collapsed": false,
    "pycharm": {
     "name": "#%%\n"
    },
    "ExecuteTime": {
     "end_time": "2024-03-24T14:02:23.554534500Z",
     "start_time": "2024-03-24T14:02:23.232533700Z"
    }
   },
   "id": "8e14b37762838f6b"
  },
  {
   "cell_type": "markdown",
   "source": [
    "### Now we move to UKPN\n",
    "\n",
    "We need to combine with the DFES data to map PS to GSP: https://ukpowernetworks.opendatasoft.com/explore/dataset/dfes-network-headroom-report/export/"
   ],
   "metadata": {
    "collapsed": false,
    "pycharm": {
     "name": "#%% md\n"
    }
   },
   "id": "d7ff47a406de80ff"
  },
  {
   "cell_type": "code",
   "execution_count": 26,
   "outputs": [],
   "source": [
    "# dfes data is for loading the parent GSP info\n",
    "ukpn_dfes = pd.read_csv(os.path.join(UKPN, \"dfes-network-headroom-report.csv\"))\n",
    "# remove duplicate Substation Name\n",
    "ukpn_dfes = ukpn_dfes.drop_duplicates(subset=['Substation Name'])[['Substation Name', \"GridSupplyPoint\"]].reset_index(drop = True)\n",
    "ukpn_dfes.rename(columns = {\"GridSupplyPoint\":\"GSP\"}, inplace = True)\n",
    "\n",
    "# for Substation Name, remove the last word if it contains \"kV\"\n",
    "ukpn_dfes[\"Substation Name\"] = ukpn_dfes[\"Substation Name\"].str.lower()\n",
    "ukpn_dfes[\"Substation Name\"] = ukpn_dfes[\"Substation Name\"].str.replace(r'( \\d+kv)|( \\d+\\.\\d+kv)', '', regex=True)\n",
    "\n",
    "# below are the manually matched and validated PS names\n",
    "ukpn_dfes.loc[ukpn_dfes[\"Substation Name\"] == \"grovehurst local\", \"Substation Name\"] = \"grovehurst\"\n",
    "ukpn_dfes.loc[ukpn_dfes[\"Substation Name\"] == \"carnaby st 11 kv\", \"Substation Name\"] = \"carnaby st 11\"\n",
    "ukpn_dfes.loc[ukpn_dfes[\"Substation Name\"] == \"coulsdon 33/11kv\", \"Substation Name\"] = \"coulsdon\"\n",
    "ukpn_dfes.loc[ukpn_dfes[\"Substation Name\"] == \"morehall 132/11kv\", \"Substation Name\"] = \"morehall\"\n",
    "ukpn_dfes.loc[ukpn_dfes[\"Substation Name\"] == \"horley 33/11\", \"Substation Name\"] = \"horley\""
   ],
   "metadata": {
    "collapsed": false,
    "ExecuteTime": {
     "end_time": "2024-03-24T14:02:23.838534600Z",
     "start_time": "2024-03-24T14:02:23.555535100Z"
    }
   },
   "id": "b4b3faa975e216a3"
  },
  {
   "cell_type": "code",
   "execution_count": 27,
   "outputs": [
    {
     "data": {
      "text/plain": "                     PS Name  Demand (MVA)  Firm Capacity (MVA)  PF  \\\n0      chelmsford north grid      39.42360                 47.0 NaN   \n1             little barford      21.21273                 23.1 NaN   \n2            huntingdon grid      34.44000                 35.0 NaN   \n3    peterborough south grid      26.08515                 44.1 NaN   \n4             tottenham grid      19.73084                 21.2 NaN   \n..                       ...           ...                  ...  ..   \n801           west weybridge      26.80104                 29.4 NaN   \n802         littlebrook park       8.83584                 57.6 NaN   \n803           hastings local      45.37056                 56.6 NaN   \n804     maidstone grid north      15.50016                 28.8 NaN   \n805     maidstone grid north      15.50016                 28.8 NaN   \n\n                               Geo(Long,Lat)  \n0      0.4853435403012911,51.760341498125385  \n1     -0.26254651195987533,52.20636132516695  \n2     -0.27895781257178703,52.07742736242102  \n3    -0.24914922943246381,52.543561543850096  \n4    -0.05107966963984393,51.600979331009555  \n..                                       ...  \n801    -0.522593206938378,51.359270160960946  \n802    0.22861276913695316,51.46629281270819  \n803    0.6086389702283078,50.908723329022195  \n804    0.5163846937343359,51.265015712969365  \n805     0.5906694942460274,51.29547990385983  \n\n[803 rows x 5 columns]",
      "text/html": "<div>\n<style scoped>\n    .dataframe tbody tr th:only-of-type {\n        vertical-align: middle;\n    }\n\n    .dataframe tbody tr th {\n        vertical-align: top;\n    }\n\n    .dataframe thead th {\n        text-align: right;\n    }\n</style>\n<table border=\"1\" class=\"dataframe\">\n  <thead>\n    <tr style=\"text-align: right;\">\n      <th></th>\n      <th>PS Name</th>\n      <th>Demand (MVA)</th>\n      <th>Firm Capacity (MVA)</th>\n      <th>PF</th>\n      <th>Geo(Long,Lat)</th>\n    </tr>\n  </thead>\n  <tbody>\n    <tr>\n      <th>0</th>\n      <td>chelmsford north grid</td>\n      <td>39.42360</td>\n      <td>47.0</td>\n      <td>NaN</td>\n      <td>0.4853435403012911,51.760341498125385</td>\n    </tr>\n    <tr>\n      <th>1</th>\n      <td>little barford</td>\n      <td>21.21273</td>\n      <td>23.1</td>\n      <td>NaN</td>\n      <td>-0.26254651195987533,52.20636132516695</td>\n    </tr>\n    <tr>\n      <th>2</th>\n      <td>huntingdon grid</td>\n      <td>34.44000</td>\n      <td>35.0</td>\n      <td>NaN</td>\n      <td>-0.27895781257178703,52.07742736242102</td>\n    </tr>\n    <tr>\n      <th>3</th>\n      <td>peterborough south grid</td>\n      <td>26.08515</td>\n      <td>44.1</td>\n      <td>NaN</td>\n      <td>-0.24914922943246381,52.543561543850096</td>\n    </tr>\n    <tr>\n      <th>4</th>\n      <td>tottenham grid</td>\n      <td>19.73084</td>\n      <td>21.2</td>\n      <td>NaN</td>\n      <td>-0.05107966963984393,51.600979331009555</td>\n    </tr>\n    <tr>\n      <th>...</th>\n      <td>...</td>\n      <td>...</td>\n      <td>...</td>\n      <td>...</td>\n      <td>...</td>\n    </tr>\n    <tr>\n      <th>801</th>\n      <td>west weybridge</td>\n      <td>26.80104</td>\n      <td>29.4</td>\n      <td>NaN</td>\n      <td>-0.522593206938378,51.359270160960946</td>\n    </tr>\n    <tr>\n      <th>802</th>\n      <td>littlebrook park</td>\n      <td>8.83584</td>\n      <td>57.6</td>\n      <td>NaN</td>\n      <td>0.22861276913695316,51.46629281270819</td>\n    </tr>\n    <tr>\n      <th>803</th>\n      <td>hastings local</td>\n      <td>45.37056</td>\n      <td>56.6</td>\n      <td>NaN</td>\n      <td>0.6086389702283078,50.908723329022195</td>\n    </tr>\n    <tr>\n      <th>804</th>\n      <td>maidstone grid north</td>\n      <td>15.50016</td>\n      <td>28.8</td>\n      <td>NaN</td>\n      <td>0.5163846937343359,51.265015712969365</td>\n    </tr>\n    <tr>\n      <th>805</th>\n      <td>maidstone grid north</td>\n      <td>15.50016</td>\n      <td>28.8</td>\n      <td>NaN</td>\n      <td>0.5906694942460274,51.29547990385983</td>\n    </tr>\n  </tbody>\n</table>\n<p>803 rows × 5 columns</p>\n</div>"
     },
     "execution_count": 27,
     "metadata": {},
     "output_type": "execute_result"
    }
   ],
   "source": [
    "# demand headroom stored in ukpn is in %\n",
    "UKPN_df = pd.DataFrame(data = ukpn[[\"PrimarySu\", \"FirmCapaci\", \"FirmCapa_1\", \"DemandHeadroom\", \"Geo Point\"]].values, columns = [\"PS Name\", \"Firm Capacity 0 (MVA)\", \"Firm Capacity 1 (MVA)\", \"Demand (MVA)\", \"Geo Point\"])\n",
    "# set firm capacity to the minimum of the two\n",
    "UKPN_df[\"Firm Capacity (MVA)\"] = np.minimum(pd.to_numeric(UKPN_df[\"Firm Capacity 0 (MVA)\"], errors='coerce'), pd.to_numeric(UKPN_df[\"Firm Capacity 1 (MVA)\"], errors='coerce'))\n",
    "# drop the two original firm capacity cols\n",
    "UKPN_df.drop(columns=[\"Firm Capacity 0 (MVA)\", \"Firm Capacity 1 (MVA)\"], inplace=True)\n",
    "UKPN_df[\"PF\"] = np.nan\n",
    "# convert the headroom % to demand\n",
    "# because it is demand headroom, so it must be the net demand\n",
    "UKPN_df[\"Demand (MVA)\"] = pd.to_numeric(UKPN_df[\"Firm Capacity (MVA)\"], errors='coerce') * (1-UKPN_df[\"Demand (MVA)\"].str.rstrip('%').astype('float') / 100.0)\n",
    "UKPN_df[\"PS Name\"] = UKPN_df[\"PS Name\"].str.lower()\n",
    "UKPN_df.dropna(subset=[\"PS Name\"], inplace = True)\n",
    "\n",
    "### standardise the geo loc in the format as Geo(Long,Lat)\n",
    "geo_list = []\n",
    "for geoloc in UKPN_df[\"Geo Point\"]:\n",
    "    # note UKPN data geo order is reversed.\n",
    "    lat, lon = geoloc.split(\",\")\n",
    "    lon, lat = float(lon.strip()), float(lat.strip())\n",
    "    geo_list.append(f\"{lon},{lat}\")\n",
    "\n",
    "UKPN_df[\"Geo(Long,Lat)\"] = geo_list\n",
    "UKPN_df.drop(columns=[\"Geo Point\"], inplace=True)\n",
    "\n",
    "UKPN_df.dropna(subset=[\"Firm Capacity (MVA)\", \"Demand (MVA)\"], inplace=True)\n",
    "UKPN_df"
   ],
   "metadata": {
    "collapsed": false,
    "pycharm": {
     "name": "#%%\n"
    },
    "ExecuteTime": {
     "end_time": "2024-03-24T14:02:23.874534800Z",
     "start_time": "2024-03-24T14:02:23.841534700Z"
    }
   },
   "id": "71c824c5bd061dd6"
  },
  {
   "cell_type": "markdown",
   "source": [
    "#### Now we merge UKPN_df with the DFES data"
   ],
   "metadata": {
    "collapsed": false,
    "pycharm": {
     "name": "#%% md\n"
    }
   },
   "id": "13a72971d5dbc722"
  },
  {
   "cell_type": "code",
   "execution_count": 28,
   "outputs": [
    {
     "data": {
      "text/plain": "                     PS Name  Demand (MVA)  Firm Capacity (MVA)  PF  \\\n0      chelmsford north grid      39.42360                 47.0 NaN   \n1             little barford      21.21273                 23.1 NaN   \n2            huntingdon grid      34.44000                 35.0 NaN   \n3    peterborough south grid      26.08515                 44.1 NaN   \n4             tottenham grid      19.73084                 21.2 NaN   \n..                       ...           ...                  ...  ..   \n801           west weybridge      26.80104                 29.4 NaN   \n802         littlebrook park       8.83584                 57.6 NaN   \n803           hastings local      45.37056                 56.6 NaN   \n804     maidstone grid north      15.50016                 28.8 NaN   \n805     maidstone grid north      15.50016                 28.8 NaN   \n\n                               Geo(Long,Lat)             GSP  \n0      0.4853435403012911,51.760341498125385       Braintree  \n1     -0.26254651195987533,52.20636132516695     Eaton Socon  \n2     -0.27895781257178703,52.07742736242102     Eaton Socon  \n3    -0.24914922943246381,52.543561543850096         Walpole  \n4    -0.05107966963984393,51.600979331009555       Tottenham  \n..                                       ...             ...  \n801    -0.522593206938378,51.359270160960946  West Weybridge  \n802    0.22861276913695316,51.46629281270819     Littlebrook  \n803    0.6086389702283078,50.908723329022195        Ninfield  \n804    0.5163846937343359,51.265015712969365      Canterbury  \n805     0.5906694942460274,51.29547990385983      Canterbury  \n\n[803 rows x 6 columns]",
      "text/html": "<div>\n<style scoped>\n    .dataframe tbody tr th:only-of-type {\n        vertical-align: middle;\n    }\n\n    .dataframe tbody tr th {\n        vertical-align: top;\n    }\n\n    .dataframe thead th {\n        text-align: right;\n    }\n</style>\n<table border=\"1\" class=\"dataframe\">\n  <thead>\n    <tr style=\"text-align: right;\">\n      <th></th>\n      <th>PS Name</th>\n      <th>Demand (MVA)</th>\n      <th>Firm Capacity (MVA)</th>\n      <th>PF</th>\n      <th>Geo(Long,Lat)</th>\n      <th>GSP</th>\n    </tr>\n  </thead>\n  <tbody>\n    <tr>\n      <th>0</th>\n      <td>chelmsford north grid</td>\n      <td>39.42360</td>\n      <td>47.0</td>\n      <td>NaN</td>\n      <td>0.4853435403012911,51.760341498125385</td>\n      <td>Braintree</td>\n    </tr>\n    <tr>\n      <th>1</th>\n      <td>little barford</td>\n      <td>21.21273</td>\n      <td>23.1</td>\n      <td>NaN</td>\n      <td>-0.26254651195987533,52.20636132516695</td>\n      <td>Eaton Socon</td>\n    </tr>\n    <tr>\n      <th>2</th>\n      <td>huntingdon grid</td>\n      <td>34.44000</td>\n      <td>35.0</td>\n      <td>NaN</td>\n      <td>-0.27895781257178703,52.07742736242102</td>\n      <td>Eaton Socon</td>\n    </tr>\n    <tr>\n      <th>3</th>\n      <td>peterborough south grid</td>\n      <td>26.08515</td>\n      <td>44.1</td>\n      <td>NaN</td>\n      <td>-0.24914922943246381,52.543561543850096</td>\n      <td>Walpole</td>\n    </tr>\n    <tr>\n      <th>4</th>\n      <td>tottenham grid</td>\n      <td>19.73084</td>\n      <td>21.2</td>\n      <td>NaN</td>\n      <td>-0.05107966963984393,51.600979331009555</td>\n      <td>Tottenham</td>\n    </tr>\n    <tr>\n      <th>...</th>\n      <td>...</td>\n      <td>...</td>\n      <td>...</td>\n      <td>...</td>\n      <td>...</td>\n      <td>...</td>\n    </tr>\n    <tr>\n      <th>801</th>\n      <td>west weybridge</td>\n      <td>26.80104</td>\n      <td>29.4</td>\n      <td>NaN</td>\n      <td>-0.522593206938378,51.359270160960946</td>\n      <td>West Weybridge</td>\n    </tr>\n    <tr>\n      <th>802</th>\n      <td>littlebrook park</td>\n      <td>8.83584</td>\n      <td>57.6</td>\n      <td>NaN</td>\n      <td>0.22861276913695316,51.46629281270819</td>\n      <td>Littlebrook</td>\n    </tr>\n    <tr>\n      <th>803</th>\n      <td>hastings local</td>\n      <td>45.37056</td>\n      <td>56.6</td>\n      <td>NaN</td>\n      <td>0.6086389702283078,50.908723329022195</td>\n      <td>Ninfield</td>\n    </tr>\n    <tr>\n      <th>804</th>\n      <td>maidstone grid north</td>\n      <td>15.50016</td>\n      <td>28.8</td>\n      <td>NaN</td>\n      <td>0.5163846937343359,51.265015712969365</td>\n      <td>Canterbury</td>\n    </tr>\n    <tr>\n      <th>805</th>\n      <td>maidstone grid north</td>\n      <td>15.50016</td>\n      <td>28.8</td>\n      <td>NaN</td>\n      <td>0.5906694942460274,51.29547990385983</td>\n      <td>Canterbury</td>\n    </tr>\n  </tbody>\n</table>\n<p>803 rows × 6 columns</p>\n</div>"
     },
     "execution_count": 28,
     "metadata": {},
     "output_type": "execute_result"
    }
   ],
   "source": [
    "GSP_list = []\n",
    "# the process is exactly the same as ENW, see the comments there\n",
    "for idx, row in UKPN_df.iterrows():\n",
    "    ps_name = row[\"PS Name\"].lower()\n",
    "    for j in range(len(ps_name)):\n",
    "        ps_name_l = ps_name[:len(ps_name)-j]\n",
    "        matched_df = ukpn_dfes[ukpn_dfes[\"Substation Name\"] == ps_name_l]\n",
    "        \n",
    "        if (len(matched_df) > 0):\n",
    "            if j >= 1:\n",
    "                print(f\"PS {ps_name}, reduced PS name is {ps_name_l}, the matched ps name is {matched_df['Substation Name']}\")\n",
    "            break\n",
    "\n",
    "    if j == (len(ps_name)-1):\n",
    "        print(f\"PS match fails, we try to match {ps_name}\")\n",
    "        GSP_list.append(float('nan'))\n",
    "    else:\n",
    "        GSP_list.append(matched_df.iloc[0][\"GSP\"])\n",
    "\n",
    "UKPN_df[\"GSP\"] = GSP_list\n",
    "\n",
    "'''\n",
    "Finally there are 803 entries, perfect match\n",
    "'''\n",
    "\n",
    "UKPN_df.dropna(subset = [\"PS Name\", \"Firm Capacity (MVA)\", \"Demand (MVA)\", \"GSP\"], inplace=True)\n",
    "UKPN_df"
   ],
   "metadata": {
    "collapsed": false,
    "pycharm": {
     "name": "#%%\n"
    },
    "ExecuteTime": {
     "end_time": "2024-03-24T14:02:24.070537800Z",
     "start_time": "2024-03-24T14:02:23.873534Z"
    }
   },
   "id": "81a0b847379fd42d"
  },
  {
   "cell_type": "markdown",
   "source": [
    "### Now we move to the last one, WPD "
   ],
   "metadata": {
    "collapsed": false,
    "pycharm": {
     "name": "#%% md\n"
    }
   },
   "id": "b6c6f83e2031d5b1"
  },
  {
   "cell_type": "code",
   "source": [
    "WPD_df = wpd.copy()\n",
    "WPD_df = WPD_df[[\"Substation Name\", \"Asset Type\", \"Group\", \"Demand Headroom (MVA)\", \"Firm Capacity of Substation (MVA)\", \"Longitude\", \"Latitude\"]]\n",
    "WPD_df[\"Geo(Long,Lat)\"] = WPD_df[[\"Longitude\", \"Latitude\"]].astype(\"str\").agg(','.join, axis=1)\n",
    "WPD_df.drop(columns=[\"Longitude\", \"Latitude\", \"Asset Type\"], inplace=True)\n",
    "WPD_df.rename(columns = {\"Substation Name\":\"PS Name\", \"Firm Capacity of Substation (MVA)\":\"Firm Capacity (MVA)\", \"Group\":\"GSP\"}, inplace=True)\n",
    "# calculate the demand, which must be the net demand because it is calculated by capacity - demand headroom\n",
    "WPD_df[\"Demand (MVA)\"] = WPD_df[\"Firm Capacity (MVA)\"].astype(\"float\") - WPD_df[\"Demand Headroom (MVA)\"].astype(\"float\")\n",
    "# drop demand headroom\n",
    "WPD_df.drop(columns=[\"Demand Headroom (MVA)\"], inplace=True)\n",
    "# drop those with na\n",
    "'''\n",
    "There are 70 entries with na firm capacity and max demand, which are dropped\n",
    "'''\n",
    "\n",
    "WPD_df.dropna(inplace=True)\n",
    "WPD_df"
   ],
   "metadata": {
    "collapsed": false,
    "pycharm": {
     "name": "#%%\n"
    },
    "ExecuteTime": {
     "end_time": "2024-03-24T14:02:24.145536900Z",
     "start_time": "2024-03-24T14:02:24.073534700Z"
    }
   },
   "execution_count": 29,
   "outputs": [
    {
     "data": {
      "text/plain": "                  PS Name                         GSP  Firm Capacity (MVA)  \\\n0               Aaronsons  Alverdiscott_Indian Queens                 8.00   \n1       Abbeywood Primary                  Iron Acton                11.19   \n2               Aberaeron        Swansea North 132 kV                 2.00   \n3               Abercrave        Swansea North 132 kV                14.00   \n4                Aberdare        Swansea North 132 kV                17.60   \n...                   ...                         ...                  ...   \n1082  Wribbenhall 33/11kv          Bishops Wood 132kV                23.00   \n1083            Yelverton      Abham_Exeter _Landulph                10.00   \n1084          Ynys Street        Swansea North 132 kV                13.60   \n1085             Ynysfeio        Swansea North 132 kV                10.00   \n1086   Ystradgynlais Grid        Swansea North 132 kV                14.00   \n\n        Geo(Long,Lat)  Demand (MVA)  \n0     -3.8751,51.0225          5.15  \n1     -2.5612,51.5053          4.99  \n2     -4.2569,52.2332          2.00  \n3     -3.6907,51.7948          4.28  \n4     -3.4534,51.7136         16.10  \n...               ...           ...  \n1082  -2.3076,52.3853         14.72  \n1083  -4.0812,50.4948          5.85  \n1084  -3.7753,51.5971          8.16  \n1085  -3.5255,51.6697          6.94  \n1086  -3.7541,51.7631         14.00  \n\n[1017 rows x 5 columns]",
      "text/html": "<div>\n<style scoped>\n    .dataframe tbody tr th:only-of-type {\n        vertical-align: middle;\n    }\n\n    .dataframe tbody tr th {\n        vertical-align: top;\n    }\n\n    .dataframe thead th {\n        text-align: right;\n    }\n</style>\n<table border=\"1\" class=\"dataframe\">\n  <thead>\n    <tr style=\"text-align: right;\">\n      <th></th>\n      <th>PS Name</th>\n      <th>GSP</th>\n      <th>Firm Capacity (MVA)</th>\n      <th>Geo(Long,Lat)</th>\n      <th>Demand (MVA)</th>\n    </tr>\n  </thead>\n  <tbody>\n    <tr>\n      <th>0</th>\n      <td>Aaronsons</td>\n      <td>Alverdiscott_Indian Queens</td>\n      <td>8.00</td>\n      <td>-3.8751,51.0225</td>\n      <td>5.15</td>\n    </tr>\n    <tr>\n      <th>1</th>\n      <td>Abbeywood Primary</td>\n      <td>Iron Acton</td>\n      <td>11.19</td>\n      <td>-2.5612,51.5053</td>\n      <td>4.99</td>\n    </tr>\n    <tr>\n      <th>2</th>\n      <td>Aberaeron</td>\n      <td>Swansea North 132 kV</td>\n      <td>2.00</td>\n      <td>-4.2569,52.2332</td>\n      <td>2.00</td>\n    </tr>\n    <tr>\n      <th>3</th>\n      <td>Abercrave</td>\n      <td>Swansea North 132 kV</td>\n      <td>14.00</td>\n      <td>-3.6907,51.7948</td>\n      <td>4.28</td>\n    </tr>\n    <tr>\n      <th>4</th>\n      <td>Aberdare</td>\n      <td>Swansea North 132 kV</td>\n      <td>17.60</td>\n      <td>-3.4534,51.7136</td>\n      <td>16.10</td>\n    </tr>\n    <tr>\n      <th>...</th>\n      <td>...</td>\n      <td>...</td>\n      <td>...</td>\n      <td>...</td>\n      <td>...</td>\n    </tr>\n    <tr>\n      <th>1082</th>\n      <td>Wribbenhall 33/11kv</td>\n      <td>Bishops Wood 132kV</td>\n      <td>23.00</td>\n      <td>-2.3076,52.3853</td>\n      <td>14.72</td>\n    </tr>\n    <tr>\n      <th>1083</th>\n      <td>Yelverton</td>\n      <td>Abham_Exeter _Landulph</td>\n      <td>10.00</td>\n      <td>-4.0812,50.4948</td>\n      <td>5.85</td>\n    </tr>\n    <tr>\n      <th>1084</th>\n      <td>Ynys Street</td>\n      <td>Swansea North 132 kV</td>\n      <td>13.60</td>\n      <td>-3.7753,51.5971</td>\n      <td>8.16</td>\n    </tr>\n    <tr>\n      <th>1085</th>\n      <td>Ynysfeio</td>\n      <td>Swansea North 132 kV</td>\n      <td>10.00</td>\n      <td>-3.5255,51.6697</td>\n      <td>6.94</td>\n    </tr>\n    <tr>\n      <th>1086</th>\n      <td>Ystradgynlais Grid</td>\n      <td>Swansea North 132 kV</td>\n      <td>14.00</td>\n      <td>-3.7541,51.7631</td>\n      <td>14.00</td>\n    </tr>\n  </tbody>\n</table>\n<p>1017 rows × 5 columns</p>\n</div>"
     },
     "execution_count": 29,
     "metadata": {},
     "output_type": "execute_result"
    }
   ],
   "id": "411934cfd30d0a16"
  },
  {
   "cell_type": "markdown",
   "source": [
    "### As a next step, we will concat all the dataset together"
   ],
   "metadata": {
    "collapsed": false,
    "pycharm": {
     "name": "#%% md\n"
    }
   },
   "id": "eada54d977ecd234"
  },
  {
   "cell_type": "code",
   "execution_count": 30,
   "outputs": [
    {
     "data": {
      "text/plain": "                      PS Name Firm Capacity (MVA) Demand (MVA)        PF  \\\n0                   albion st              22.863    11.720532  0.998712   \n1         alderley & chelford               28.31    17.003134    0.9756   \n2                      alston                 1.7     1.531605  0.985752   \n3                   ambleside                17.8     9.192532  0.993175   \n4     ancoats north t11 & t12              22.863    17.347102  0.992857   \n...                       ...                 ...          ...       ...   \n4200      Wribbenhall 33/11kv                23.0        14.72       NaN   \n4201                Yelverton                10.0         5.85       NaN   \n4202              Ynys Street                13.6         8.16       NaN   \n4203                 Ynysfeio                10.0         6.94       NaN   \n4204       Ystradgynlais Grid                14.0         14.0       NaN   \n\n                               Geo(Long,Lat)                     GSP  DNO  \n0      -2.4950937454916797,53.73015403195597                ROCHDALE  ENW  \n1       -2.225911796847622,53.30796142675533        SOUTH MANCHESTER  ENW  \n2      -2.4352546655219385,54.81256830516162                  HUTTON  ENW  \n3       -2.963194161426022,54.42314157846089                  HUTTON  ENW  \n4     -2.2271891138444646,53.485968874301655               WHITEGATE  ENW  \n...                                      ...                     ...  ...  \n4200                         -2.3076,52.3853      Bishops Wood 132kV  WPD  \n4201                         -4.0812,50.4948  Abham_Exeter _Landulph  WPD  \n4202                         -3.7753,51.5971    Swansea North 132 kV  WPD  \n4203                         -3.5255,51.6697    Swansea North 132 kV  WPD  \n4204                         -3.7541,51.7631    Swansea North 132 kV  WPD  \n\n[4205 rows x 7 columns]",
      "text/html": "<div>\n<style scoped>\n    .dataframe tbody tr th:only-of-type {\n        vertical-align: middle;\n    }\n\n    .dataframe tbody tr th {\n        vertical-align: top;\n    }\n\n    .dataframe thead th {\n        text-align: right;\n    }\n</style>\n<table border=\"1\" class=\"dataframe\">\n  <thead>\n    <tr style=\"text-align: right;\">\n      <th></th>\n      <th>PS Name</th>\n      <th>Firm Capacity (MVA)</th>\n      <th>Demand (MVA)</th>\n      <th>PF</th>\n      <th>Geo(Long,Lat)</th>\n      <th>GSP</th>\n      <th>DNO</th>\n    </tr>\n  </thead>\n  <tbody>\n    <tr>\n      <th>0</th>\n      <td>albion st</td>\n      <td>22.863</td>\n      <td>11.720532</td>\n      <td>0.998712</td>\n      <td>-2.4950937454916797,53.73015403195597</td>\n      <td>ROCHDALE</td>\n      <td>ENW</td>\n    </tr>\n    <tr>\n      <th>1</th>\n      <td>alderley &amp; chelford</td>\n      <td>28.31</td>\n      <td>17.003134</td>\n      <td>0.9756</td>\n      <td>-2.225911796847622,53.30796142675533</td>\n      <td>SOUTH MANCHESTER</td>\n      <td>ENW</td>\n    </tr>\n    <tr>\n      <th>2</th>\n      <td>alston</td>\n      <td>1.7</td>\n      <td>1.531605</td>\n      <td>0.985752</td>\n      <td>-2.4352546655219385,54.81256830516162</td>\n      <td>HUTTON</td>\n      <td>ENW</td>\n    </tr>\n    <tr>\n      <th>3</th>\n      <td>ambleside</td>\n      <td>17.8</td>\n      <td>9.192532</td>\n      <td>0.993175</td>\n      <td>-2.963194161426022,54.42314157846089</td>\n      <td>HUTTON</td>\n      <td>ENW</td>\n    </tr>\n    <tr>\n      <th>4</th>\n      <td>ancoats north t11 &amp; t12</td>\n      <td>22.863</td>\n      <td>17.347102</td>\n      <td>0.992857</td>\n      <td>-2.2271891138444646,53.485968874301655</td>\n      <td>WHITEGATE</td>\n      <td>ENW</td>\n    </tr>\n    <tr>\n      <th>...</th>\n      <td>...</td>\n      <td>...</td>\n      <td>...</td>\n      <td>...</td>\n      <td>...</td>\n      <td>...</td>\n      <td>...</td>\n    </tr>\n    <tr>\n      <th>4200</th>\n      <td>Wribbenhall 33/11kv</td>\n      <td>23.0</td>\n      <td>14.72</td>\n      <td>NaN</td>\n      <td>-2.3076,52.3853</td>\n      <td>Bishops Wood 132kV</td>\n      <td>WPD</td>\n    </tr>\n    <tr>\n      <th>4201</th>\n      <td>Yelverton</td>\n      <td>10.0</td>\n      <td>5.85</td>\n      <td>NaN</td>\n      <td>-4.0812,50.4948</td>\n      <td>Abham_Exeter _Landulph</td>\n      <td>WPD</td>\n    </tr>\n    <tr>\n      <th>4202</th>\n      <td>Ynys Street</td>\n      <td>13.6</td>\n      <td>8.16</td>\n      <td>NaN</td>\n      <td>-3.7753,51.5971</td>\n      <td>Swansea North 132 kV</td>\n      <td>WPD</td>\n    </tr>\n    <tr>\n      <th>4203</th>\n      <td>Ynysfeio</td>\n      <td>10.0</td>\n      <td>6.94</td>\n      <td>NaN</td>\n      <td>-3.5255,51.6697</td>\n      <td>Swansea North 132 kV</td>\n      <td>WPD</td>\n    </tr>\n    <tr>\n      <th>4204</th>\n      <td>Ystradgynlais Grid</td>\n      <td>14.0</td>\n      <td>14.0</td>\n      <td>NaN</td>\n      <td>-3.7541,51.7631</td>\n      <td>Swansea North 132 kV</td>\n      <td>WPD</td>\n    </tr>\n  </tbody>\n</table>\n<p>4205 rows × 7 columns</p>\n</div>"
     },
     "execution_count": 30,
     "metadata": {},
     "output_type": "execute_result"
    }
   ],
   "source": [
    "# add DNO name to each of these files\n",
    "ENW_df[\"DNO\"] = \"ENW\"\n",
    "NPG_df[\"DNO\"] = \"NPG\"\n",
    "SPEN_df[\"DNO\"] = \"SPEN\"\n",
    "SSEN_df[\"DNO\"] = \"SSEN\"\n",
    "UKPN_df[\"DNO\"] = \"UKPN\"\n",
    "WPD_df[\"DNO\"] = \"WPD\"\n",
    "\n",
    "GB_PS_df = pd.concat([ENW_df, NPG_df, SPEN_df, SSEN_df, UKPN_df, WPD_df], axis=0)\n",
    "GB_PS_df.reset_index(drop=True, inplace=True)\n",
    "GB_PS_df"
   ],
   "metadata": {
    "collapsed": false,
    "pycharm": {
     "name": "#%%\n"
    },
    "ExecuteTime": {
     "end_time": "2024-03-24T14:02:24.150538400Z",
     "start_time": "2024-03-24T14:02:24.104537Z"
    }
   },
   "id": "c0b6cb6d8fd82d47"
  },
  {
   "cell_type": "code",
   "execution_count": 31,
   "outputs": [],
   "source": [
    "GB_PS_df.to_csv(os.path.join(os.path.dirname(network_root_path), \"GB_PS_data.csv\"), index = False)"
   ],
   "metadata": {
    "collapsed": false,
    "pycharm": {
     "name": "#%%\n"
    },
    "ExecuteTime": {
     "end_time": "2024-03-24T14:02:24.180534400Z",
     "start_time": "2024-03-24T14:02:24.119534600Z"
    }
   },
   "id": "cb7087a3cd3377f2"
  },
  {
   "cell_type": "code",
   "execution_count": 32,
   "outputs": [
    {
     "data": {
      "text/plain": "<Axes: >"
     },
     "execution_count": 32,
     "metadata": {},
     "output_type": "execute_result"
    },
    {
     "data": {
      "text/plain": "<Figure size 640x480 with 1 Axes>",
      "image/png": "[encoded data removed]"
     },
     "metadata": {},
     "output_type": "display_data"
    }
   ],
   "source": [
    "GB_PS_df[\"Demand (MVA)\"].hist(bins=50)"
   ],
   "metadata": {
    "collapsed": false,
    "pycharm": {
     "name": "#%%\n"
    },
    "ExecuteTime": {
     "end_time": "2024-03-24T14:02:24.335535900Z",
     "start_time": "2024-03-24T14:02:24.150538400Z"
    }
   },
   "id": "1ba502e381cf0fe0"
  },
  {
   "cell_type": "code",
   "execution_count": 33,
   "outputs": [
    {
     "data": {
      "text/plain": "10.24567959815152"
     },
     "execution_count": 33,
     "metadata": {},
     "output_type": "execute_result"
    }
   ],
   "source": [
    "GB_PS_df[\"Demand (MVA)\"].median()"
   ],
   "metadata": {
    "collapsed": false,
    "pycharm": {
     "name": "#%%\n"
    },
    "ExecuteTime": {
     "end_time": "2024-03-24T14:02:24.349535500Z",
     "start_time": "2024-03-24T14:02:24.334534400Z"
    }
   },
   "id": "2d0c0cbae0dbe235"
  },
  {
   "cell_type": "code",
   "execution_count": 34,
   "outputs": [
    {
     "data": {
      "text/plain": "PS Name                   0\nFirm Capacity (MVA)       0\nDemand (MVA)              0\nPF                     3116\nGeo(Long,Lat)             0\nGSP                     336\nDNO                       0\ndtype: int64"
     },
     "execution_count": 34,
     "metadata": {},
     "output_type": "execute_result"
    }
   ],
   "source": [
    "GB_PS_df.isna().sum()"
   ],
   "metadata": {
    "collapsed": false,
    "pycharm": {
     "name": "#%%\n"
    },
    "ExecuteTime": {
     "end_time": "2024-03-24T14:02:24.391534100Z",
     "start_time": "2024-03-24T14:02:24.354535Z"
    }
   },
   "id": "dd70975d3f228093"
  },
  {
   "cell_type": "markdown",
   "source": [],
   "metadata": {
    "collapsed": false,
    "pycharm": {
     "name": "#%% md\n"
    }
   },
   "id": "99de42f1b9d5347f"
  },
  {
   "cell_type": "code",
   "execution_count": 34,
   "outputs": [],
   "source": [],
   "metadata": {
    "collapsed": false,
    "pycharm": {
     "name": "#%%\n"
    },
    "ExecuteTime": {
     "end_time": "2024-03-24T14:02:24.397534100Z",
     "start_time": "2024-03-24T14:02:24.364533200Z"
    }
   },
   "id": "8c7ff35206ae6476"
  }
 ],
 "metadata": {
  "kernelspec": {
   "name": "fuelpoverty",
   "language": "python",
   "display_name": "fuelpoverty"
  },
  "language_info": {
   "codemirror_mode": {
    "name": "ipython",
    "version": 3
   },
   "file_extension": ".py",
   "mimetype": "text/x-python",
   "name": "python",
   "nbconvert_exporter": "python",
   "pygments_lexer": "ipython3",
   "version": "3.7.13"
  }
 },
 "nbformat": 4,
 "nbformat_minor": 5
}
