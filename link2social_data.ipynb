{
 "cells": [
  {
   "cell_type": "code",
   "execution_count": 1,
   "metadata": {
    "collapsed": true,
    "ExecuteTime": {
     "end_time": "2024-03-12T01:19:19.704832900Z",
     "start_time": "2024-03-12T01:19:19.289063900Z"
    }
   },
   "outputs": [],
   "source": [
    "import numpy as np\n",
    "import pandas as pd\n",
    "import os\n",
    "import geopandas as gpd\n",
    "from pyproj import Transformer, CRS\n",
    "from shapely.geometry import Point"
   ]
  },
  {
   "cell_type": "code",
   "execution_count": 2,
   "outputs": [
    {
     "data": {
      "text/plain": "                      PS Name  Firm Capacity (MVA)  Demand (MVA)        PF  \\\n0                   albion st               22.863     11.720532  0.998712   \n1         alderley & chelford               28.310     17.003134  0.975600   \n2                      alston                1.700      1.531605  0.985752   \n3                   ambleside               17.800      9.192532  0.993175   \n4     ancoats north t11 & t12               22.863     17.347102  0.992857   \n...                       ...                  ...           ...       ...   \n4200      Wribbenhall 33/11kv               23.000     14.720000       NaN   \n4201                Yelverton               10.000      5.850000       NaN   \n4202              Ynys Street               13.600      8.160000       NaN   \n4203                 Ynysfeio               10.000      6.940000       NaN   \n4204       Ystradgynlais Grid               14.000     14.000000       NaN   \n\n                               Geo(Long,Lat)                     GSP  DNO  \n0      -2.4950937454916797,53.73015403195597                ROCHDALE  ENW  \n1       -2.225911796847622,53.30796142675533        SOUTH MANCHESTER  ENW  \n2      -2.4352546655219385,54.81256830516162                  HUTTON  ENW  \n3       -2.963194161426022,54.42314157846089                  HUTTON  ENW  \n4     -2.2271891138444646,53.485968874301655               WHITEGATE  ENW  \n...                                      ...                     ...  ...  \n4200                         -2.3076,52.3853      Bishops Wood 132kV  WPD  \n4201                         -4.0812,50.4948  Abham_Exeter _Landulph  WPD  \n4202                         -3.7753,51.5971    Swansea North 132 kV  WPD  \n4203                         -3.5255,51.6697    Swansea North 132 kV  WPD  \n4204                         -3.7541,51.7631    Swansea North 132 kV  WPD  \n\n[4205 rows x 7 columns]",
      "text/html": "<div>\n<style scoped>\n    .dataframe tbody tr th:only-of-type {\n        vertical-align: middle;\n    }\n\n    .dataframe tbody tr th {\n        vertical-align: top;\n    }\n\n    .dataframe thead th {\n        text-align: right;\n    }\n</style>\n<table border=\"1\" class=\"dataframe\">\n  <thead>\n    <tr style=\"text-align: right;\">\n      <th></th>\n      <th>PS Name</th>\n      <th>Firm Capacity (MVA)</th>\n      <th>Demand (MVA)</th>\n      <th>PF</th>\n      <th>Geo(Long,Lat)</th>\n      <th>GSP</th>\n      <th>DNO</th>\n    </tr>\n  </thead>\n  <tbody>\n    <tr>\n      <th>0</th>\n      <td>albion st</td>\n      <td>22.863</td>\n      <td>11.720532</td>\n      <td>0.998712</td>\n      <td>-2.4950937454916797,53.73015403195597</td>\n      <td>ROCHDALE</td>\n      <td>ENW</td>\n    </tr>\n    <tr>\n      <th>1</th>\n      <td>alderley &amp; chelford</td>\n      <td>28.310</td>\n      <td>17.003134</td>\n      <td>0.975600</td>\n      <td>-2.225911796847622,53.30796142675533</td>\n      <td>SOUTH MANCHESTER</td>\n      <td>ENW</td>\n    </tr>\n    <tr>\n      <th>2</th>\n      <td>alston</td>\n      <td>1.700</td>\n      <td>1.531605</td>\n      <td>0.985752</td>\n      <td>-2.4352546655219385,54.81256830516162</td>\n      <td>HUTTON</td>\n      <td>ENW</td>\n    </tr>\n    <tr>\n      <th>3</th>\n      <td>ambleside</td>\n      <td>17.800</td>\n      <td>9.192532</td>\n      <td>0.993175</td>\n      <td>-2.963194161426022,54.42314157846089</td>\n      <td>HUTTON</td>\n      <td>ENW</td>\n    </tr>\n    <tr>\n      <th>4</th>\n      <td>ancoats north t11 &amp; t12</td>\n      <td>22.863</td>\n      <td>17.347102</td>\n      <td>0.992857</td>\n      <td>-2.2271891138444646,53.485968874301655</td>\n      <td>WHITEGATE</td>\n      <td>ENW</td>\n    </tr>\n    <tr>\n      <th>...</th>\n      <td>...</td>\n      <td>...</td>\n      <td>...</td>\n      <td>...</td>\n      <td>...</td>\n      <td>...</td>\n      <td>...</td>\n    </tr>\n    <tr>\n      <th>4200</th>\n      <td>Wribbenhall 33/11kv</td>\n      <td>23.000</td>\n      <td>14.720000</td>\n      <td>NaN</td>\n      <td>-2.3076,52.3853</td>\n      <td>Bishops Wood 132kV</td>\n      <td>WPD</td>\n    </tr>\n    <tr>\n      <th>4201</th>\n      <td>Yelverton</td>\n      <td>10.000</td>\n      <td>5.850000</td>\n      <td>NaN</td>\n      <td>-4.0812,50.4948</td>\n      <td>Abham_Exeter _Landulph</td>\n      <td>WPD</td>\n    </tr>\n    <tr>\n      <th>4202</th>\n      <td>Ynys Street</td>\n      <td>13.600</td>\n      <td>8.160000</td>\n      <td>NaN</td>\n      <td>-3.7753,51.5971</td>\n      <td>Swansea North 132 kV</td>\n      <td>WPD</td>\n    </tr>\n    <tr>\n      <th>4203</th>\n      <td>Ynysfeio</td>\n      <td>10.000</td>\n      <td>6.940000</td>\n      <td>NaN</td>\n      <td>-3.5255,51.6697</td>\n      <td>Swansea North 132 kV</td>\n      <td>WPD</td>\n    </tr>\n    <tr>\n      <th>4204</th>\n      <td>Ystradgynlais Grid</td>\n      <td>14.000</td>\n      <td>14.000000</td>\n      <td>NaN</td>\n      <td>-3.7541,51.7631</td>\n      <td>Swansea North 132 kV</td>\n      <td>WPD</td>\n    </tr>\n  </tbody>\n</table>\n<p>4205 rows × 7 columns</p>\n</div>"
     },
     "execution_count": 2,
     "metadata": {},
     "output_type": "execute_result"
    }
   ],
   "source": [
    "network_root_path = os.path.join(os.getcwd(), 'UKM_PrimarySubstation_Data')\n",
    "# load the fundamental dataset\n",
    "UKM_PS_df = pd.read_csv(os.path.join(os.path.dirname(network_root_path), \"UKM_PS_data.csv\"))\n",
    "UKM_PS_df"
   ],
   "metadata": {
    "collapsed": false,
    "pycharm": {
     "name": "#%%\n"
    },
    "ExecuteTime": {
     "end_time": "2024-03-12T01:19:19.738834300Z",
     "start_time": "2024-03-12T01:19:19.707832700Z"
    }
   }
  },
  {
   "cell_type": "markdown",
   "source": [
    "## We first find the corresponding LA for the PSs \n",
    "LA: Local Authority\n",
    "PS: Primary Substation"
   ],
   "metadata": {
    "collapsed": false,
    "pycharm": {
     "name": "#%% md\n"
    }
   }
  },
  {
   "cell_type": "code",
   "execution_count": 3,
   "outputs": [],
   "source": [
    "root_path = os.getcwd()\n",
    "uk_la_map_path = os.path.join(root_path, \"Geo_data\", \"LAD_DEC_2022_UK_BFC.shp\")\n",
    "eng_region_map_df = gpd.read_file(os.path.join(root_path, \"Geo_data\", \"Regions_(December_2022)_EN_BFC.shp\"))\n",
    "uk_la_map_df = gpd.read_file(uk_la_map_path)\n",
    "# these codes can be found in the gov web\n",
    "Scot_la_code_list = ['S12000005','S12000006','S12000008','S12000010','S12000011','S12000013','S12000014','S12000017',\n",
    "                     'S12000018','S12000019','S12000020','S12000021','S12000023','S12000026','S12000027','S12000028',\n",
    "                     'S12000029','S12000030','S12000033','S12000034','S12000035','S12000036','S12000038','S12000039',\n",
    "                     'S12000040','S12000041','S12000042','S12000045','S12000047','S12000048','S12000049','S12000050']\n",
    "Wales_la_code_list = ['W06000001', 'W06000002', 'W06000003', 'W06000004', 'W06000005', 'W06000006', 'W06000023', 'W06000008', 'W06000009', 'W06000010',\n",
    "                      'W06000011', 'W06000012', 'W06000013', 'W06000014', 'W06000015', 'W06000016', 'W06000024', 'W06000018', 'W06000019', 'W06000020',\n",
    "                      'W06000021', 'W06000022']\n",
    "\n",
    "ScotWales_la_code_list = Scot_la_code_list + Wales_la_code_list\n",
    "ScotWales_la_map_df = uk_la_map_df[uk_la_map_df[\"LAD22CD\"].isin(ScotWales_la_code_list)]\n",
    "\n",
    "map_df = pd.concat([ScotWales_la_map_df.rename(columns={\"LAD22CD\":\"RegID\", \"LAD22NM\":\"RegName\"}), eng_region_map_df.rename(columns={\"RGN22CD\":\"RegID\", \"RGN22NM\":\"RegName\"})]).pipe(gpd.GeoDataFrame)\n",
    "\n",
    "del uk_la_map_df\n",
    "del ScotWales_la_map_df\n",
    "del eng_region_map_df\n",
    "\n",
    "def find_reg(lon, lat, map_df):\n",
    "    # this function finds the region that contains the point (lon, lat)\n",
    "    # 4326 is the (long, lat) system while 27700 is the coordinates specified in the .proj file or read from geodf.crs\n",
    "    src_crs = CRS('EPSG:4326')\n",
    "    des_crs = CRS('EPSG:27700')\n",
    "    transformer = Transformer.from_crs(src_crs, des_crs, always_xy=True)\n",
    "    # Convert the coordinate to the destination projection system\n",
    "    x2,y2 = transformer.transform(lon, lat)\n",
    "\n",
    "    point = Point(x2, y2)\n",
    "    for index, row in map_df.iterrows():\n",
    "        polygon = row['geometry']\n",
    "        if polygon.contains(point):\n",
    "            return row[\"RegID\"], row[\"RegName\"]\n",
    "        \n",
    "    return np.nan, np.nan"
   ],
   "metadata": {
    "collapsed": false,
    "pycharm": {
     "name": "#%%\n"
    },
    "ExecuteTime": {
     "end_time": "2024-03-12T01:19:27.436832300Z",
     "start_time": "2024-03-12T01:19:19.740834300Z"
    }
   }
  },
  {
   "cell_type": "code",
   "execution_count": 4,
   "outputs": [
    {
     "name": "stdout",
     "output_type": "stream",
     "text": [
      "processed: 100.0%\n"
     ]
    }
   ],
   "source": [
    "# find the LA for each PS\n",
    "from IPython.display import clear_output\n",
    "\n",
    "RegID_list = []\n",
    "RegName_list = []\n",
    "for i, item in enumerate(UKM_PS_df[\"Geo(Long,Lat)\"]):\n",
    "    # clear output to have a dynamic progress bar\n",
    "    clear_output(wait=True)\n",
    "    print(f\"processed: {100 * (i+1) / len(UKM_PS_df['Geo(Long,Lat)'])}%\")\n",
    "    lon, lat = item.split(\",\")\n",
    "    RegID, RegName = find_reg(lon = lon, lat = lat, map_df = map_df)\n",
    "\n",
    "    RegID_list.append(RegID)\n",
    "    RegName_list.append(RegName)\n",
    "    \n",
    "UKM_PS_df[\"RegID\"] = RegID_list\n",
    "UKM_PS_df[\"RegName\"] = RegName_list"
   ],
   "metadata": {
    "collapsed": false
   }
  },
  {
   "cell_type": "code",
   "execution_count": 5,
   "outputs": [
    {
     "data": {
      "text/plain": "                PS Name  Firm Capacity (MVA)  Demand (MVA)  PF  \\\n2545              erith                22.30       9.20544 NaN   \n2742      leigh primary                14.50      13.69960 NaN   \n2987     reydon primary                 4.80       4.55616 NaN   \n3102      deptford grid               119.60      60.60132 NaN   \n3107           barnes b                28.80      17.49888 NaN   \n3143     north shoreham                16.60      11.52538 NaN   \n3508   Ernesettle B & S                 2.40       2.09000 NaN   \n3820  Newton Abbot Main                28.86      22.08000 NaN   \n\n                                Geo(Long,Lat)                     GSP   DNO  \\\n2545   0.17513466613484338,51.486604037233285             Littlebrook  UKPN   \n2742     0.6605892765537588,51.53632872117139                Rayleigh  UKPN   \n2987      1.626197991212215,52.32998881373491                Bramford  UKPN   \n3102  -0.01737230934444808,51.479838753369016         New Cross 132kV  UKPN   \n3107    -0.2545756097115028,51.47250291377867     Wimbledon 3&4 132kV  UKPN   \n3143  -0.29449041401571696,50.853413716824306                  Bolney  UKPN   \n3508                          -4.1873,50.4241  Abham_Exeter _Landulph   WPD   \n3820                          -3.5991,50.5338  Abham_Exeter _Landulph   WPD   \n\n     RegID RegName  \n2545   NaN     NaN  \n2742   NaN     NaN  \n2987   NaN     NaN  \n3102   NaN     NaN  \n3107   NaN     NaN  \n3143   NaN     NaN  \n3508   NaN     NaN  \n3820   NaN     NaN  ",
      "text/html": "<div>\n<style scoped>\n    .dataframe tbody tr th:only-of-type {\n        vertical-align: middle;\n    }\n\n    .dataframe tbody tr th {\n        vertical-align: top;\n    }\n\n    .dataframe thead th {\n        text-align: right;\n    }\n</style>\n<table border=\"1\" class=\"dataframe\">\n  <thead>\n    <tr style=\"text-align: right;\">\n      <th></th>\n      <th>PS Name</th>\n      <th>Firm Capacity (MVA)</th>\n      <th>Demand (MVA)</th>\n      <th>PF</th>\n      <th>Geo(Long,Lat)</th>\n      <th>GSP</th>\n      <th>DNO</th>\n      <th>RegID</th>\n      <th>RegName</th>\n    </tr>\n  </thead>\n  <tbody>\n    <tr>\n      <th>2545</th>\n      <td>erith</td>\n      <td>22.30</td>\n      <td>9.20544</td>\n      <td>NaN</td>\n      <td>0.17513466613484338,51.486604037233285</td>\n      <td>Littlebrook</td>\n      <td>UKPN</td>\n      <td>NaN</td>\n      <td>NaN</td>\n    </tr>\n    <tr>\n      <th>2742</th>\n      <td>leigh primary</td>\n      <td>14.50</td>\n      <td>13.69960</td>\n      <td>NaN</td>\n      <td>0.6605892765537588,51.53632872117139</td>\n      <td>Rayleigh</td>\n      <td>UKPN</td>\n      <td>NaN</td>\n      <td>NaN</td>\n    </tr>\n    <tr>\n      <th>2987</th>\n      <td>reydon primary</td>\n      <td>4.80</td>\n      <td>4.55616</td>\n      <td>NaN</td>\n      <td>1.626197991212215,52.32998881373491</td>\n      <td>Bramford</td>\n      <td>UKPN</td>\n      <td>NaN</td>\n      <td>NaN</td>\n    </tr>\n    <tr>\n      <th>3102</th>\n      <td>deptford grid</td>\n      <td>119.60</td>\n      <td>60.60132</td>\n      <td>NaN</td>\n      <td>-0.01737230934444808,51.479838753369016</td>\n      <td>New Cross 132kV</td>\n      <td>UKPN</td>\n      <td>NaN</td>\n      <td>NaN</td>\n    </tr>\n    <tr>\n      <th>3107</th>\n      <td>barnes b</td>\n      <td>28.80</td>\n      <td>17.49888</td>\n      <td>NaN</td>\n      <td>-0.2545756097115028,51.47250291377867</td>\n      <td>Wimbledon 3&amp;4 132kV</td>\n      <td>UKPN</td>\n      <td>NaN</td>\n      <td>NaN</td>\n    </tr>\n    <tr>\n      <th>3143</th>\n      <td>north shoreham</td>\n      <td>16.60</td>\n      <td>11.52538</td>\n      <td>NaN</td>\n      <td>-0.29449041401571696,50.853413716824306</td>\n      <td>Bolney</td>\n      <td>UKPN</td>\n      <td>NaN</td>\n      <td>NaN</td>\n    </tr>\n    <tr>\n      <th>3508</th>\n      <td>Ernesettle B &amp; S</td>\n      <td>2.40</td>\n      <td>2.09000</td>\n      <td>NaN</td>\n      <td>-4.1873,50.4241</td>\n      <td>Abham_Exeter _Landulph</td>\n      <td>WPD</td>\n      <td>NaN</td>\n      <td>NaN</td>\n    </tr>\n    <tr>\n      <th>3820</th>\n      <td>Newton Abbot Main</td>\n      <td>28.86</td>\n      <td>22.08000</td>\n      <td>NaN</td>\n      <td>-3.5991,50.5338</td>\n      <td>Abham_Exeter _Landulph</td>\n      <td>WPD</td>\n      <td>NaN</td>\n      <td>NaN</td>\n    </tr>\n  </tbody>\n</table>\n</div>"
     },
     "execution_count": 5,
     "metadata": {},
     "output_type": "execute_result"
    }
   ],
   "source": [
    "# find those with nan LA ID\n",
    "# the existence of nan is due to the minor inaccuracy of the boundary information.\n",
    "UKM_PS_df[UKM_PS_df[\"RegID\"].isna()]"
   ],
   "metadata": {
    "collapsed": false,
    "ExecuteTime": {
     "end_time": "2024-03-12T01:24:45.901999200Z",
     "start_time": "2024-03-12T01:24:45.885997900Z"
    }
   }
  },
  {
   "cell_type": "code",
   "execution_count": 6,
   "outputs": [],
   "source": [
    "# those with nan LA ID are manually found through google map\n",
    "UKM_PS_df.loc[UKM_PS_df[\"PS Name\"] == \"erith\", \"RegName\"] = \"London\"\n",
    "UKM_PS_df.loc[UKM_PS_df[\"PS Name\"] == \"erith\", \"RegID\"] = \"E12000007\"\n",
    "\n",
    "UKM_PS_df.loc[UKM_PS_df[\"PS Name\"] == \"leigh primary\", \"RegName\"] = \"East of England\"\n",
    "UKM_PS_df.loc[UKM_PS_df[\"PS Name\"] == \"leigh primary\", \"RegID\"] = \"E12000006\"\n",
    "\n",
    "UKM_PS_df.loc[UKM_PS_df[\"PS Name\"] == \"reydon primary\", \"RegName\"] = \"East of England\"\n",
    "UKM_PS_df.loc[UKM_PS_df[\"PS Name\"] == \"reydon primary\", \"RegID\"] = \"E12000006\"\n",
    "\n",
    "UKM_PS_df.loc[UKM_PS_df[\"PS Name\"] == \"deptford grid\", \"RegName\"] = \"London\"\n",
    "UKM_PS_df.loc[UKM_PS_df[\"PS Name\"] == \"deptford grid\", \"RegID\"] = \"E12000007\"\n",
    "\n",
    "UKM_PS_df.loc[UKM_PS_df[\"PS Name\"] == \"barnes b\", \"RegName\"] = \"London\"\n",
    "UKM_PS_df.loc[UKM_PS_df[\"PS Name\"] == \"barnes b\", \"RegID\"] = \"E12000007\"\n",
    "\n",
    "UKM_PS_df.loc[UKM_PS_df[\"PS Name\"] == \"north shoreham\", \"RegName\"] = \"South East\"\n",
    "UKM_PS_df.loc[UKM_PS_df[\"PS Name\"] == \"north shoreham\", \"RegID\"] = \"E12000008\"\n",
    "\n",
    "UKM_PS_df.loc[UKM_PS_df[\"PS Name\"] == \"Ernesettle B & S\", \"RegName\"] = \"South West\"\n",
    "UKM_PS_df.loc[UKM_PS_df[\"PS Name\"] == \"Ernesettle B & S\", \"RegID\"] = \"E12000009\"\n",
    "\n",
    "UKM_PS_df.loc[UKM_PS_df[\"PS Name\"] == \"Newton Abbot Main\", \"RegName\"] = \"South West\"\n",
    "UKM_PS_df.loc[UKM_PS_df[\"PS Name\"] == \"Newton Abbot Main\", \"RegID\"] = \"E12000009\"\n",
    "\n",
    "# set all RegID starting with W to W92000004 (Wales)\n",
    "UKM_PS_df.loc[UKM_PS_df[\"RegID\"].str.startswith(\"W\"), \"RegID\"] = \"W92000004\""
   ],
   "metadata": {
    "collapsed": false,
    "ExecuteTime": {
     "end_time": "2024-03-12T01:24:45.936997Z",
     "start_time": "2024-03-12T01:24:45.898999900Z"
    }
   }
  },
  {
   "cell_type": "markdown",
   "source": [
    "## Load Census data"
   ],
   "metadata": {
    "collapsed": false
   }
  },
  {
   "cell_type": "code",
   "execution_count": 7,
   "outputs": [],
   "source": [
    "UKM_PS_df_extend = UKM_PS_df.copy()\n",
    "\n",
    "# load all the census data\n",
    "# heating proportion\n",
    "census_root_path = os.path.join(os.getcwd(), \"Census_data\")\n",
    "eng_heat_prop_df = pd.read_csv(os.path.join(census_root_path, \"2021CensusFuelProportionEnglandWales_MSOA.csv\"))[[\"Middle Layer Super Output Areas Code\", \"Type of central heating in household (13 categories)\", \"Observation\"]]\n",
    "\n",
    "# pivot it\n",
    "eng_heat_prop_df = eng_heat_prop_df.pivot_table(values='Observation', index=\"Middle Layer Super Output Areas Code\", columns='Type of central heating in household (13 categories)').reset_index()\n",
    "\n",
    "# scotland data needs to be processed\n",
    "# the loaded data is for the lowest data zone level, which needs to be aggregated to intermediate zone level\n",
    "# the first row is for the whole scotland, while the last three are comments, so all dropped\n",
    "scot_heat_prop_df = pd.read_csv(os.path.join(census_root_path, \"QS415SC.csv\"), header = 3).iloc[1:-3,:]\n",
    "for i in range(len(scot_heat_prop_df.columns)-1):\n",
    "    # replace NaN to 0 and convert to numeric\n",
    "    scot_heat_prop_df[scot_heat_prop_df.columns[i+1]] = pd.to_numeric(scot_heat_prop_df.iloc[:,i+1], errors='coerce').replace(np.nan, 0)\n",
    "\n",
    "# load the lookup table for aggregating the data zone level data to intermediate zone level\n",
    "scot_zonelookup_df = pd.read_csv(os.path.join(census_root_path, \"DataZone2011lookup.csv\"))\n",
    "# process scot_heat_prop_df so that it becomes data per intermediate zone\n",
    "scot_zonelookup_dict = {scot_zonelookup_df.iloc[i][\"DZ2011_Code\"]: scot_zonelookup_df.iloc[i][\"IZ2011_Code\"] for i in range(len(scot_zonelookup_df))}\n",
    "scot_heat_prop_df[\"IZ_code\"] = scot_heat_prop_df.iloc[:,0].map(scot_zonelookup_dict)\n",
    "scot_heat_prop_df.drop(columns = [\"Unnamed: 0\"], inplace = True)\n",
    "scot_heat_prop_df = scot_heat_prop_df.groupby(by=\"IZ_code\").sum().reset_index()\n"
   ],
   "metadata": {
    "collapsed": false,
    "ExecuteTime": {
     "end_time": "2024-03-12T01:24:46.980999600Z",
     "start_time": "2024-03-12T01:24:45.918997400Z"
    }
   }
  },
  {
   "cell_type": "markdown",
   "source": [
    "### process these census heating data, making them contain:\n",
    "1. Number of households in different types of heating\n",
    "2. Number of households in total"
   ],
   "metadata": {
    "collapsed": false
   }
  },
  {
   "cell_type": "code",
   "execution_count": 8,
   "outputs": [
    {
     "data": {
      "text/plain": "      MSOA_code  District or communal heat networks only  Does not apply  \\\n0     E02000001                                      915               0   \n1     E02000002                                       42               0   \n2     E02000003                                       20               0   \n3     E02000004                                        6               0   \n4     E02000005                                       23               0   \n...         ...                                      ...             ...   \n7259  W02000424                                        2               0   \n7260  W02000425                                        5               0   \n7261  W02000426                                        2               0   \n7262  W02000427                                        3               0   \n7263  W02000428                                        1               0   \n\n      Electric (including storage heaters) central heating  \\\n0                                                  1937      \n1                                                   317      \n2                                                   416      \n3                                                    82      \n4                                                   221      \n...                                                 ...      \n7259                                                 67      \n7260                                                143      \n7261                                                 85      \n7262                                                110      \n7263                                                 78      \n\n      Gas central heating  No central heating  Oil central heating  \\\n0                    1323                 184                   15   \n1                    2116                  63                    1   \n2                    2981                  89                    4   \n3                    1958                  23                    2   \n4                    2887                  69                    0   \n...                   ...                 ...                  ...   \n7259                 2397                   8                  145   \n7260                 1600                  18                  577   \n7261                 3871                  32                   30   \n7262                 4015                  41                  136   \n7263                 3824                  19                   59   \n\n      Other central heating  Renewable energy only  \\\n0                       145                      9   \n1                        49                      3   \n2                        78                      6   \n3                        31                      0   \n4                        65                      1   \n...                     ...                    ...   \n7259                      8                      9   \n7260                      4                     19   \n7261                     10                      4   \n7262                     22                      7   \n7263                     10                     12   \n\n      Solid fuel (for example wood, coal) central heating  \\\n0                                                     0     \n1                                                     0     \n2                                                     0     \n3                                                     0     \n4                                                     0     \n...                                                 ...     \n7259                                                  7     \n7260                                                 16     \n7261                                                  3     \n7262                                                 94     \n7263                                                 15     \n\n      Tank or bottled gas only  \\\n0                           29   \n1                           15   \n2                           14   \n3                           21   \n4                           19   \n...                        ...   \n7259                        56   \n7260                       183   \n7261                        18   \n7262                        53   \n7263                        27   \n\n      Two or more types of central heating (including renewable energy)  \\\n0                                                     9                   \n1                                                    13                   \n2                                                    11                   \n3                                                     4                   \n4                                                    26                   \n...                                                 ...                   \n7259                                                 19                   \n7260                                                 20                   \n7261                                                 12                   \n7262                                                 14                   \n7263                                                 18                   \n\n      Two or more types of central heating (not including renewable energy)  \\\n0                                                   348                       \n1                                                   252                       \n2                                                   310                       \n3                                                   181                       \n4                                                   316                       \n...                                                 ...                       \n7259                                                249                       \n7260                                                272                       \n7261                                                326                       \n7262                                                381                       \n7263                                                357                       \n\n      Wood only  Total Households  \n0             1              4915  \n1             0              2871  \n2             1              3930  \n3             0              2308  \n4             0              3627  \n...         ...               ...  \n7259          3              2970  \n7260         15              2872  \n7261          2              4395  \n7262         14              4890  \n7263          6              4426  \n\n[7264 rows x 15 columns]",
      "text/html": "<div>\n<style scoped>\n    .dataframe tbody tr th:only-of-type {\n        vertical-align: middle;\n    }\n\n    .dataframe tbody tr th {\n        vertical-align: top;\n    }\n\n    .dataframe thead th {\n        text-align: right;\n    }\n</style>\n<table border=\"1\" class=\"dataframe\">\n  <thead>\n    <tr style=\"text-align: right;\">\n      <th></th>\n      <th>MSOA_code</th>\n      <th>District or communal heat networks only</th>\n      <th>Does not apply</th>\n      <th>Electric (including storage heaters) central heating</th>\n      <th>Gas central heating</th>\n      <th>No central heating</th>\n      <th>Oil central heating</th>\n      <th>Other central heating</th>\n      <th>Renewable energy only</th>\n      <th>Solid fuel (for example wood, coal) central heating</th>\n      <th>Tank or bottled gas only</th>\n      <th>Two or more types of central heating (including renewable energy)</th>\n      <th>Two or more types of central heating (not including renewable energy)</th>\n      <th>Wood only</th>\n      <th>Total Households</th>\n    </tr>\n  </thead>\n  <tbody>\n    <tr>\n      <th>0</th>\n      <td>E02000001</td>\n      <td>915</td>\n      <td>0</td>\n      <td>1937</td>\n      <td>1323</td>\n      <td>184</td>\n      <td>15</td>\n      <td>145</td>\n      <td>9</td>\n      <td>0</td>\n      <td>29</td>\n      <td>9</td>\n      <td>348</td>\n      <td>1</td>\n      <td>4915</td>\n    </tr>\n    <tr>\n      <th>1</th>\n      <td>E02000002</td>\n      <td>42</td>\n      <td>0</td>\n      <td>317</td>\n      <td>2116</td>\n      <td>63</td>\n      <td>1</td>\n      <td>49</td>\n      <td>3</td>\n      <td>0</td>\n      <td>15</td>\n      <td>13</td>\n      <td>252</td>\n      <td>0</td>\n      <td>2871</td>\n    </tr>\n    <tr>\n      <th>2</th>\n      <td>E02000003</td>\n      <td>20</td>\n      <td>0</td>\n      <td>416</td>\n      <td>2981</td>\n      <td>89</td>\n      <td>4</td>\n      <td>78</td>\n      <td>6</td>\n      <td>0</td>\n      <td>14</td>\n      <td>11</td>\n      <td>310</td>\n      <td>1</td>\n      <td>3930</td>\n    </tr>\n    <tr>\n      <th>3</th>\n      <td>E02000004</td>\n      <td>6</td>\n      <td>0</td>\n      <td>82</td>\n      <td>1958</td>\n      <td>23</td>\n      <td>2</td>\n      <td>31</td>\n      <td>0</td>\n      <td>0</td>\n      <td>21</td>\n      <td>4</td>\n      <td>181</td>\n      <td>0</td>\n      <td>2308</td>\n    </tr>\n    <tr>\n      <th>4</th>\n      <td>E02000005</td>\n      <td>23</td>\n      <td>0</td>\n      <td>221</td>\n      <td>2887</td>\n      <td>69</td>\n      <td>0</td>\n      <td>65</td>\n      <td>1</td>\n      <td>0</td>\n      <td>19</td>\n      <td>26</td>\n      <td>316</td>\n      <td>0</td>\n      <td>3627</td>\n    </tr>\n    <tr>\n      <th>...</th>\n      <td>...</td>\n      <td>...</td>\n      <td>...</td>\n      <td>...</td>\n      <td>...</td>\n      <td>...</td>\n      <td>...</td>\n      <td>...</td>\n      <td>...</td>\n      <td>...</td>\n      <td>...</td>\n      <td>...</td>\n      <td>...</td>\n      <td>...</td>\n      <td>...</td>\n    </tr>\n    <tr>\n      <th>7259</th>\n      <td>W02000424</td>\n      <td>2</td>\n      <td>0</td>\n      <td>67</td>\n      <td>2397</td>\n      <td>8</td>\n      <td>145</td>\n      <td>8</td>\n      <td>9</td>\n      <td>7</td>\n      <td>56</td>\n      <td>19</td>\n      <td>249</td>\n      <td>3</td>\n      <td>2970</td>\n    </tr>\n    <tr>\n      <th>7260</th>\n      <td>W02000425</td>\n      <td>5</td>\n      <td>0</td>\n      <td>143</td>\n      <td>1600</td>\n      <td>18</td>\n      <td>577</td>\n      <td>4</td>\n      <td>19</td>\n      <td>16</td>\n      <td>183</td>\n      <td>20</td>\n      <td>272</td>\n      <td>15</td>\n      <td>2872</td>\n    </tr>\n    <tr>\n      <th>7261</th>\n      <td>W02000426</td>\n      <td>2</td>\n      <td>0</td>\n      <td>85</td>\n      <td>3871</td>\n      <td>32</td>\n      <td>30</td>\n      <td>10</td>\n      <td>4</td>\n      <td>3</td>\n      <td>18</td>\n      <td>12</td>\n      <td>326</td>\n      <td>2</td>\n      <td>4395</td>\n    </tr>\n    <tr>\n      <th>7262</th>\n      <td>W02000427</td>\n      <td>3</td>\n      <td>0</td>\n      <td>110</td>\n      <td>4015</td>\n      <td>41</td>\n      <td>136</td>\n      <td>22</td>\n      <td>7</td>\n      <td>94</td>\n      <td>53</td>\n      <td>14</td>\n      <td>381</td>\n      <td>14</td>\n      <td>4890</td>\n    </tr>\n    <tr>\n      <th>7263</th>\n      <td>W02000428</td>\n      <td>1</td>\n      <td>0</td>\n      <td>78</td>\n      <td>3824</td>\n      <td>19</td>\n      <td>59</td>\n      <td>10</td>\n      <td>12</td>\n      <td>15</td>\n      <td>27</td>\n      <td>18</td>\n      <td>357</td>\n      <td>6</td>\n      <td>4426</td>\n    </tr>\n  </tbody>\n</table>\n<p>7264 rows × 15 columns</p>\n</div>"
     },
     "execution_count": 8,
     "metadata": {},
     "output_type": "execute_result"
    }
   ],
   "source": [
    "# for Scotland\n",
    "scot_heat_prop_df_processed = scot_heat_prop_df.rename(columns = {\"All occupied household spaces\":\"Total Households\"}).copy()\n",
    "# for England and Wales. Rename for consistency with Scotland data\n",
    "ew_heat_prop_df_processed = eng_heat_prop_df.rename(columns = {\"Electric only\": \"Electric (including storage heaters) central heating\", \"Mains gas only\": \"Gas central heating\", \"Oil only\":\"Oil central heating\", \"Solid fuel only\":\"Solid fuel (for example wood, coal) central heating\", \"Middle Layer Super Output Areas Code\":\"MSOA_code\", \"Other central heating only\": \"Other central heating\"}).copy()\n",
    "# calculate the total number of households\n",
    "ew_heat_prop_df_processed[\"Total Households\"] = ew_heat_prop_df_processed.iloc[:,1:].sum(axis = 1)\n",
    "# remove the header of index\n",
    "ew_heat_prop_df_processed.rename_axis(None, axis=1, inplace=True)\n",
    "ew_heat_prop_df_processed"
   ],
   "metadata": {
    "collapsed": false,
    "ExecuteTime": {
     "end_time": "2024-03-12T01:24:47.002999500Z",
     "start_time": "2024-03-12T01:24:46.983000600Z"
    }
   }
  },
  {
   "cell_type": "code",
   "execution_count": 9,
   "outputs": [
    {
     "data": {
      "text/plain": "        IZ_code  Total Households  No central heating  Gas central heating  \\\n0     S02001236            2143.0                27.0               1683.0   \n1     S02001237            1428.0                12.0               1218.0   \n2     S02001238            2291.0                13.0               2033.0   \n3     S02001239            2439.0                39.0               1995.0   \n4     S02001240            2193.0                64.0               1894.0   \n...         ...               ...                 ...                  ...   \n1274  S02002510            2012.0                35.0               1634.0   \n1275  S02002511            1780.0                23.0               1574.0   \n1276  S02002512            2485.0                28.0               2192.0   \n1277  S02002513            1479.0                15.0               1372.0   \n1278  S02002514            1277.0                 9.0               1113.0   \n\n      Electric (including storage heaters) central heating  \\\n0                                                 264.0      \n1                                                  48.0      \n2                                                 157.0      \n3                                                 334.0      \n4                                                 192.0      \n...                                                 ...      \n1274                                              131.0      \n1275                                              125.0      \n1276                                              154.0      \n1277                                               61.0      \n1278                                               91.0      \n\n      Oil central heating  \\\n0                   108.0   \n1                   117.0   \n2                    57.0   \n3                     8.0   \n4                     3.0   \n...                   ...   \n1274                117.0   \n1275                 10.0   \n1276                 48.0   \n1277                  4.0   \n1278                 24.0   \n\n      Solid fuel (for example wood, coal) central heating  \\\n0                                                  10.0     \n1                                                   1.0     \n2                                                   1.0     \n3                                                   2.0     \n4                                                   0.0     \n...                                                 ...     \n1274                                               36.0     \n1275                                               10.0     \n1276                                                9.0     \n1277                                                3.0     \n1278                                                6.0     \n\n      Other central heating  Two or more types of central heating  \n0                       7.0                                  44.0  \n1                      10.0                                  22.0  \n2                       2.0                                  28.0  \n3                       7.0                                  54.0  \n4                       4.0                                  36.0  \n...                     ...                                   ...  \n1274                   13.0                                  46.0  \n1275                    2.0                                  36.0  \n1276                    7.0                                  47.0  \n1277                    5.0                                  19.0  \n1278                    8.0                                  26.0  \n\n[1279 rows x 9 columns]",
      "text/html": "<div>\n<style scoped>\n    .dataframe tbody tr th:only-of-type {\n        vertical-align: middle;\n    }\n\n    .dataframe tbody tr th {\n        vertical-align: top;\n    }\n\n    .dataframe thead th {\n        text-align: right;\n    }\n</style>\n<table border=\"1\" class=\"dataframe\">\n  <thead>\n    <tr style=\"text-align: right;\">\n      <th></th>\n      <th>IZ_code</th>\n      <th>Total Households</th>\n      <th>No central heating</th>\n      <th>Gas central heating</th>\n      <th>Electric (including storage heaters) central heating</th>\n      <th>Oil central heating</th>\n      <th>Solid fuel (for example wood, coal) central heating</th>\n      <th>Other central heating</th>\n      <th>Two or more types of central heating</th>\n    </tr>\n  </thead>\n  <tbody>\n    <tr>\n      <th>0</th>\n      <td>S02001236</td>\n      <td>2143.0</td>\n      <td>27.0</td>\n      <td>1683.0</td>\n      <td>264.0</td>\n      <td>108.0</td>\n      <td>10.0</td>\n      <td>7.0</td>\n      <td>44.0</td>\n    </tr>\n    <tr>\n      <th>1</th>\n      <td>S02001237</td>\n      <td>1428.0</td>\n      <td>12.0</td>\n      <td>1218.0</td>\n      <td>48.0</td>\n      <td>117.0</td>\n      <td>1.0</td>\n      <td>10.0</td>\n      <td>22.0</td>\n    </tr>\n    <tr>\n      <th>2</th>\n      <td>S02001238</td>\n      <td>2291.0</td>\n      <td>13.0</td>\n      <td>2033.0</td>\n      <td>157.0</td>\n      <td>57.0</td>\n      <td>1.0</td>\n      <td>2.0</td>\n      <td>28.0</td>\n    </tr>\n    <tr>\n      <th>3</th>\n      <td>S02001239</td>\n      <td>2439.0</td>\n      <td>39.0</td>\n      <td>1995.0</td>\n      <td>334.0</td>\n      <td>8.0</td>\n      <td>2.0</td>\n      <td>7.0</td>\n      <td>54.0</td>\n    </tr>\n    <tr>\n      <th>4</th>\n      <td>S02001240</td>\n      <td>2193.0</td>\n      <td>64.0</td>\n      <td>1894.0</td>\n      <td>192.0</td>\n      <td>3.0</td>\n      <td>0.0</td>\n      <td>4.0</td>\n      <td>36.0</td>\n    </tr>\n    <tr>\n      <th>...</th>\n      <td>...</td>\n      <td>...</td>\n      <td>...</td>\n      <td>...</td>\n      <td>...</td>\n      <td>...</td>\n      <td>...</td>\n      <td>...</td>\n      <td>...</td>\n    </tr>\n    <tr>\n      <th>1274</th>\n      <td>S02002510</td>\n      <td>2012.0</td>\n      <td>35.0</td>\n      <td>1634.0</td>\n      <td>131.0</td>\n      <td>117.0</td>\n      <td>36.0</td>\n      <td>13.0</td>\n      <td>46.0</td>\n    </tr>\n    <tr>\n      <th>1275</th>\n      <td>S02002511</td>\n      <td>1780.0</td>\n      <td>23.0</td>\n      <td>1574.0</td>\n      <td>125.0</td>\n      <td>10.0</td>\n      <td>10.0</td>\n      <td>2.0</td>\n      <td>36.0</td>\n    </tr>\n    <tr>\n      <th>1276</th>\n      <td>S02002512</td>\n      <td>2485.0</td>\n      <td>28.0</td>\n      <td>2192.0</td>\n      <td>154.0</td>\n      <td>48.0</td>\n      <td>9.0</td>\n      <td>7.0</td>\n      <td>47.0</td>\n    </tr>\n    <tr>\n      <th>1277</th>\n      <td>S02002513</td>\n      <td>1479.0</td>\n      <td>15.0</td>\n      <td>1372.0</td>\n      <td>61.0</td>\n      <td>4.0</td>\n      <td>3.0</td>\n      <td>5.0</td>\n      <td>19.0</td>\n    </tr>\n    <tr>\n      <th>1278</th>\n      <td>S02002514</td>\n      <td>1277.0</td>\n      <td>9.0</td>\n      <td>1113.0</td>\n      <td>91.0</td>\n      <td>24.0</td>\n      <td>6.0</td>\n      <td>8.0</td>\n      <td>26.0</td>\n    </tr>\n  </tbody>\n</table>\n<p>1279 rows × 9 columns</p>\n</div>"
     },
     "execution_count": 9,
     "metadata": {},
     "output_type": "execute_result"
    }
   ],
   "source": [
    "scot_heat_prop_df_processed"
   ],
   "metadata": {
    "collapsed": false,
    "ExecuteTime": {
     "end_time": "2024-03-12T01:24:47.055998500Z",
     "start_time": "2024-03-12T01:24:46.997000800Z"
    }
   }
  },
  {
   "cell_type": "markdown",
   "source": [
    "## Now we can estimate the number of households connected to each PS"
   ],
   "metadata": {
    "collapsed": false
   }
  },
  {
   "cell_type": "code",
   "execution_count": 10,
   "outputs": [
    {
     "data": {
      "text/plain": "{'E12000001': 1175659,\n 'E12000002': 3153359,\n 'E12000003': 2330688,\n 'E12000004': 2037356,\n 'E12000005': 2429388,\n 'E12000006': 2628799,\n 'E12000007': 3423746,\n 'E12000008': 3807978,\n 'E12000009': 2448892,\n 'W92000004': 1347094}"
     },
     "execution_count": 10,
     "metadata": {},
     "output_type": "execute_result"
    }
   ],
   "source": [
    "# we first need to know the total number of households for each region.\n",
    "# For Scotland, the term region is for local authority\n",
    "scot_houseno_df = scot_heat_prop_df.iloc[:,:2].copy()\n",
    "# the number of households per LA for scotland can be aggregated from the scot_heat_prop_df at the IZ level\n",
    "# get the dict maps IZ to LA\n",
    "scot_zonelookup_dict = {scot_zonelookup_df.iloc[i][\"IZ2011_Code\"]: scot_zonelookup_df.iloc[i][\"LA_Code\"] for i in range(len(scot_zonelookup_df))}\n",
    "scot_houseno_df[\"LA_code\"] = scot_houseno_df.iloc[:,0].map(scot_zonelookup_dict)\n",
    "# get the number of households per LA\n",
    "scot_houseno_df = scot_houseno_df.groupby(by=\"LA_code\").sum(numeric_only = True).reset_index()\n",
    "scot_la2householdno_dict = {scot_houseno_df.iloc[i][\"LA_code\"]: scot_houseno_df.iloc[i][\"All occupied household spaces\"] for i in range(len(scot_houseno_df))}\n",
    "\n",
    "# for England and Wales, do the same thing\n",
    "ew_houseno_df = ew_heat_prop_df_processed[[\"MSOA_code\", \"Total Households\"]].copy()\n",
    "# load the dict\n",
    "ew_msoalookup_df = pd.read_csv(os.path.join(census_root_path, \"MSOA_2021lookup.csv\"))\n",
    "# get the dict maps MSOA to region\n",
    "ew_msoaookup_dict = {ew_msoalookup_df.iloc[i][\"MSOA21CD\"]: ew_msoalookup_df.iloc[i][\"RGN22CD\"] for i in range(len(ew_msoalookup_df))}\n",
    "# sum over the same RegID\n",
    "ew_houseno_df[\"RegID\"] = ew_houseno_df.iloc[:,0].map(ew_msoaookup_dict)\n",
    "ew_houseno_df = ew_houseno_df.groupby(by=\"RegID\").sum(numeric_only = True).reset_index()\n",
    "ew_reg2householdno_dict = {ew_houseno_df.iloc[i][\"RegID\"]: ew_houseno_df.iloc[i][\"Total Households\"] for i in range(len(ew_houseno_df))}\n",
    "\n",
    "ew_reg2householdno_dict"
   ],
   "metadata": {
    "collapsed": false,
    "ExecuteTime": {
     "end_time": "2024-03-12T01:24:48.594999300Z",
     "start_time": "2024-03-12T01:24:47.014997200Z"
    }
   }
  },
  {
   "cell_type": "code",
   "execution_count": 11,
   "outputs": [],
   "source": [
    "# based on these dicts, we can estimate the number of households connected to each PS\n",
    "la2householdno_dict = {**scot_la2householdno_dict, **ew_reg2householdno_dict}\n",
    "##\n",
    "PS_household_no_list = []\n",
    "for i in range(len(UKM_PS_df_extend)):\n",
    "    reg_code = UKM_PS_df_extend.iloc[i]['RegID']\n",
    "    demand = UKM_PS_df_extend.iloc[i]['Demand (MVA)']\n",
    "    reg_total_demand = UKM_PS_df_extend[UKM_PS_df_extend[\"RegID\"] == reg_code][\"Demand (MVA)\"].sum()\n",
    "    prop_by_demand = demand / reg_total_demand\n",
    "    household_no = prop_by_demand * la2householdno_dict[reg_code]\n",
    "\n",
    "    PS_household_no_list.append(household_no)\n",
    "\n",
    "UKM_PS_df_extend[\"Household no\"] = PS_household_no_list"
   ],
   "metadata": {
    "collapsed": false,
    "ExecuteTime": {
     "end_time": "2024-03-12T01:24:50.500998900Z",
     "start_time": "2024-03-12T01:24:48.597997200Z"
    }
   }
  },
  {
   "cell_type": "code",
   "execution_count": 12,
   "outputs": [
    {
     "data": {
      "text/plain": "                      PS Name  Firm Capacity (MVA)  Demand (MVA)        PF  \\\n0                   albion st               22.863     11.720532  0.998712   \n1         alderley & chelford               28.310     17.003134  0.975600   \n2                      alston                1.700      1.531605  0.985752   \n3                   ambleside               17.800      9.192532  0.993175   \n4     ancoats north t11 & t12               22.863     17.347102  0.992857   \n...                       ...                  ...           ...       ...   \n4200      Wribbenhall 33/11kv               23.000     14.720000       NaN   \n4201                Yelverton               10.000      5.850000       NaN   \n4202              Ynys Street               13.600      8.160000       NaN   \n4203                 Ynysfeio               10.000      6.940000       NaN   \n4204       Ystradgynlais Grid               14.000     14.000000       NaN   \n\n                               Geo(Long,Lat)                     GSP  DNO  \\\n0      -2.4950937454916797,53.73015403195597                ROCHDALE  ENW   \n1       -2.225911796847622,53.30796142675533        SOUTH MANCHESTER  ENW   \n2      -2.4352546655219385,54.81256830516162                  HUTTON  ENW   \n3       -2.963194161426022,54.42314157846089                  HUTTON  ENW   \n4     -2.2271891138444646,53.485968874301655               WHITEGATE  ENW   \n...                                      ...                     ...  ...   \n4200                         -2.3076,52.3853      Bishops Wood 132kV  WPD   \n4201                         -4.0812,50.4948  Abham_Exeter _Landulph  WPD   \n4202                         -3.7753,51.5971    Swansea North 132 kV  WPD   \n4203                         -3.5255,51.6697    Swansea North 132 kV  WPD   \n4204                         -3.7541,51.7631    Swansea North 132 kV  WPD   \n\n          RegID            RegName  Household no  \n0     E12000002         North West   6445.710749  \n1     E12000002         North West   9350.879498  \n2     E12000002         North West    842.306781  \n3     E12000002         North West   5055.436163  \n4     E12000002         North West   9540.045201  \n...         ...                ...           ...  \n4200  E12000005      West Midlands  10531.051992  \n4201  E12000009         South West   3010.314816  \n4202  W92000004  Neath Port Talbot   4712.338871  \n4203  W92000004  Rhondda Cynon Taf   4007.798011  \n4204  W92000004              Powys   8084.895122  \n\n[4205 rows x 10 columns]",
      "text/html": "<div>\n<style scoped>\n    .dataframe tbody tr th:only-of-type {\n        vertical-align: middle;\n    }\n\n    .dataframe tbody tr th {\n        vertical-align: top;\n    }\n\n    .dataframe thead th {\n        text-align: right;\n    }\n</style>\n<table border=\"1\" class=\"dataframe\">\n  <thead>\n    <tr style=\"text-align: right;\">\n      <th></th>\n      <th>PS Name</th>\n      <th>Firm Capacity (MVA)</th>\n      <th>Demand (MVA)</th>\n      <th>PF</th>\n      <th>Geo(Long,Lat)</th>\n      <th>GSP</th>\n      <th>DNO</th>\n      <th>RegID</th>\n      <th>RegName</th>\n      <th>Household no</th>\n    </tr>\n  </thead>\n  <tbody>\n    <tr>\n      <th>0</th>\n      <td>albion st</td>\n      <td>22.863</td>\n      <td>11.720532</td>\n      <td>0.998712</td>\n      <td>-2.4950937454916797,53.73015403195597</td>\n      <td>ROCHDALE</td>\n      <td>ENW</td>\n      <td>E12000002</td>\n      <td>North West</td>\n      <td>6445.710749</td>\n    </tr>\n    <tr>\n      <th>1</th>\n      <td>alderley &amp; chelford</td>\n      <td>28.310</td>\n      <td>17.003134</td>\n      <td>0.975600</td>\n      <td>-2.225911796847622,53.30796142675533</td>\n      <td>SOUTH MANCHESTER</td>\n      <td>ENW</td>\n      <td>E12000002</td>\n      <td>North West</td>\n      <td>9350.879498</td>\n    </tr>\n    <tr>\n      <th>2</th>\n      <td>alston</td>\n      <td>1.700</td>\n      <td>1.531605</td>\n      <td>0.985752</td>\n      <td>-2.4352546655219385,54.81256830516162</td>\n      <td>HUTTON</td>\n      <td>ENW</td>\n      <td>E12000002</td>\n      <td>North West</td>\n      <td>842.306781</td>\n    </tr>\n    <tr>\n      <th>3</th>\n      <td>ambleside</td>\n      <td>17.800</td>\n      <td>9.192532</td>\n      <td>0.993175</td>\n      <td>-2.963194161426022,54.42314157846089</td>\n      <td>HUTTON</td>\n      <td>ENW</td>\n      <td>E12000002</td>\n      <td>North West</td>\n      <td>5055.436163</td>\n    </tr>\n    <tr>\n      <th>4</th>\n      <td>ancoats north t11 &amp; t12</td>\n      <td>22.863</td>\n      <td>17.347102</td>\n      <td>0.992857</td>\n      <td>-2.2271891138444646,53.485968874301655</td>\n      <td>WHITEGATE</td>\n      <td>ENW</td>\n      <td>E12000002</td>\n      <td>North West</td>\n      <td>9540.045201</td>\n    </tr>\n    <tr>\n      <th>...</th>\n      <td>...</td>\n      <td>...</td>\n      <td>...</td>\n      <td>...</td>\n      <td>...</td>\n      <td>...</td>\n      <td>...</td>\n      <td>...</td>\n      <td>...</td>\n      <td>...</td>\n    </tr>\n    <tr>\n      <th>4200</th>\n      <td>Wribbenhall 33/11kv</td>\n      <td>23.000</td>\n      <td>14.720000</td>\n      <td>NaN</td>\n      <td>-2.3076,52.3853</td>\n      <td>Bishops Wood 132kV</td>\n      <td>WPD</td>\n      <td>E12000005</td>\n      <td>West Midlands</td>\n      <td>10531.051992</td>\n    </tr>\n    <tr>\n      <th>4201</th>\n      <td>Yelverton</td>\n      <td>10.000</td>\n      <td>5.850000</td>\n      <td>NaN</td>\n      <td>-4.0812,50.4948</td>\n      <td>Abham_Exeter _Landulph</td>\n      <td>WPD</td>\n      <td>E12000009</td>\n      <td>South West</td>\n      <td>3010.314816</td>\n    </tr>\n    <tr>\n      <th>4202</th>\n      <td>Ynys Street</td>\n      <td>13.600</td>\n      <td>8.160000</td>\n      <td>NaN</td>\n      <td>-3.7753,51.5971</td>\n      <td>Swansea North 132 kV</td>\n      <td>WPD</td>\n      <td>W92000004</td>\n      <td>Neath Port Talbot</td>\n      <td>4712.338871</td>\n    </tr>\n    <tr>\n      <th>4203</th>\n      <td>Ynysfeio</td>\n      <td>10.000</td>\n      <td>6.940000</td>\n      <td>NaN</td>\n      <td>-3.5255,51.6697</td>\n      <td>Swansea North 132 kV</td>\n      <td>WPD</td>\n      <td>W92000004</td>\n      <td>Rhondda Cynon Taf</td>\n      <td>4007.798011</td>\n    </tr>\n    <tr>\n      <th>4204</th>\n      <td>Ystradgynlais Grid</td>\n      <td>14.000</td>\n      <td>14.000000</td>\n      <td>NaN</td>\n      <td>-3.7541,51.7631</td>\n      <td>Swansea North 132 kV</td>\n      <td>WPD</td>\n      <td>W92000004</td>\n      <td>Powys</td>\n      <td>8084.895122</td>\n    </tr>\n  </tbody>\n</table>\n<p>4205 rows × 10 columns</p>\n</div>"
     },
     "execution_count": 12,
     "metadata": {},
     "output_type": "execute_result"
    }
   ],
   "source": [
    "UKM_PS_df_extend"
   ],
   "metadata": {
    "collapsed": false,
    "ExecuteTime": {
     "end_time": "2024-03-12T01:24:50.521997700Z",
     "start_time": "2024-03-12T01:24:50.501998Z"
    }
   }
  },
  {
   "cell_type": "code",
   "execution_count": 13,
   "outputs": [
    {
     "name": "stdout",
     "output_type": "stream",
     "text": [
      "The estimation matches the summation\n"
     ]
    }
   ],
   "source": [
    "flag = round(UKM_PS_df_extend[\"Household no\"].sum()) == round(sum(scot_la2householdno_dict.values()) + sum(ew_reg2householdno_dict.values()))\n",
    "# verify if the summation of the estimated number of households connected to each PS matches the summation of the total number of households in the UKM\n",
    "if flag:\n",
    "    print(\"The estimation matches the summation\")\n",
    "else:\n",
    "    print(\"The estimation does not match the summation\")"
   ],
   "metadata": {
    "collapsed": false,
    "ExecuteTime": {
     "end_time": "2024-03-12T01:24:50.554998400Z",
     "start_time": "2024-03-12T01:24:50.518999200Z"
    }
   }
  },
  {
   "cell_type": "code",
   "execution_count": 14,
   "outputs": [
    {
     "data": {
      "text/plain": "27155736"
     },
     "execution_count": 14,
     "metadata": {},
     "output_type": "execute_result"
    }
   ],
   "source": [
    "round(sum(scot_la2householdno_dict.values()) + sum(ew_reg2householdno_dict.values()))"
   ],
   "metadata": {
    "collapsed": false,
    "ExecuteTime": {
     "end_time": "2024-03-12T01:24:50.594998300Z",
     "start_time": "2024-03-12T01:24:50.534998200Z"
    }
   }
  },
  {
   "cell_type": "code",
   "execution_count": 15,
   "outputs": [
    {
     "name": "stdout",
     "output_type": "stream",
     "text": [
      "The mean number of households for Scotland PS is 3206.4554054054056, while the median is 2877.7998450417026\n",
      "The mean number of households for England and Wales PS is 7152.36911976912, while the median is 6125.261998954594\n"
     ]
    }
   ],
   "source": [
    "# display the mean and median number of connected households for Scotland PS (RegID starging with S)\n",
    "# and those for England and Wales PS (RegID starting with E or W)\n",
    "scot_PS_household_no_mean = UKM_PS_df_extend[UKM_PS_df_extend[\"RegID\"].str.startswith(\"S\")][\"Household no\"].mean()\n",
    "scot_PS_household_no_median = UKM_PS_df_extend[UKM_PS_df_extend[\"RegID\"].str.startswith(\"S\")][\"Household no\"].median()\n",
    "ew_PS_household_no_mean = UKM_PS_df_extend[UKM_PS_df_extend[\"RegID\"].str.startswith(\"E\") | UKM_PS_df_extend[\"RegID\"].str.startswith(\"W\")][\"Household no\"].mean()\n",
    "ew_PS_household_no_median = UKM_PS_df_extend[UKM_PS_df_extend[\"RegID\"].str.startswith(\"E\") | UKM_PS_df_extend[\"RegID\"].str.startswith(\"W\")][\"Household no\"].median()\n",
    "print(f\"The mean number of households for Scotland PS is {scot_PS_household_no_mean}, while the median is {scot_PS_household_no_median}\")\n",
    "print(f\"The mean number of households for England and Wales PS is {ew_PS_household_no_mean}, while the median is {ew_PS_household_no_median}\")"
   ],
   "metadata": {
    "collapsed": false,
    "ExecuteTime": {
     "end_time": "2024-03-12T01:24:50.611997900Z",
     "start_time": "2024-03-12T01:24:50.548997800Z"
    }
   }
  },
  {
   "cell_type": "code",
   "execution_count": 16,
   "outputs": [
    {
     "name": "stdout",
     "output_type": "stream",
     "text": [
      "The mean number of households for Scotland IZ is 1855.1813917122752, while the median is 1802.0\n",
      "The mean number of households for England and Wales MSOA is 3411.7509636563877, while the median is 3302.5\n"
     ]
    }
   ],
   "source": [
    "# display the mean and median number of households for Scotland IZ in scot_heat_prop_df_processed\n",
    "# and those for England and Wales MSOA in ew_heat_prop_df_processed\n",
    "scot_IZ_household_no_mean = scot_heat_prop_df_processed[\"Total Households\"].mean()\n",
    "scot_IZ_household_no_median = scot_heat_prop_df_processed[\"Total Households\"].median()\n",
    "ew_MSOA_household_no_mean = ew_heat_prop_df_processed[\"Total Households\"].mean()\n",
    "ew_MSOA_household_no_median = ew_heat_prop_df_processed[\"Total Households\"].median()\n",
    "print(f\"The mean number of households for Scotland IZ is {scot_IZ_household_no_mean}, while the median is {scot_IZ_household_no_median}\")\n",
    "print(f\"The mean number of households for England and Wales MSOA is {ew_MSOA_household_no_mean}, while the median is {ew_MSOA_household_no_median}\")"
   ],
   "metadata": {
    "collapsed": false,
    "ExecuteTime": {
     "end_time": "2024-03-12T01:24:50.639998300Z",
     "start_time": "2024-03-12T01:24:50.563998400Z"
    }
   }
  },
  {
   "cell_type": "markdown",
   "source": [
    "## Now we can link the PSs to other census data \n",
    "The mean and median number of households for an MSOA are 3412 and 3202. The mean and median household numbers of an IZ are 1855 and 1802. A PS can roughly support two MSOAs or two IZs in England or Scotland. Therefore, we may estimate the household heating attributes for each PS by finding the two nearest MSOA or IZ for each PS and then combine the information."
   ],
   "metadata": {
    "collapsed": false
   }
  },
  {
   "cell_type": "markdown",
   "source": [
    "### Step 1 get the two nearest MSOA or IZ for each PS by KNN"
   ],
   "metadata": {
    "collapsed": false
   }
  },
  {
   "cell_type": "code",
   "execution_count": 17,
   "outputs": [
    {
     "data": {
      "text/plain": "         ZoneID                           Geo(Long,Lat)\n0     S02001236    -2.268110228575192,57.09985072971953\n1     S02001237   -2.2302460609539563,57.10766050782388\n2     S02001238    -2.191231202546192,57.11634991250586\n3     S02001239    -2.134120238399147,57.12258648772218\n4     S02001240    -2.118878345318312,57.13342645999975\n...         ...                                     ...\n8538  E02007042   -1.4265155562151268,54.34008565351061\n8539  E02001686  -1.7253957290254134,54.959494966987506\n8540  E02004011     -2.74303745278021,54.66619873935894\n8541  E02003245  -0.2760936797319316,52.592223233110445\n8542  E02003994  -2.9523290340085087,54.889143127353684\n\n[8543 rows x 2 columns]",
      "text/html": "<div>\n<style scoped>\n    .dataframe tbody tr th:only-of-type {\n        vertical-align: middle;\n    }\n\n    .dataframe tbody tr th {\n        vertical-align: top;\n    }\n\n    .dataframe thead th {\n        text-align: right;\n    }\n</style>\n<table border=\"1\" class=\"dataframe\">\n  <thead>\n    <tr style=\"text-align: right;\">\n      <th></th>\n      <th>ZoneID</th>\n      <th>Geo(Long,Lat)</th>\n    </tr>\n  </thead>\n  <tbody>\n    <tr>\n      <th>0</th>\n      <td>S02001236</td>\n      <td>-2.268110228575192,57.09985072971953</td>\n    </tr>\n    <tr>\n      <th>1</th>\n      <td>S02001237</td>\n      <td>-2.2302460609539563,57.10766050782388</td>\n    </tr>\n    <tr>\n      <th>2</th>\n      <td>S02001238</td>\n      <td>-2.191231202546192,57.11634991250586</td>\n    </tr>\n    <tr>\n      <th>3</th>\n      <td>S02001239</td>\n      <td>-2.134120238399147,57.12258648772218</td>\n    </tr>\n    <tr>\n      <th>4</th>\n      <td>S02001240</td>\n      <td>-2.118878345318312,57.13342645999975</td>\n    </tr>\n    <tr>\n      <th>...</th>\n      <td>...</td>\n      <td>...</td>\n    </tr>\n    <tr>\n      <th>8538</th>\n      <td>E02007042</td>\n      <td>-1.4265155562151268,54.34008565351061</td>\n    </tr>\n    <tr>\n      <th>8539</th>\n      <td>E02001686</td>\n      <td>-1.7253957290254134,54.959494966987506</td>\n    </tr>\n    <tr>\n      <th>8540</th>\n      <td>E02004011</td>\n      <td>-2.74303745278021,54.66619873935894</td>\n    </tr>\n    <tr>\n      <th>8541</th>\n      <td>E02003245</td>\n      <td>-0.2760936797319316,52.592223233110445</td>\n    </tr>\n    <tr>\n      <th>8542</th>\n      <td>E02003994</td>\n      <td>-2.9523290340085087,54.889143127353684</td>\n    </tr>\n  </tbody>\n</table>\n<p>8543 rows × 2 columns</p>\n</div>"
     },
     "execution_count": 17,
     "metadata": {},
     "output_type": "execute_result"
    }
   ],
   "source": [
    "# this cell finds the nearest intermediate zone (IZ) for Scotland, or MSOA for England and Wales for each PS \n",
    "from geopy import distance\n",
    "from sklearn.neighbors import NearestNeighbors\n",
    "\n",
    "def UK_to_lonlat(east, north):\n",
    "    # 4326 is the long, lat system while 27700 is the coordinates specified in the .proj file or read from geodf.crs\n",
    "    # this convert the location under UK map coordinate to lat, lon format\n",
    "    des_crs = CRS('EPSG:4326')\n",
    "    src_crs = CRS('EPSG:27700')\n",
    "    transformer = Transformer.from_crs(src_crs, des_crs, always_xy=True)\n",
    "    # Convert the coordinate to the destination projection system\n",
    "    lon, lat = transformer.transform(east, north)\n",
    "    return lat, lon\n",
    "\n",
    "k = 2 # the 2 nearest zones\n",
    "def nearest_zone(loc_array, zone_loc_array, k=k):\n",
    "    nbrs = NearestNeighbors(n_neighbors=k, metric=lambda x, y:distance.great_circle(x, y).km).fit(zone_loc_array)\n",
    "    distances, indices = nbrs.kneighbors(loc_array)\n",
    "    return indices\n",
    "\n",
    "def geostr2array(geostr):\n",
    "    return np.array(geostr.str.split(\",\").tolist()).astype(\"float\")\n",
    "\n",
    "### load df storing the zone id and locations of the population centroids\n",
    "root_path = os.getcwd()\n",
    "# the zone_geo_df stores the zone id and its weighted population centroids for England and Scotland and Wales\n",
    "zone_geo_df = pd.concat((gpd.read_file(os.path.join(root_path, \"Geo_data\", \"ScotInterZ2011\", \"SG_IntermediateZone_Cent_2011.shp\"))[[\"InterZone\", \"geometry\"]].rename(columns = {\"InterZone\":\"ZoneID\"}), gpd.read_file(os.path.join(root_path, \"Geo_data\", \"EngWalesMSOA_2021Dec\", \"MLSOA_(Dec_2021)_PWC_in_England_and_Wales.shp\"))[[\"MSOA21CD\", \"geometry\"]].rename(columns = {\"MSOA21CD\":\"ZoneID\"})), axis = 0).reset_index(drop=True)\n",
    "\n",
    "lonlat_list = []\n",
    "lat, lon = UK_to_lonlat(east = zone_geo_df[\"geometry\"].x, north = zone_geo_df[\"geometry\"].y)\n",
    "\n",
    "lat = pd.DataFrame(lat)\n",
    "lon = pd.DataFrame(lon)\n",
    "\n",
    "zone_geo_df[\"Geo(Long,Lat)\"] = lon.astype(\"str\")+','+lat.astype(\"str\")\n",
    "zone_geo_df.drop(columns=[\"geometry\"], inplace=True)\n",
    "zone_geo_df"
   ],
   "metadata": {
    "collapsed": false,
    "ExecuteTime": {
     "end_time": "2024-03-12T01:24:52.463002800Z",
     "start_time": "2024-03-12T01:24:50.577998100Z"
    }
   }
  },
  {
   "cell_type": "code",
   "execution_count": 18,
   "outputs": [],
   "source": [
    "# now find the two nearest zones for each PS\n",
    "nearest_zone_idx = nearest_zone(geostr2array(UKM_PS_df_extend[\"Geo(Long,Lat)\"]), geostr2array(zone_geo_df[\"Geo(Long,Lat)\"]))\n",
    "nearest_zone_code = zone_geo_df[\"ZoneID\"].values[nearest_zone_idx]\n",
    "UKM_PS_df_extend[\"Zone\"] = list(nearest_zone_code)\n",
    "for i in range(k):\n",
    "    UKM_PS_df_extend[f\"NearestZone{i}\"] = UKM_PS_df_extend[\"Zone\"].str[i]\n",
    "\n",
    "UKM_PS_df_extend.drop(columns=[\"Zone\"], inplace=True)"
   ],
   "metadata": {
    "collapsed": false,
    "ExecuteTime": {
     "end_time": "2024-03-12T01:25:15.043017400Z",
     "start_time": "2024-03-12T01:24:52.459004400Z"
    }
   }
  },
  {
   "cell_type": "code",
   "execution_count": 19,
   "outputs": [
    {
     "data": {
      "text/plain": "                      PS Name  Firm Capacity (MVA)  Demand (MVA)        PF  \\\n0                   albion st               22.863     11.720532  0.998712   \n1         alderley & chelford               28.310     17.003134  0.975600   \n2                      alston                1.700      1.531605  0.985752   \n3                   ambleside               17.800      9.192532  0.993175   \n4     ancoats north t11 & t12               22.863     17.347102  0.992857   \n...                       ...                  ...           ...       ...   \n4200      Wribbenhall 33/11kv               23.000     14.720000       NaN   \n4201                Yelverton               10.000      5.850000       NaN   \n4202              Ynys Street               13.600      8.160000       NaN   \n4203                 Ynysfeio               10.000      6.940000       NaN   \n4204       Ystradgynlais Grid               14.000     14.000000       NaN   \n\n                               Geo(Long,Lat)                     GSP  DNO  \\\n0      -2.4950937454916797,53.73015403195597                ROCHDALE  ENW   \n1       -2.225911796847622,53.30796142675533        SOUTH MANCHESTER  ENW   \n2      -2.4352546655219385,54.81256830516162                  HUTTON  ENW   \n3       -2.963194161426022,54.42314157846089                  HUTTON  ENW   \n4     -2.2271891138444646,53.485968874301655               WHITEGATE  ENW   \n...                                      ...                     ...  ...   \n4200                         -2.3076,52.3853      Bishops Wood 132kV  WPD   \n4201                         -4.0812,50.4948  Abham_Exeter _Landulph  WPD   \n4202                         -3.7753,51.5971    Swansea North 132 kV  WPD   \n4203                         -3.5255,51.6697    Swansea North 132 kV  WPD   \n4204                         -3.7541,51.7631    Swansea North 132 kV  WPD   \n\n          RegID            RegName  Household no NearestZone0 NearestZone1  \n0     E12000002         North West   6445.710749    E02002623    E02002627  \n1     E12000002         North West   9350.879498    E02003864    E02003858  \n2     E12000002         North West    842.306781    E02005728    E02004008  \n3     E12000002         North West   5055.436163    E02004015    E02004016  \n4     E12000002         North West   9540.045201    E02006902    E02006912  \n...         ...                ...           ...          ...          ...  \n4200  E12000005      West Midlands  10531.051992    E02006771    E02006777  \n4201  E12000009         South West   3010.314816    E02004234    E02004235  \n4202  W92000004  Neath Port Talbot   4712.338871    W02000216    W02000215  \n4203  W92000004  Rhondda Cynon Taf   4007.798011    W02000258    W02000261  \n4204  W92000004              Powys   8084.895122    W02000416    W02000200  \n\n[4205 rows x 12 columns]",
      "text/html": "<div>\n<style scoped>\n    .dataframe tbody tr th:only-of-type {\n        vertical-align: middle;\n    }\n\n    .dataframe tbody tr th {\n        vertical-align: top;\n    }\n\n    .dataframe thead th {\n        text-align: right;\n    }\n</style>\n<table border=\"1\" class=\"dataframe\">\n  <thead>\n    <tr style=\"text-align: right;\">\n      <th></th>\n      <th>PS Name</th>\n      <th>Firm Capacity (MVA)</th>\n      <th>Demand (MVA)</th>\n      <th>PF</th>\n      <th>Geo(Long,Lat)</th>\n      <th>GSP</th>\n      <th>DNO</th>\n      <th>RegID</th>\n      <th>RegName</th>\n      <th>Household no</th>\n      <th>NearestZone0</th>\n      <th>NearestZone1</th>\n    </tr>\n  </thead>\n  <tbody>\n    <tr>\n      <th>0</th>\n      <td>albion st</td>\n      <td>22.863</td>\n      <td>11.720532</td>\n      <td>0.998712</td>\n      <td>-2.4950937454916797,53.73015403195597</td>\n      <td>ROCHDALE</td>\n      <td>ENW</td>\n      <td>E12000002</td>\n      <td>North West</td>\n      <td>6445.710749</td>\n      <td>E02002623</td>\n      <td>E02002627</td>\n    </tr>\n    <tr>\n      <th>1</th>\n      <td>alderley &amp; chelford</td>\n      <td>28.310</td>\n      <td>17.003134</td>\n      <td>0.975600</td>\n      <td>-2.225911796847622,53.30796142675533</td>\n      <td>SOUTH MANCHESTER</td>\n      <td>ENW</td>\n      <td>E12000002</td>\n      <td>North West</td>\n      <td>9350.879498</td>\n      <td>E02003864</td>\n      <td>E02003858</td>\n    </tr>\n    <tr>\n      <th>2</th>\n      <td>alston</td>\n      <td>1.700</td>\n      <td>1.531605</td>\n      <td>0.985752</td>\n      <td>-2.4352546655219385,54.81256830516162</td>\n      <td>HUTTON</td>\n      <td>ENW</td>\n      <td>E12000002</td>\n      <td>North West</td>\n      <td>842.306781</td>\n      <td>E02005728</td>\n      <td>E02004008</td>\n    </tr>\n    <tr>\n      <th>3</th>\n      <td>ambleside</td>\n      <td>17.800</td>\n      <td>9.192532</td>\n      <td>0.993175</td>\n      <td>-2.963194161426022,54.42314157846089</td>\n      <td>HUTTON</td>\n      <td>ENW</td>\n      <td>E12000002</td>\n      <td>North West</td>\n      <td>5055.436163</td>\n      <td>E02004015</td>\n      <td>E02004016</td>\n    </tr>\n    <tr>\n      <th>4</th>\n      <td>ancoats north t11 &amp; t12</td>\n      <td>22.863</td>\n      <td>17.347102</td>\n      <td>0.992857</td>\n      <td>-2.2271891138444646,53.485968874301655</td>\n      <td>WHITEGATE</td>\n      <td>ENW</td>\n      <td>E12000002</td>\n      <td>North West</td>\n      <td>9540.045201</td>\n      <td>E02006902</td>\n      <td>E02006912</td>\n    </tr>\n    <tr>\n      <th>...</th>\n      <td>...</td>\n      <td>...</td>\n      <td>...</td>\n      <td>...</td>\n      <td>...</td>\n      <td>...</td>\n      <td>...</td>\n      <td>...</td>\n      <td>...</td>\n      <td>...</td>\n      <td>...</td>\n      <td>...</td>\n    </tr>\n    <tr>\n      <th>4200</th>\n      <td>Wribbenhall 33/11kv</td>\n      <td>23.000</td>\n      <td>14.720000</td>\n      <td>NaN</td>\n      <td>-2.3076,52.3853</td>\n      <td>Bishops Wood 132kV</td>\n      <td>WPD</td>\n      <td>E12000005</td>\n      <td>West Midlands</td>\n      <td>10531.051992</td>\n      <td>E02006771</td>\n      <td>E02006777</td>\n    </tr>\n    <tr>\n      <th>4201</th>\n      <td>Yelverton</td>\n      <td>10.000</td>\n      <td>5.850000</td>\n      <td>NaN</td>\n      <td>-4.0812,50.4948</td>\n      <td>Abham_Exeter _Landulph</td>\n      <td>WPD</td>\n      <td>E12000009</td>\n      <td>South West</td>\n      <td>3010.314816</td>\n      <td>E02004234</td>\n      <td>E02004235</td>\n    </tr>\n    <tr>\n      <th>4202</th>\n      <td>Ynys Street</td>\n      <td>13.600</td>\n      <td>8.160000</td>\n      <td>NaN</td>\n      <td>-3.7753,51.5971</td>\n      <td>Swansea North 132 kV</td>\n      <td>WPD</td>\n      <td>W92000004</td>\n      <td>Neath Port Talbot</td>\n      <td>4712.338871</td>\n      <td>W02000216</td>\n      <td>W02000215</td>\n    </tr>\n    <tr>\n      <th>4203</th>\n      <td>Ynysfeio</td>\n      <td>10.000</td>\n      <td>6.940000</td>\n      <td>NaN</td>\n      <td>-3.5255,51.6697</td>\n      <td>Swansea North 132 kV</td>\n      <td>WPD</td>\n      <td>W92000004</td>\n      <td>Rhondda Cynon Taf</td>\n      <td>4007.798011</td>\n      <td>W02000258</td>\n      <td>W02000261</td>\n    </tr>\n    <tr>\n      <th>4204</th>\n      <td>Ystradgynlais Grid</td>\n      <td>14.000</td>\n      <td>14.000000</td>\n      <td>NaN</td>\n      <td>-3.7541,51.7631</td>\n      <td>Swansea North 132 kV</td>\n      <td>WPD</td>\n      <td>W92000004</td>\n      <td>Powys</td>\n      <td>8084.895122</td>\n      <td>W02000416</td>\n      <td>W02000200</td>\n    </tr>\n  </tbody>\n</table>\n<p>4205 rows × 12 columns</p>\n</div>"
     },
     "execution_count": 19,
     "metadata": {},
     "output_type": "execute_result"
    }
   ],
   "source": [
    "UKM_PS_df_extend"
   ],
   "metadata": {
    "collapsed": false,
    "ExecuteTime": {
     "end_time": "2024-03-12T01:25:15.056020200Z",
     "start_time": "2024-03-12T01:25:15.034017100Z"
    }
   }
  },
  {
   "cell_type": "markdown",
   "source": [
    "### Step 2 combine information"
   ],
   "metadata": {
    "collapsed": false
   }
  },
  {
   "cell_type": "code",
   "execution_count": 20,
   "outputs": [],
   "source": [
    "# first combine the Scotland, England, and Wales Census heating data\n",
    "processed_heat_prop_df = pd.concat([scot_heat_prop_df_processed.rename(columns = {\"IZ_code\":\"ZoneID\"}), ew_heat_prop_df_processed.rename(columns = {\"MSOA_code\":\"ZoneID\"})], axis=0).reset_index(drop=True)\n",
    "\n",
    "# enumerate atributes to be included\n",
    "for atr in processed_heat_prop_df.columns[2:]:\n",
    "    atr_res = 0\n",
    "    tot_number = 0\n",
    "    for i in range(k):\n",
    "        atr_res += UKM_PS_df_extend[f\"NearestZone{i}\"].map(processed_heat_prop_df.set_index(\"ZoneID\")[atr])\n",
    "        tot_number += UKM_PS_df_extend[f\"NearestZone{i}\"].map(processed_heat_prop_df.set_index(\"ZoneID\")[\"Total Households\"])\n",
    "    # this propotion is the weighted average of the attributes of the two nearest zones\n",
    "    atr_prop = atr_res / tot_number\n",
    "    UKM_PS_df_extend[atr] = atr_prop * UKM_PS_df_extend[\"Household no\"]\n",
    "    \n",
    "    # To ensure consistency, calibrate so that the summed PS heating attribute match the summed census heating attribute in the UKM for each attribute\n",
    "    processed_heat_prop_df_sum = processed_heat_prop_df[atr].sum()\n",
    "    UKM_PS_df_extend_sum = UKM_PS_df_extend[atr].sum()\n",
    "    UKM_PS_df_extend[atr] = UKM_PS_df_extend[atr] * processed_heat_prop_df_sum / UKM_PS_df_extend_sum"
   ],
   "metadata": {
    "collapsed": false,
    "ExecuteTime": {
     "end_time": "2024-03-12T01:25:15.157016800Z",
     "start_time": "2024-03-12T01:25:15.050018Z"
    }
   }
  },
  {
   "cell_type": "code",
   "execution_count": 21,
   "outputs": [
    {
     "name": "stdout",
     "output_type": "stream",
     "text": [
      "The estimation matches the summation\n"
     ]
    }
   ],
   "source": [
    "# verification, sum over all the atr in processed_heat_prop_df and compare the summation in UKM_PS_df_extend\n",
    "processed_heat_prop_df_sum = processed_heat_prop_df.iloc[:,2:].sum(axis=0)\n",
    "UKM_PS_df_extend_sum = UKM_PS_df_extend.iloc[:, -len(processed_heat_prop_df.columns[2:]):].sum(axis=0)\n",
    "\n",
    "flag = np.allclose(processed_heat_prop_df_sum, UKM_PS_df_extend_sum)\n",
    "# print if the estimation match the summation\n",
    "if flag:\n",
    "    print(\"The estimation matches the summation\")\n",
    "else:\n",
    "    print(\"The estimation does not match the summation\")"
   ],
   "metadata": {
    "collapsed": false,
    "ExecuteTime": {
     "end_time": "2024-03-12T01:25:15.160018800Z",
     "start_time": "2024-03-12T01:25:15.130017100Z"
    }
   }
  },
  {
   "cell_type": "code",
   "execution_count": 22,
   "outputs": [
    {
     "name": "stderr",
     "output_type": "stream",
     "text": [
      "C:\\Users\\Zhou_Ming\\AppData\\Local\\Temp\\ipykernel_36560\\1032193298.py:1: FutureWarning: The default value of numeric_only in DataFrame.min is deprecated. In a future version, it will default to False. In addition, specifying 'numeric_only=None' is deprecated. Select only valid columns or specify the value of numeric_only to silence this warning.\n",
      "  UKM_PS_df_extend.min()\n"
     ]
    },
    {
     "data": {
      "text/plain": "PS Name                                                                                                 Aaronsons\nFirm Capacity (MVA)                                                                                     -1.384539\nDemand (MVA)                                                                                                  0.0\nPF                                                                                                      -0.992422\nGeo(Long,Lat)                                                            -0.0016544782309627724,51.45862753684987\nDNO                                                                                                           ENW\nRegID                                                                                                   E12000001\nRegName                                                                                             Aberdeen City\nHousehold no                                                                                                  0.0\nNearestZone0                                                                                            E02000001\nNearestZone1                                                                                            E02000001\nNo central heating                                                                                            0.0\nGas central heating                                                                                           0.0\nElectric (including storage heaters) central heating                                                          0.0\nOil central heating                                                                                           0.0\nSolid fuel (for example wood, coal) central heating                                                           0.0\nOther central heating                                                                                         0.0\nTwo or more types of central heating                                                                          0.0\nDistrict or communal heat networks only                                                                       0.0\nDoes not apply                                                                                                NaN\nRenewable energy only                                                                                         0.0\nTank or bottled gas only                                                                                      0.0\nTwo or more types of central heating (including renewable energy)                                             0.0\nTwo or more types of central heating (not including renewable energy)                                         0.0\nWood only                                                                                                     0.0\ndtype: object"
     },
     "execution_count": 22,
     "metadata": {},
     "output_type": "execute_result"
    }
   ],
   "source": [
    "UKM_PS_df_extend.min()"
   ],
   "metadata": {
    "collapsed": false,
    "ExecuteTime": {
     "end_time": "2024-03-12T01:25:15.161018300Z",
     "start_time": "2024-03-12T01:25:15.145018500Z"
    }
   }
  },
  {
   "cell_type": "markdown",
   "source": [
    "The \"Does not apply\" attribute is all NaN, as all the Does not apply entries in the Census data are 0. Therefore we can drop this columns"
   ],
   "metadata": {
    "collapsed": false
   }
  },
  {
   "cell_type": "code",
   "execution_count": 23,
   "outputs": [
    {
     "data": {
      "text/plain": "                      PS Name  Firm Capacity (MVA)  Demand (MVA)        PF  \\\n0                   albion st               22.863     11.720532  0.998712   \n1         alderley & chelford               28.310     17.003134  0.975600   \n2                      alston                1.700      1.531605  0.985752   \n3                   ambleside               17.800      9.192532  0.993175   \n4     ancoats north t11 & t12               22.863     17.347102  0.992857   \n...                       ...                  ...           ...       ...   \n4200      Wribbenhall 33/11kv               23.000     14.720000       NaN   \n4201                Yelverton               10.000      5.850000       NaN   \n4202              Ynys Street               13.600      8.160000       NaN   \n4203                 Ynysfeio               10.000      6.940000       NaN   \n4204       Ystradgynlais Grid               14.000     14.000000       NaN   \n\n                               Geo(Long,Lat)                     GSP  DNO  \\\n0      -2.4950937454916797,53.73015403195597                ROCHDALE  ENW   \n1       -2.225911796847622,53.30796142675533        SOUTH MANCHESTER  ENW   \n2      -2.4352546655219385,54.81256830516162                  HUTTON  ENW   \n3       -2.963194161426022,54.42314157846089                  HUTTON  ENW   \n4     -2.2271891138444646,53.485968874301655               WHITEGATE  ENW   \n...                                      ...                     ...  ...   \n4200                         -2.3076,52.3853      Bishops Wood 132kV  WPD   \n4201                         -4.0812,50.4948  Abham_Exeter _Landulph  WPD   \n4202                         -3.7753,51.5971    Swansea North 132 kV  WPD   \n4203                         -3.5255,51.6697    Swansea North 132 kV  WPD   \n4204                         -3.7541,51.7631    Swansea North 132 kV  WPD   \n\n          RegID            RegName  Household no  ... Oil central heating  \\\n0     E12000002         North West   6445.710749  ...           13.843756   \n1     E12000002         North West   9350.879498  ...          312.908489   \n2     E12000002         North West    842.306781  ...          257.439274   \n3     E12000002         North West   5055.436163  ...          306.343411   \n4     E12000002         North West   9540.045201  ...           11.121471   \n...         ...                ...           ...  ...                 ...   \n4200  E12000005      West Midlands  10531.051992  ...         1184.878683   \n4201  E12000009         South West   3010.314816  ...          602.334773   \n4202  W92000004  Neath Port Talbot   4712.338871  ...           14.238258   \n4203  W92000004  Rhondda Cynon Taf   4007.798011  ...            5.828742   \n4204  W92000004              Powys   8084.895122  ...         1878.466172   \n\n     Solid fuel (for example wood, coal) central heating  \\\n0                                              6.393299    \n1                                              5.787992    \n2                                             42.054448    \n3                                             13.740994    \n4                                              0.000000    \n...                                                 ...    \n4200                                          82.873261    \n4201                                          11.016985    \n4202                                           7.380649    \n4203                                          15.141485    \n4204                                         374.080286    \n\n      Other central heating  Two or more types of central heating  \\\n0                 81.271327                                   NaN   \n1                 49.231458                                   NaN   \n2                  3.721955                                   NaN   \n3                 20.978111                                   NaN   \n4                 88.333325                                   NaN   \n...                     ...                                   ...   \n4200              46.147482                                   NaN   \n4201               9.105249                                   NaN   \n4202              41.559511                                   NaN   \n4203              20.757416                                   NaN   \n4204              24.420264                                   NaN   \n\n      District or communal heat networks only  Renewable energy only  \\\n0                                   25.842230               8.609238   \n1                                   22.420714              42.283147   \n2                                    2.052989              16.086390   \n3                                   17.356939              37.238631   \n4                                  140.874982              20.748861   \n...                                       ...                    ...   \n4200                                 3.563621              68.145650   \n4201                                 0.000000              42.632565   \n4202                                12.204482               3.162348   \n4203                                 0.485739               5.437219   \n4204                                24.000994              63.566906   \n\n      Tank or bottled gas only  \\\n0                    22.812810   \n1                   125.109085   \n2                    41.864637   \n3                    83.329347   \n4                    35.948760   \n...                        ...   \n4200               1112.910852   \n4201                121.992099   \n4202                 23.205067   \n4203                 16.624127   \n4204                242.025496   \n\n      Two or more types of central heating (including renewable energy)  \\\n0                                             16.323852                   \n1                                             43.557198                   \n2                                             12.899932                   \n3                                             46.048457                   \n4                                             38.306312                   \n...                                                 ...                   \n4200                                          71.322586                   \n4201                                          44.726515                   \n4202                                          12.623330                   \n4203                                          38.660376                   \n4204                                          44.285472                   \n\n      Two or more types of central heating (not including renewable energy)  \\\n0                                            627.086473                       \n1                                            784.555804                       \n2                                            136.839930                       \n3                                            629.659635                       \n4                                            307.596062                       \n...                                                 ...                       \n4200                                        1365.056248                       \n4201                                         451.594227                       \n4202                                         360.045450                       \n4203                                         273.386160                       \n4204                                         693.435883                       \n\n      Wood only  \n0      1.832652  \n1     13.065724  \n2     18.956040  \n3     36.188496  \n4      2.208410  \n...         ...  \n4200  74.300022  \n4201  38.395132  \n4202   4.039022  \n4203   1.446779  \n4204  43.402974  \n\n[4205 rows x 25 columns]",
      "text/html": "<div>\n<style scoped>\n    .dataframe tbody tr th:only-of-type {\n        vertical-align: middle;\n    }\n\n    .dataframe tbody tr th {\n        vertical-align: top;\n    }\n\n    .dataframe thead th {\n        text-align: right;\n    }\n</style>\n<table border=\"1\" class=\"dataframe\">\n  <thead>\n    <tr style=\"text-align: right;\">\n      <th></th>\n      <th>PS Name</th>\n      <th>Firm Capacity (MVA)</th>\n      <th>Demand (MVA)</th>\n      <th>PF</th>\n      <th>Geo(Long,Lat)</th>\n      <th>GSP</th>\n      <th>DNO</th>\n      <th>RegID</th>\n      <th>RegName</th>\n      <th>Household no</th>\n      <th>...</th>\n      <th>Oil central heating</th>\n      <th>Solid fuel (for example wood, coal) central heating</th>\n      <th>Other central heating</th>\n      <th>Two or more types of central heating</th>\n      <th>District or communal heat networks only</th>\n      <th>Renewable energy only</th>\n      <th>Tank or bottled gas only</th>\n      <th>Two or more types of central heating (including renewable energy)</th>\n      <th>Two or more types of central heating (not including renewable energy)</th>\n      <th>Wood only</th>\n    </tr>\n  </thead>\n  <tbody>\n    <tr>\n      <th>0</th>\n      <td>albion st</td>\n      <td>22.863</td>\n      <td>11.720532</td>\n      <td>0.998712</td>\n      <td>-2.4950937454916797,53.73015403195597</td>\n      <td>ROCHDALE</td>\n      <td>ENW</td>\n      <td>E12000002</td>\n      <td>North West</td>\n      <td>6445.710749</td>\n      <td>...</td>\n      <td>13.843756</td>\n      <td>6.393299</td>\n      <td>81.271327</td>\n      <td>NaN</td>\n      <td>25.842230</td>\n      <td>8.609238</td>\n      <td>22.812810</td>\n      <td>16.323852</td>\n      <td>627.086473</td>\n      <td>1.832652</td>\n    </tr>\n    <tr>\n      <th>1</th>\n      <td>alderley &amp; chelford</td>\n      <td>28.310</td>\n      <td>17.003134</td>\n      <td>0.975600</td>\n      <td>-2.225911796847622,53.30796142675533</td>\n      <td>SOUTH MANCHESTER</td>\n      <td>ENW</td>\n      <td>E12000002</td>\n      <td>North West</td>\n      <td>9350.879498</td>\n      <td>...</td>\n      <td>312.908489</td>\n      <td>5.787992</td>\n      <td>49.231458</td>\n      <td>NaN</td>\n      <td>22.420714</td>\n      <td>42.283147</td>\n      <td>125.109085</td>\n      <td>43.557198</td>\n      <td>784.555804</td>\n      <td>13.065724</td>\n    </tr>\n    <tr>\n      <th>2</th>\n      <td>alston</td>\n      <td>1.700</td>\n      <td>1.531605</td>\n      <td>0.985752</td>\n      <td>-2.4352546655219385,54.81256830516162</td>\n      <td>HUTTON</td>\n      <td>ENW</td>\n      <td>E12000002</td>\n      <td>North West</td>\n      <td>842.306781</td>\n      <td>...</td>\n      <td>257.439274</td>\n      <td>42.054448</td>\n      <td>3.721955</td>\n      <td>NaN</td>\n      <td>2.052989</td>\n      <td>16.086390</td>\n      <td>41.864637</td>\n      <td>12.899932</td>\n      <td>136.839930</td>\n      <td>18.956040</td>\n    </tr>\n    <tr>\n      <th>3</th>\n      <td>ambleside</td>\n      <td>17.800</td>\n      <td>9.192532</td>\n      <td>0.993175</td>\n      <td>-2.963194161426022,54.42314157846089</td>\n      <td>HUTTON</td>\n      <td>ENW</td>\n      <td>E12000002</td>\n      <td>North West</td>\n      <td>5055.436163</td>\n      <td>...</td>\n      <td>306.343411</td>\n      <td>13.740994</td>\n      <td>20.978111</td>\n      <td>NaN</td>\n      <td>17.356939</td>\n      <td>37.238631</td>\n      <td>83.329347</td>\n      <td>46.048457</td>\n      <td>629.659635</td>\n      <td>36.188496</td>\n    </tr>\n    <tr>\n      <th>4</th>\n      <td>ancoats north t11 &amp; t12</td>\n      <td>22.863</td>\n      <td>17.347102</td>\n      <td>0.992857</td>\n      <td>-2.2271891138444646,53.485968874301655</td>\n      <td>WHITEGATE</td>\n      <td>ENW</td>\n      <td>E12000002</td>\n      <td>North West</td>\n      <td>9540.045201</td>\n      <td>...</td>\n      <td>11.121471</td>\n      <td>0.000000</td>\n      <td>88.333325</td>\n      <td>NaN</td>\n      <td>140.874982</td>\n      <td>20.748861</td>\n      <td>35.948760</td>\n      <td>38.306312</td>\n      <td>307.596062</td>\n      <td>2.208410</td>\n    </tr>\n    <tr>\n      <th>...</th>\n      <td>...</td>\n      <td>...</td>\n      <td>...</td>\n      <td>...</td>\n      <td>...</td>\n      <td>...</td>\n      <td>...</td>\n      <td>...</td>\n      <td>...</td>\n      <td>...</td>\n      <td>...</td>\n      <td>...</td>\n      <td>...</td>\n      <td>...</td>\n      <td>...</td>\n      <td>...</td>\n      <td>...</td>\n      <td>...</td>\n      <td>...</td>\n      <td>...</td>\n      <td>...</td>\n    </tr>\n    <tr>\n      <th>4200</th>\n      <td>Wribbenhall 33/11kv</td>\n      <td>23.000</td>\n      <td>14.720000</td>\n      <td>NaN</td>\n      <td>-2.3076,52.3853</td>\n      <td>Bishops Wood 132kV</td>\n      <td>WPD</td>\n      <td>E12000005</td>\n      <td>West Midlands</td>\n      <td>10531.051992</td>\n      <td>...</td>\n      <td>1184.878683</td>\n      <td>82.873261</td>\n      <td>46.147482</td>\n      <td>NaN</td>\n      <td>3.563621</td>\n      <td>68.145650</td>\n      <td>1112.910852</td>\n      <td>71.322586</td>\n      <td>1365.056248</td>\n      <td>74.300022</td>\n    </tr>\n    <tr>\n      <th>4201</th>\n      <td>Yelverton</td>\n      <td>10.000</td>\n      <td>5.850000</td>\n      <td>NaN</td>\n      <td>-4.0812,50.4948</td>\n      <td>Abham_Exeter _Landulph</td>\n      <td>WPD</td>\n      <td>E12000009</td>\n      <td>South West</td>\n      <td>3010.314816</td>\n      <td>...</td>\n      <td>602.334773</td>\n      <td>11.016985</td>\n      <td>9.105249</td>\n      <td>NaN</td>\n      <td>0.000000</td>\n      <td>42.632565</td>\n      <td>121.992099</td>\n      <td>44.726515</td>\n      <td>451.594227</td>\n      <td>38.395132</td>\n    </tr>\n    <tr>\n      <th>4202</th>\n      <td>Ynys Street</td>\n      <td>13.600</td>\n      <td>8.160000</td>\n      <td>NaN</td>\n      <td>-3.7753,51.5971</td>\n      <td>Swansea North 132 kV</td>\n      <td>WPD</td>\n      <td>W92000004</td>\n      <td>Neath Port Talbot</td>\n      <td>4712.338871</td>\n      <td>...</td>\n      <td>14.238258</td>\n      <td>7.380649</td>\n      <td>41.559511</td>\n      <td>NaN</td>\n      <td>12.204482</td>\n      <td>3.162348</td>\n      <td>23.205067</td>\n      <td>12.623330</td>\n      <td>360.045450</td>\n      <td>4.039022</td>\n    </tr>\n    <tr>\n      <th>4203</th>\n      <td>Ynysfeio</td>\n      <td>10.000</td>\n      <td>6.940000</td>\n      <td>NaN</td>\n      <td>-3.5255,51.6697</td>\n      <td>Swansea North 132 kV</td>\n      <td>WPD</td>\n      <td>W92000004</td>\n      <td>Rhondda Cynon Taf</td>\n      <td>4007.798011</td>\n      <td>...</td>\n      <td>5.828742</td>\n      <td>15.141485</td>\n      <td>20.757416</td>\n      <td>NaN</td>\n      <td>0.485739</td>\n      <td>5.437219</td>\n      <td>16.624127</td>\n      <td>38.660376</td>\n      <td>273.386160</td>\n      <td>1.446779</td>\n    </tr>\n    <tr>\n      <th>4204</th>\n      <td>Ystradgynlais Grid</td>\n      <td>14.000</td>\n      <td>14.000000</td>\n      <td>NaN</td>\n      <td>-3.7541,51.7631</td>\n      <td>Swansea North 132 kV</td>\n      <td>WPD</td>\n      <td>W92000004</td>\n      <td>Powys</td>\n      <td>8084.895122</td>\n      <td>...</td>\n      <td>1878.466172</td>\n      <td>374.080286</td>\n      <td>24.420264</td>\n      <td>NaN</td>\n      <td>24.000994</td>\n      <td>63.566906</td>\n      <td>242.025496</td>\n      <td>44.285472</td>\n      <td>693.435883</td>\n      <td>43.402974</td>\n    </tr>\n  </tbody>\n</table>\n<p>4205 rows × 25 columns</p>\n</div>"
     },
     "execution_count": 23,
     "metadata": {},
     "output_type": "execute_result"
    }
   ],
   "source": [
    "UKM_PS_df_extend.drop(columns = \"Does not apply\", inplace = True)\n",
    "# save UKM_PS_df_extend\n",
    "UKM_PS_df_extend.to_csv(os.path.join(os.path.dirname(network_root_path), \"UKM_PS_data_extend.csv\"), index = False)\n",
    "UKM_PS_df_extend    "
   ],
   "metadata": {
    "collapsed": false,
    "ExecuteTime": {
     "end_time": "2024-03-12T01:25:15.244017300Z",
     "start_time": "2024-03-12T01:25:15.159020Z"
    }
   }
  },
  {
   "cell_type": "code",
   "execution_count": 24,
   "outputs": [
    {
     "data": {
      "text/plain": "0       0.827065\n1       0.756643\n2       0.336398\n3       0.656389\n4       0.152476\n          ...   \n4200    0.576662\n4201    0.511524\n4202    0.860303\n4203    0.896846\n4204    0.583685\nLength: 4205, dtype: float64"
     },
     "execution_count": 24,
     "metadata": {},
     "output_type": "execute_result"
    }
   ],
   "source": [
    "UKM_PS_df_extend[\"Gas central heating\"] / UKM_PS_df_extend[\"Household no\"]"
   ],
   "metadata": {
    "collapsed": false,
    "ExecuteTime": {
     "end_time": "2024-03-12T01:25:15.255017500Z",
     "start_time": "2024-03-12T01:25:15.239017200Z"
    }
   }
  },
  {
   "cell_type": "code",
   "execution_count": 25,
   "outputs": [
    {
     "data": {
      "text/plain": "0.7387065112136898"
     },
     "execution_count": 25,
     "metadata": {},
     "output_type": "execute_result"
    }
   ],
   "source": [
    "UKM_PS_df_extend[\"Gas central heating\"].sum() / UKM_PS_df_extend[\"Household no\"].sum()"
   ],
   "metadata": {
    "collapsed": false,
    "ExecuteTime": {
     "end_time": "2024-03-12T01:25:15.286017600Z",
     "start_time": "2024-03-12T01:25:15.256017Z"
    }
   }
  },
  {
   "cell_type": "code",
   "execution_count": 26,
   "outputs": [
    {
     "data": {
      "text/plain": "0.7387065112136898"
     },
     "execution_count": 26,
     "metadata": {},
     "output_type": "execute_result"
    }
   ],
   "source": [
    "processed_heat_prop_df[\"Gas central heating\"].sum() / processed_heat_prop_df[\"Total Households\"].sum()"
   ],
   "metadata": {
    "collapsed": false,
    "ExecuteTime": {
     "end_time": "2024-03-12T01:25:15.314019500Z",
     "start_time": "2024-03-12T01:25:15.271017800Z"
    }
   }
  },
  {
   "cell_type": "code",
   "execution_count": 27,
   "outputs": [
    {
     "data": {
      "text/plain": "(27155736.0, 27155736.0)"
     },
     "execution_count": 27,
     "metadata": {},
     "output_type": "execute_result"
    }
   ],
   "source": [
    "UKM_PS_df_extend[\"Household no\"].sum(), processed_heat_prop_df[\"Total Households\"].sum()"
   ],
   "metadata": {
    "collapsed": false,
    "ExecuteTime": {
     "end_time": "2024-03-12T01:25:15.356017900Z",
     "start_time": "2024-03-12T01:25:15.286017600Z"
    }
   }
  },
  {
   "cell_type": "code",
   "execution_count": 28,
   "outputs": [
    {
     "data": {
      "text/plain": "         ZoneID  Total Households  No central heating  Gas central heating  \\\n0     S02001236            2143.0                27.0               1683.0   \n1     S02001237            1428.0                12.0               1218.0   \n2     S02001238            2291.0                13.0               2033.0   \n3     S02001239            2439.0                39.0               1995.0   \n4     S02001240            2193.0                64.0               1894.0   \n...         ...               ...                 ...                  ...   \n8538  W02000424            2970.0                 8.0               2397.0   \n8539  W02000425            2872.0                18.0               1600.0   \n8540  W02000426            4395.0                32.0               3871.0   \n8541  W02000427            4890.0                41.0               4015.0   \n8542  W02000428            4426.0                19.0               3824.0   \n\n      Electric (including storage heaters) central heating  \\\n0                                                 264.0      \n1                                                  48.0      \n2                                                 157.0      \n3                                                 334.0      \n4                                                 192.0      \n...                                                 ...      \n8538                                               67.0      \n8539                                              143.0      \n8540                                               85.0      \n8541                                              110.0      \n8542                                               78.0      \n\n      Oil central heating  \\\n0                   108.0   \n1                   117.0   \n2                    57.0   \n3                     8.0   \n4                     3.0   \n...                   ...   \n8538                145.0   \n8539                577.0   \n8540                 30.0   \n8541                136.0   \n8542                 59.0   \n\n      Solid fuel (for example wood, coal) central heating  \\\n0                                                  10.0     \n1                                                   1.0     \n2                                                   1.0     \n3                                                   2.0     \n4                                                   0.0     \n...                                                 ...     \n8538                                                7.0     \n8539                                               16.0     \n8540                                                3.0     \n8541                                               94.0     \n8542                                               15.0     \n\n      Other central heating  Two or more types of central heating  \\\n0                       7.0                                  44.0   \n1                      10.0                                  22.0   \n2                       2.0                                  28.0   \n3                       7.0                                  54.0   \n4                       4.0                                  36.0   \n...                     ...                                   ...   \n8538                    8.0                                   NaN   \n8539                    4.0                                   NaN   \n8540                   10.0                                   NaN   \n8541                   22.0                                   NaN   \n8542                   10.0                                   NaN   \n\n      District or communal heat networks only  Does not apply  \\\n0                                         NaN             NaN   \n1                                         NaN             NaN   \n2                                         NaN             NaN   \n3                                         NaN             NaN   \n4                                         NaN             NaN   \n...                                       ...             ...   \n8538                                      2.0             0.0   \n8539                                      5.0             0.0   \n8540                                      2.0             0.0   \n8541                                      3.0             0.0   \n8542                                      1.0             0.0   \n\n      Renewable energy only  Tank or bottled gas only  \\\n0                       NaN                       NaN   \n1                       NaN                       NaN   \n2                       NaN                       NaN   \n3                       NaN                       NaN   \n4                       NaN                       NaN   \n...                     ...                       ...   \n8538                    9.0                      56.0   \n8539                   19.0                     183.0   \n8540                    4.0                      18.0   \n8541                    7.0                      53.0   \n8542                   12.0                      27.0   \n\n      Two or more types of central heating (including renewable energy)  \\\n0                                                   NaN                   \n1                                                   NaN                   \n2                                                   NaN                   \n3                                                   NaN                   \n4                                                   NaN                   \n...                                                 ...                   \n8538                                               19.0                   \n8539                                               20.0                   \n8540                                               12.0                   \n8541                                               14.0                   \n8542                                               18.0                   \n\n      Two or more types of central heating (not including renewable energy)  \\\n0                                                   NaN                       \n1                                                   NaN                       \n2                                                   NaN                       \n3                                                   NaN                       \n4                                                   NaN                       \n...                                                 ...                       \n8538                                              249.0                       \n8539                                              272.0                       \n8540                                              326.0                       \n8541                                              381.0                       \n8542                                              357.0                       \n\n      Wood only  \n0           NaN  \n1           NaN  \n2           NaN  \n3           NaN  \n4           NaN  \n...         ...  \n8538        3.0  \n8539       15.0  \n8540        2.0  \n8541       14.0  \n8542        6.0  \n\n[8543 rows x 16 columns]",
      "text/html": "<div>\n<style scoped>\n    .dataframe tbody tr th:only-of-type {\n        vertical-align: middle;\n    }\n\n    .dataframe tbody tr th {\n        vertical-align: top;\n    }\n\n    .dataframe thead th {\n        text-align: right;\n    }\n</style>\n<table border=\"1\" class=\"dataframe\">\n  <thead>\n    <tr style=\"text-align: right;\">\n      <th></th>\n      <th>ZoneID</th>\n      <th>Total Households</th>\n      <th>No central heating</th>\n      <th>Gas central heating</th>\n      <th>Electric (including storage heaters) central heating</th>\n      <th>Oil central heating</th>\n      <th>Solid fuel (for example wood, coal) central heating</th>\n      <th>Other central heating</th>\n      <th>Two or more types of central heating</th>\n      <th>District or communal heat networks only</th>\n      <th>Does not apply</th>\n      <th>Renewable energy only</th>\n      <th>Tank or bottled gas only</th>\n      <th>Two or more types of central heating (including renewable energy)</th>\n      <th>Two or more types of central heating (not including renewable energy)</th>\n      <th>Wood only</th>\n    </tr>\n  </thead>\n  <tbody>\n    <tr>\n      <th>0</th>\n      <td>S02001236</td>\n      <td>2143.0</td>\n      <td>27.0</td>\n      <td>1683.0</td>\n      <td>264.0</td>\n      <td>108.0</td>\n      <td>10.0</td>\n      <td>7.0</td>\n      <td>44.0</td>\n      <td>NaN</td>\n      <td>NaN</td>\n      <td>NaN</td>\n      <td>NaN</td>\n      <td>NaN</td>\n      <td>NaN</td>\n      <td>NaN</td>\n    </tr>\n    <tr>\n      <th>1</th>\n      <td>S02001237</td>\n      <td>1428.0</td>\n      <td>12.0</td>\n      <td>1218.0</td>\n      <td>48.0</td>\n      <td>117.0</td>\n      <td>1.0</td>\n      <td>10.0</td>\n      <td>22.0</td>\n      <td>NaN</td>\n      <td>NaN</td>\n      <td>NaN</td>\n      <td>NaN</td>\n      <td>NaN</td>\n      <td>NaN</td>\n      <td>NaN</td>\n    </tr>\n    <tr>\n      <th>2</th>\n      <td>S02001238</td>\n      <td>2291.0</td>\n      <td>13.0</td>\n      <td>2033.0</td>\n      <td>157.0</td>\n      <td>57.0</td>\n      <td>1.0</td>\n      <td>2.0</td>\n      <td>28.0</td>\n      <td>NaN</td>\n      <td>NaN</td>\n      <td>NaN</td>\n      <td>NaN</td>\n      <td>NaN</td>\n      <td>NaN</td>\n      <td>NaN</td>\n    </tr>\n    <tr>\n      <th>3</th>\n      <td>S02001239</td>\n      <td>2439.0</td>\n      <td>39.0</td>\n      <td>1995.0</td>\n      <td>334.0</td>\n      <td>8.0</td>\n      <td>2.0</td>\n      <td>7.0</td>\n      <td>54.0</td>\n      <td>NaN</td>\n      <td>NaN</td>\n      <td>NaN</td>\n      <td>NaN</td>\n      <td>NaN</td>\n      <td>NaN</td>\n      <td>NaN</td>\n    </tr>\n    <tr>\n      <th>4</th>\n      <td>S02001240</td>\n      <td>2193.0</td>\n      <td>64.0</td>\n      <td>1894.0</td>\n      <td>192.0</td>\n      <td>3.0</td>\n      <td>0.0</td>\n      <td>4.0</td>\n      <td>36.0</td>\n      <td>NaN</td>\n      <td>NaN</td>\n      <td>NaN</td>\n      <td>NaN</td>\n      <td>NaN</td>\n      <td>NaN</td>\n      <td>NaN</td>\n    </tr>\n    <tr>\n      <th>...</th>\n      <td>...</td>\n      <td>...</td>\n      <td>...</td>\n      <td>...</td>\n      <td>...</td>\n      <td>...</td>\n      <td>...</td>\n      <td>...</td>\n      <td>...</td>\n      <td>...</td>\n      <td>...</td>\n      <td>...</td>\n      <td>...</td>\n      <td>...</td>\n      <td>...</td>\n      <td>...</td>\n    </tr>\n    <tr>\n      <th>8538</th>\n      <td>W02000424</td>\n      <td>2970.0</td>\n      <td>8.0</td>\n      <td>2397.0</td>\n      <td>67.0</td>\n      <td>145.0</td>\n      <td>7.0</td>\n      <td>8.0</td>\n      <td>NaN</td>\n      <td>2.0</td>\n      <td>0.0</td>\n      <td>9.0</td>\n      <td>56.0</td>\n      <td>19.0</td>\n      <td>249.0</td>\n      <td>3.0</td>\n    </tr>\n    <tr>\n      <th>8539</th>\n      <td>W02000425</td>\n      <td>2872.0</td>\n      <td>18.0</td>\n      <td>1600.0</td>\n      <td>143.0</td>\n      <td>577.0</td>\n      <td>16.0</td>\n      <td>4.0</td>\n      <td>NaN</td>\n      <td>5.0</td>\n      <td>0.0</td>\n      <td>19.0</td>\n      <td>183.0</td>\n      <td>20.0</td>\n      <td>272.0</td>\n      <td>15.0</td>\n    </tr>\n    <tr>\n      <th>8540</th>\n      <td>W02000426</td>\n      <td>4395.0</td>\n      <td>32.0</td>\n      <td>3871.0</td>\n      <td>85.0</td>\n      <td>30.0</td>\n      <td>3.0</td>\n      <td>10.0</td>\n      <td>NaN</td>\n      <td>2.0</td>\n      <td>0.0</td>\n      <td>4.0</td>\n      <td>18.0</td>\n      <td>12.0</td>\n      <td>326.0</td>\n      <td>2.0</td>\n    </tr>\n    <tr>\n      <th>8541</th>\n      <td>W02000427</td>\n      <td>4890.0</td>\n      <td>41.0</td>\n      <td>4015.0</td>\n      <td>110.0</td>\n      <td>136.0</td>\n      <td>94.0</td>\n      <td>22.0</td>\n      <td>NaN</td>\n      <td>3.0</td>\n      <td>0.0</td>\n      <td>7.0</td>\n      <td>53.0</td>\n      <td>14.0</td>\n      <td>381.0</td>\n      <td>14.0</td>\n    </tr>\n    <tr>\n      <th>8542</th>\n      <td>W02000428</td>\n      <td>4426.0</td>\n      <td>19.0</td>\n      <td>3824.0</td>\n      <td>78.0</td>\n      <td>59.0</td>\n      <td>15.0</td>\n      <td>10.0</td>\n      <td>NaN</td>\n      <td>1.0</td>\n      <td>0.0</td>\n      <td>12.0</td>\n      <td>27.0</td>\n      <td>18.0</td>\n      <td>357.0</td>\n      <td>6.0</td>\n    </tr>\n  </tbody>\n</table>\n<p>8543 rows × 16 columns</p>\n</div>"
     },
     "execution_count": 28,
     "metadata": {},
     "output_type": "execute_result"
    }
   ],
   "source": [
    "processed_heat_prop_df"
   ],
   "metadata": {
    "collapsed": false,
    "ExecuteTime": {
     "end_time": "2024-03-12T01:25:15.376016700Z",
     "start_time": "2024-03-12T01:25:15.301017400Z"
    }
   }
  },
  {
   "cell_type": "code",
   "execution_count": 29,
   "outputs": [
    {
     "data": {
      "text/plain": "27155736.0"
     },
     "execution_count": 29,
     "metadata": {},
     "output_type": "execute_result"
    }
   ],
   "source": [
    "processed_heat_prop_df.iloc[:,2:].sum(axis=0).sum()"
   ],
   "metadata": {
    "collapsed": false,
    "ExecuteTime": {
     "end_time": "2024-03-12T01:25:15.396016900Z",
     "start_time": "2024-03-12T01:25:15.333019Z"
    }
   }
  },
  {
   "cell_type": "code",
   "execution_count": 30,
   "outputs": [
    {
     "data": {
      "text/plain": "0        6445.710749\n1        9350.879498\n2         842.306781\n3        5055.436163\n4        9540.045201\n            ...     \n4200    10531.051992\n4201     3010.314816\n4202     4712.338871\n4203     4007.798011\n4204     8084.895122\nName: Household no, Length: 4205, dtype: float64"
     },
     "execution_count": 30,
     "metadata": {},
     "output_type": "execute_result"
    }
   ],
   "source": [
    "UKM_PS_df_extend[\"Household no\"]"
   ],
   "metadata": {
    "collapsed": false,
    "ExecuteTime": {
     "end_time": "2024-03-12T01:25:15.398017300Z",
     "start_time": "2024-03-12T01:25:15.348017600Z"
    }
   }
  },
  {
   "cell_type": "code",
   "execution_count": 31,
   "outputs": [
    {
     "name": "stderr",
     "output_type": "stream",
     "text": [
      "C:\\Users\\Zhou_Ming\\AppData\\Local\\Temp\\ipykernel_36560\\2334878521.py:1: FutureWarning: Dropping of nuisance columns in DataFrame reductions (with 'numeric_only=None') is deprecated; in a future version this will raise TypeError.  Select only valid columns before calling the reduction.\n",
      "  household_no_1 = UKM_PS_df_extend.iloc[:, -len(processed_heat_prop_df.columns[2:]):].sum(axis=1)\n"
     ]
    },
    {
     "data": {
      "text/plain": "1.5228581611076357"
     },
     "execution_count": 31,
     "metadata": {},
     "output_type": "execute_result"
    }
   ],
   "source": [
    "household_no_1 = UKM_PS_df_extend.iloc[:, -len(processed_heat_prop_df.columns[2:]):].sum(axis=1)\n",
    "household_no_0 = UKM_PS_df_extend[\"Household no\"]\n",
    "# calculate MAPE\n",
    "MAPE = np.mean(np.abs((household_no_1 - household_no_0) / household_no_0)) * 100\n",
    "MAPE"
   ],
   "metadata": {
    "collapsed": false,
    "ExecuteTime": {
     "end_time": "2024-03-12T01:25:15.399017300Z",
     "start_time": "2024-03-12T01:25:15.363020100Z"
    }
   }
  },
  {
   "cell_type": "code",
   "execution_count": 31,
   "outputs": [],
   "source": [],
   "metadata": {
    "collapsed": false,
    "ExecuteTime": {
     "end_time": "2024-03-12T01:25:15.400016500Z",
     "start_time": "2024-03-12T01:25:15.378020200Z"
    }
   }
  }
 ],
 "metadata": {
  "kernelspec": {
   "display_name": "Python 3",
   "language": "python",
   "name": "python3"
  },
  "language_info": {
   "codemirror_mode": {
    "name": "ipython",
    "version": 2
   },
   "file_extension": ".py",
   "mimetype": "text/x-python",
   "name": "python",
   "nbconvert_exporter": "python",
   "pygments_lexer": "ipython2",
   "version": "2.7.6"
  }
 },
 "nbformat": 4,
 "nbformat_minor": 0
}
